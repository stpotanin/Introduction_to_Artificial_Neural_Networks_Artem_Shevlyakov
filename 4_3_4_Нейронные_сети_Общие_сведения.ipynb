{
  "nbformat": 4,
  "nbformat_minor": 0,
  "metadata": {
    "colab": {
      "provenance": [],
      "authorship_tag": "ABX9TyOhQkJWbPlFdFAPmMPeHiKI"
    },
    "kernelspec": {
      "name": "python3",
      "display_name": "Python 3"
    },
    "language_info": {
      "name": "python"
    }
  },
  "cells": [
    {
      "cell_type": "markdown",
      "source": [
        "https://stepik.org/lesson/573077/step/4\n",
        "\n",
        "Ниже приведена нейросеть с известными значениями весов. Все функции активации - это $Relu$. Чему равен выход нейросети, если $х=2$?\n",
        "\n",
        "<img src='https://ucarecdn.com/9de725ed-0934-4ab4-a47f-52ac07d10154/'>"
      ],
      "metadata": {
        "id": "QQocGdVnyWEy"
      }
    },
    {
      "cell_type": "code",
      "source": [
        "# 4"
      ],
      "metadata": {
        "id": "7J_2xbWA5JtA"
      },
      "execution_count": null,
      "outputs": []
    },
    {
      "cell_type": "markdown",
      "source": [
        "# Решение\n",
        "$x=2$\n",
        "```\n",
        "Relu(x) = x if x > 0 else 0\n",
        "```\n",
        "$f=Relu((-2Relu((x)+1)+4Relu((2x)-5))+10)$\n",
        "\n",
        "$f=Relu((-2*3+4*0)+10)$\n",
        "\n",
        "$f=Relu(4)=4$"
      ],
      "metadata": {
        "id": "p43FhN3-y8qt"
      }
    },
    {
      "cell_type": "code",
      "source": [
        "#@title Проверка\n",
        "x = 2\n",
        "Relu = lambda x: max(0, x)\n",
        "Relu((-2*Relu((x)+1)+4*Relu((2*x)-5))+10)"
      ],
      "metadata": {
        "colab": {
          "base_uri": "https://localhost:8080/"
        },
        "id": "e0eaomwu45mc",
        "outputId": "193cd7f2-d107-4f4d-9a1a-e44945938c48"
      },
      "execution_count": null,
      "outputs": [
        {
          "output_type": "execute_result",
          "data": {
            "text/plain": [
              "4"
            ]
          },
          "metadata": {},
          "execution_count": 15
        }
      ]
    },
    {
      "cell_type": "code",
      "source": [
        "import numpy as np\n",
        "from sympy import Matrix # для красивого вывода матриц\n",
        "\n",
        "W = np.array([[1, -2],\n",
        "              [2, 4]])\n",
        "print('Матрица W:\\n')\n",
        "display(Matrix(W))\n",
        "print('\\nМатрица b:\\n')\n",
        "b = np.array([1, -5])\n",
        "display(Matrix(b))\n",
        "relu = lambda x: np.maximum(0, x)\n",
        "x = np.array([2])\n",
        "\n",
        "Matrix(relu(x @ W.T + b))"
      ],
      "metadata": {
        "colab": {
          "base_uri": "https://localhost:8080/",
          "height": 344
        },
        "id": "HnMmgQOyK7BO",
        "outputId": "77c8144f-9512-4600-f3fe-87a2b365c79d"
      },
      "execution_count": null,
      "outputs": [
        {
          "output_type": "stream",
          "name": "stdout",
          "text": [
            "Матрица W:\n",
            "\n"
          ]
        },
        {
          "output_type": "display_data",
          "data": {
            "text/plain": [
              "Matrix([\n",
              "[1, -2],\n",
              "[2,  4]])"
            ],
            "text/latex": "$\\displaystyle \\left[\\begin{matrix}1 & -2\\\\2 & 4\\end{matrix}\\right]$"
          },
          "metadata": {}
        },
        {
          "output_type": "stream",
          "name": "stdout",
          "text": [
            "\n",
            "Матрица b:\n",
            "\n"
          ]
        },
        {
          "output_type": "display_data",
          "data": {
            "text/plain": [
              "Matrix([\n",
              "[ 1],\n",
              "[-5]])"
            ],
            "text/latex": "$\\displaystyle \\left[\\begin{matrix}1\\\\-5\\end{matrix}\\right]$"
          },
          "metadata": {}
        },
        {
          "output_type": "error",
          "ename": "ValueError",
          "evalue": "matmul: Input operand 1 has a mismatch in its core dimension 0, with gufunc signature (n?,k),(k,m?)->(n?,m?) (size 2 is different from 1)",
          "traceback": [
            "\u001b[0;31m---------------------------------------------------------------------------\u001b[0m",
            "\u001b[0;31mValueError\u001b[0m                                Traceback (most recent call last)",
            "\u001b[0;32m<ipython-input-1-71d87c36cbcb>\u001b[0m in \u001b[0;36m<cell line: 14>\u001b[0;34m()\u001b[0m\n\u001b[1;32m     12\u001b[0m \u001b[0mx\u001b[0m \u001b[0;34m=\u001b[0m \u001b[0mnp\u001b[0m\u001b[0;34m.\u001b[0m\u001b[0marray\u001b[0m\u001b[0;34m(\u001b[0m\u001b[0;34m[\u001b[0m\u001b[0;36m2\u001b[0m\u001b[0;34m]\u001b[0m\u001b[0;34m)\u001b[0m\u001b[0;34m\u001b[0m\u001b[0;34m\u001b[0m\u001b[0m\n\u001b[1;32m     13\u001b[0m \u001b[0;34m\u001b[0m\u001b[0m\n\u001b[0;32m---> 14\u001b[0;31m \u001b[0mMatrix\u001b[0m\u001b[0;34m(\u001b[0m\u001b[0mrelu\u001b[0m\u001b[0;34m(\u001b[0m\u001b[0mx\u001b[0m \u001b[0;34m@\u001b[0m \u001b[0mW\u001b[0m\u001b[0;34m.\u001b[0m\u001b[0mT\u001b[0m \u001b[0;34m+\u001b[0m \u001b[0mb\u001b[0m\u001b[0;34m)\u001b[0m\u001b[0;34m)\u001b[0m\u001b[0;34m\u001b[0m\u001b[0;34m\u001b[0m\u001b[0m\n\u001b[0m",
            "\u001b[0;31mValueError\u001b[0m: matmul: Input operand 1 has a mismatch in its core dimension 0, with gufunc signature (n?,k),(k,m?)->(n?,m?) (size 2 is different from 1)"
          ]
        }
      ]
    },
    {
      "cell_type": "code",
      "source": [
        "# Vadim Kopeykin https://stepik.org/lesson/573077/step/4?discussion=8493459&thread=solutions&unit=567626\n",
        "\n",
        "import numpy as np\n",
        "\n",
        "x = np.array([2])\n",
        "weights = [np.array([[1],\n",
        "                    [2]]),\n",
        "           np.array([-2, 4])]\n",
        "\n",
        "biases = [np.array([1, -5]),\n",
        "          np.array([10])]\n",
        "\n",
        "relu = lambda x: np.maximum(0, x)\n",
        "for w, b in zip(weights, biases):\n",
        "    x = relu(x @ w.T + b)\n",
        "print(x)"
      ],
      "metadata": {
        "id": "I0YWP7np4V57",
        "colab": {
          "base_uri": "https://localhost:8080/"
        },
        "outputId": "2e3fe7a9-bde7-4a65-f784-a70b764a5ddf"
      },
      "execution_count": null,
      "outputs": [
        {
          "output_type": "execute_result",
          "data": {
            "text/plain": [
              "array([4])"
            ]
          },
          "metadata": {},
          "execution_count": 5
        }
      ]
    },
    {
      "cell_type": "code",
      "source": [
        "import numpy as np\n",
        "\n",
        "relu = lambda x: np.maximum(0, x)\n",
        "\n",
        "# Входное значение x\n",
        "x = np.array([2])\n",
        "\n",
        "# Первый слой: матрица весов и вектор смещений\n",
        "W1 = np.array([[1],   # Коэффициент для первой функции: x + 1\n",
        "               [2]])  # Коэффициент для второй функции: 2 * x - 5\n",
        "\n",
        "B1 = np.array([1, -5])  # Вектор смещений: +1 и -5\n",
        "\n",
        "# Применяем первую линейную трансформацию и ReLU\n",
        "z1 = relu(x @ W1.T + B1)\n",
        "\n",
        "# Второй слой: матрица весов для финальной комбинации\n",
        "W2 = np.array([-2, 4])  # Коэффициенты -2 и 4\n",
        "B2 = 10  # Смещение +10\n",
        "\n",
        "# Применяем вторую линейную трансформацию\n",
        "result = z1 @ W2.T + B2\n",
        "\n",
        "# Вывод результата\n",
        "print('Результат:\\n')\n",
        "print(result)  # Ожидается результат 4\n"
      ],
      "metadata": {
        "colab": {
          "base_uri": "https://localhost:8080/"
        },
        "id": "jZkRoB6sNy9P",
        "outputId": "2119ce36-911e-4cb4-ce47-24216337d587"
      },
      "execution_count": null,
      "outputs": [
        {
          "output_type": "stream",
          "name": "stdout",
          "text": [
            "Результат:\n",
            "\n",
            "4\n"
          ]
        }
      ]
    },
    {
      "cell_type": "code",
      "source": [
        "import numpy as np\n",
        "\n",
        "# Определение функции ReLU\n",
        "relu = lambda x: np.maximum(0, x)\n",
        "\n",
        "# Входное значение x\n",
        "x = np.array([2])\n",
        "\n",
        "# Объединенная матрица весов W и вектор смещений B\n",
        "W = [np.array([[1], [2]]),  # Весовая матрица для первого слоя\n",
        "     np.array([-2, 4])]     # Весовая матрица для второго слоя\n",
        "\n",
        "B = [np.array([1, -5]),  # Смещения для первого слоя\n",
        "     10]                 # Смещение для второго слоя\n",
        "\n",
        "# Применение слоёв с использованием цикла\n",
        "for i in range(len(W)):\n",
        "    x = x @ W[i].T + B[i]  # Линейная трансформация\n",
        "    if i < len(W) - 1:     # Применяем ReLU только после первого слоя\n",
        "        x = relu(x)\n",
        "\n",
        "# Вывод результата\n",
        "print('Результат:\\n')\n",
        "print(x)\n"
      ],
      "metadata": {
        "colab": {
          "base_uri": "https://localhost:8080/"
        },
        "id": "vRBLXij7RTtC",
        "outputId": "9fff237a-a5ef-4601-b79a-616f552aabd1"
      },
      "execution_count": null,
      "outputs": [
        {
          "output_type": "stream",
          "name": "stdout",
          "text": [
            "Результат:\n",
            "\n",
            "4\n"
          ]
        }
      ]
    },
    {
      "cell_type": "code",
      "source": [
        "#@title Форк Вадима Копейкина понятно\n",
        "import numpy as np\n",
        "\n",
        "# Определение функции ReLU\n",
        "Relu = lambda x: np.maximum(0, x)\n",
        "\n",
        "# Входное значение x\n",
        "x = np.array([2])\n",
        "\n",
        "# Объединенные веса (W) и смещения (B)\n",
        "# На первом шаге мы преобразуем x в два значения: через (2 * x + 1) и (1 * x - 5)\n",
        "# На втором шаге применяются коэффициенты -2 и 4, а потом добавляется +10\n",
        "\n",
        "W = [np.array([[1], [2]]),  # Первый слой: веса для преобразований\n",
        "     np.array([-2, 4])]     # Второй слой: веса для финального комбинирования\n",
        "\n",
        "B = [np.array([1, -5]),  # Первый слой: смещение 1, -5\n",
        "     np.array([10])]     # Второй слой: финальное смещение 10\n",
        "\n",
        "# Выполним последовательное применение слоев через цикл\n",
        "for i in range(len(W)):\n",
        "    x = Relu(x @ W[i].T + B[i])\n",
        "\n",
        "# Результат\n",
        "print(x[0])\n"
      ],
      "metadata": {
        "colab": {
          "base_uri": "https://localhost:8080/"
        },
        "id": "SdznNk8JRfuV",
        "outputId": "aeb872cd-9293-4309-c0b2-44e1a9e423de"
      },
      "execution_count": null,
      "outputs": [
        {
          "output_type": "stream",
          "name": "stdout",
          "text": [
            "4\n"
          ]
        }
      ]
    }
  ]
}