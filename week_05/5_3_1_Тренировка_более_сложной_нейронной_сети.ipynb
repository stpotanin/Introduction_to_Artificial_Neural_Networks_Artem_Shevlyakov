{
  "nbformat": 4,
  "nbformat_minor": 0,
  "metadata": {
    "colab": {
      "provenance": [],
      "authorship_tag": "ABX9TyNoDs/nkYgo/9k8ffRXCVUn"
    },
    "kernelspec": {
      "name": "python3",
      "display_name": "Python 3"
    },
    "language_info": {
      "name": "python"
    }
  },
  "cells": [
    {
      "cell_type": "markdown",
      "source": [
        "https://stepik.org/lesson/573083/step/1\n",
        "\n",
        "Нейросеть\n",
        "\n",
        "<img src='https://ucarecdn.com/bacc0f29-ecc8-47ad-b97d-ce2d393a4754/' width=400>\n",
        "\n",
        "$F_{NN}(x_1, x_2)=f(f(w_{11}x_1+w_{21}x_2)+f(w_{12}x_1+w_{22}x_2))$\n",
        "\n",
        "где $f(x) = Relu(x) = max(0, x)$\n",
        "\n",
        "Тренировочная выборка\n",
        "\n",
        "| x1 | x2 | y |\n",
        "|---|---|---|\n",
        "| 0 | 0 | 0 |\n",
        "| 0 | 1 | 1 |\n",
        "| 1 | 0 | 1 |\n",
        "| 1 | 1 | 0 |\n",
        "\n",
        "Начальные значения весов:\n",
        "\n",
        "| w11 | w12 | w21 | w22 |\n",
        "|---|---|---|---|\n",
        "| 0.5 | -0.5 | -0.5 | 0.5 |\n",
        "\n",
        "На каком шаге сойдётся алгоритм, если $h=0.1$?"
      ],
      "metadata": {
        "id": "eGEBSQlRVvZO"
      }
    },
    {
      "cell_type": "code",
      "source": [
        "import numpy as np\n",
        "\n",
        "w11, w12, w21, w22 = 0.5, -0.5, -0.5, 0.5\n",
        "\n",
        "x1 = np.array([0, 0, 1, 1])\n",
        "x2 = np.array([0, 1, 0, 1])\n",
        "y = np.array([0, 1, 1, 0])\n",
        "\n",
        "f = np.vectorize(lambda x: max(0, x)) # Relu\n",
        "# Векторизуем f_grad для обработки массивов NumPy\n",
        "f_grad = np.vectorize(lambda x: 1 if x > 0 else 0) # Relu custom gradient\n",
        "for i in range(20):\n",
        "    y_pred = np.zeros(y.shape[0])\n",
        "    for j in range(y.shape[0]):\n",
        "        y_pred[j] = f(f(w11 * x1[j] + w21 * x2[j]) + f(w12 * x1[j] + w22 * x2[j]))\n",
        "    # если решим нормировать L, нужно ниже заменить .sum() на .mean()\n",
        "    L_grad11 = 2 * (y_pred - y) * f_grad(y_pred) * w11\n",
        "    w11 -= 0.1 * L_grad11.sum()\n",
        "    L_grad12 = 2 * (y_pred - y) * f_grad(y_pred) * w12\n",
        "    w12 -= 0.1 * L_grad12.sum()\n",
        "    L_grad21 = 2 * (y_pred - y) * f_grad(y_pred) * w21\n",
        "    w21 -= 0.1 * L_grad21.sum()\n",
        "    L_grad22 = 2 * (y_pred - y) * f_grad(y_pred) * w22\n",
        "    w22 -= 0.1 * L_grad22.sum()\n",
        "    print(f\"w11 = {round(w11, 3)}, w12 = {round(w12, 3)}, w21 = {round(w21, 3)}, w22 = {round(w22, 3)}\")\n"
      ],
      "metadata": {
        "id": "huRqGLAqwMnX",
        "colab": {
          "base_uri": "https://localhost:8080/"
        },
        "outputId": "dcba4a3c-c477-40ed-be65-4e2240ec82ce"
      },
      "execution_count": null,
      "outputs": [
        {
          "output_type": "stream",
          "name": "stdout",
          "text": [
            "w11 = 0.6, w12 = -0.6, w21 = -0.6, w22 = 0.6\n",
            "w11 = 0.696, w12 = -0.696, w21 = -0.696, w22 = 0.696\n",
            "w11 = 0.781, w12 = -0.781, w21 = -0.781, w22 = 0.781\n",
            "w11 = 0.849, w12 = -0.849, w21 = -0.849, w22 = 0.849\n",
            "w11 = 0.9, w12 = -0.9, w21 = -0.9, w22 = 0.9\n",
            "w11 = 0.936, w12 = -0.936, w21 = -0.936, w22 = 0.936\n",
            "w11 = 0.96, w12 = -0.96, w21 = -0.96, w22 = 0.96\n",
            "w11 = 0.975, w12 = -0.975, w21 = -0.975, w22 = 0.975\n",
            "w11 = 0.985, w12 = -0.985, w21 = -0.985, w22 = 0.985\n",
            "w11 = 0.991, w12 = -0.991, w21 = -0.991, w22 = 0.991\n",
            "w11 = 0.995, w12 = -0.995, w21 = -0.995, w22 = 0.995\n",
            "w11 = 0.997, w12 = -0.997, w21 = -0.997, w22 = 0.997\n",
            "w11 = 0.998, w12 = -0.998, w21 = -0.998, w22 = 0.998\n",
            "w11 = 0.999, w12 = -0.999, w21 = -0.999, w22 = 0.999\n",
            "w11 = 0.999, w12 = -0.999, w21 = -0.999, w22 = 0.999\n",
            "w11 = 1.0, w12 = -1.0, w21 = -1.0, w22 = 1.0\n",
            "w11 = 1.0, w12 = -1.0, w21 = -1.0, w22 = 1.0\n",
            "w11 = 1.0, w12 = -1.0, w21 = -1.0, w22 = 1.0\n",
            "w11 = 1.0, w12 = -1.0, w21 = -1.0, w22 = 1.0\n",
            "w11 = 1.0, w12 = -1.0, w21 = -1.0, w22 = 1.0\n"
          ]
        }
      ]
    }
  ]
}