{
  "nbformat": 4,
  "nbformat_minor": 0,
  "metadata": {
    "colab": {
      "provenance": [],
      "authorship_tag": "ABX9TyP4v+fkLWtedF6m42cAtXGU"
    },
    "kernelspec": {
      "name": "python3",
      "display_name": "Python 3"
    },
    "language_info": {
      "name": "python"
    }
  },
  "cells": [
    {
      "cell_type": "markdown",
      "source": [
        "https://stepik.org/lesson/573082/step/3"
      ],
      "metadata": {
        "id": "eAfvQagFsnp9"
      }
    },
    {
      "cell_type": "code",
      "source": [
        "-0.4"
      ],
      "metadata": {
        "id": "wIeVGhjTEQG_"
      },
      "execution_count": null,
      "outputs": []
    },
    {
      "cell_type": "markdown",
      "source": [
        "# Решение"
      ],
      "metadata": {
        "id": "y1_M399fEAQx"
      }
    },
    {
      "cell_type": "code",
      "source": [
        "x = [-1, 0, 1]\n",
        "y = [1, 0, -1]\n",
        "h = 0.1\n",
        "choice = ((0, 1), (1, 2)) # батч из 1-го и 2-го объектов и батч из 2-го и 3-го на 1-м и на 2-м шагах соответственно\n",
        "a = [0, 0]      # w_0 и w_1 соответственно\n",
        "epohs = 2       # только две итерации, поскольку choice дальше не определён\n",
        "\n",
        "y_pred = lambda x: a[1] * x + a[0]\n",
        "\n",
        "for epoh in range(epohs):\n",
        "    b = choice[epoh] # выираем батч из заданного сценария\n",
        "    grad = [2 * (y_pred(x[b[0]]) - y[b[0]]) + 2 * (y_pred(x[b[1]]) - y[b[1]]),\n",
        "            2 * (y_pred(x[b[0]]) - y[b[0]]) * x[b[0]] + 2 * (y_pred(x[b[1]]) - y[b[1]]) * x[b[1]]]\n",
        "    a = [a[0] - h * grad[0],\n",
        "         a[1] - h * grad[1]]\n",
        "    print(f'epoh = {epoh+1}, w_0 = {round(a[0], 2)}, w_1 = {round(a[1], 2)}')"
      ],
      "metadata": {
        "colab": {
          "base_uri": "https://localhost:8080/"
        },
        "id": "ndJYGWZeEbFg",
        "outputId": "606ab669-a5ab-4c07-afa8-24dadaf76e5b"
      },
      "execution_count": 1,
      "outputs": [
        {
          "output_type": "stream",
          "name": "stdout",
          "text": [
            "epoh = 1, w_0 = 0.2, w_1 = -0.2\n",
            "epoh = 2, w_0 = -0.04, w_1 = -0.4\n"
          ]
        }
      ]
    }
  ]
}
