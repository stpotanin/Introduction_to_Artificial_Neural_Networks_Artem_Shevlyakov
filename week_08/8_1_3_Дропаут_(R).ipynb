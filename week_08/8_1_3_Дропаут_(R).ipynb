{
  "nbformat": 4,
  "nbformat_minor": 0,
  "metadata": {
    "colab": {
      "provenance": [],
      "authorship_tag": "ABX9TyPBYvU+qZFMNRy9b86OdUWd"
    },
    "kernelspec": {
      "name": "ir",
      "display_name": "R"
    },
    "language_info": {
      "name": "R"
    }
  },
  "cells": [
    {
      "cell_type": "markdown",
      "source": [
        "https://stepik.org/lesson/573093/step/3"
      ],
      "metadata": {
        "id": "y98l1gEnB5rP"
      }
    },
    {
      "cell_type": "code",
      "execution_count": null,
      "metadata": {
        "colab": {
          "base_uri": "https://localhost:8080/"
        },
        "id": "sBUefkaGBwb_",
        "outputId": "404c73d6-8091-4138-8d75-15536fb33c89"
      },
      "outputs": [
        {
          "output_type": "stream",
          "name": "stdout",
          "text": [
            "epoch = 1 w_0 = 1.2 w_1 = 1.6 \n"
          ]
        }
      ],
      "source": [
        "x <- c(0, 1, 2)\n",
        "y <- c(1, 2, 3)\n",
        "C <- 1\n",
        "h <- 0.1\n",
        "a <- c(0, 0)\n",
        "epoches <- 1\n",
        "# Предсказание модели:\n",
        "y_pred <- function(x) {\n",
        "  a[2] * x + a[1]\n",
        "}\n",
        "# Цикл по эпохам:\n",
        "for (epoch in 1:epoches) {\n",
        "    # Подсчёт градиента:\n",
        "    grad <- c(0, 0)\n",
        "    for (i in 1:length(x)) {\n",
        "        error <- y_pred(x[i]) - y[i]\n",
        "        grad <- grad + c(2 * error, 2 * error * x[i])\n",
        "    }\n",
        "    # Обновление весов a:\n",
        "    a <- a - h * grad\n",
        "    # Результаты эпохи:\n",
        "    cat('epoch =', epoch, 'w_0 =', round(a[1], 2), 'w_1 =', round(a[2], 2), '\\n')\n",
        "    }\n"
      ]
    }
  ]
}