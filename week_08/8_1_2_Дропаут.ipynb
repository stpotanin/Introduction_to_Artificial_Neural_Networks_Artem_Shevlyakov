{
  "nbformat": 4,
  "nbformat_minor": 0,
  "metadata": {
    "colab": {
      "provenance": [],
      "authorship_tag": "ABX9TyNF/ZmrELxKipltf9eyqM05"
    },
    "kernelspec": {
      "name": "python3",
      "display_name": "Python 3"
    },
    "language_info": {
      "name": "python"
    }
  },
  "cells": [
    {
      "cell_type": "markdown",
      "source": [
        "https://stepik.org/lesson/573093/step/2"
      ],
      "metadata": {
        "id": "vY2YJqsV_bRA"
      }
    },
    {
      "cell_type": "code",
      "execution_count": null,
      "metadata": {
        "id": "v3wP7olZ_VW_"
      },
      "outputs": [],
      "source": []
    },
    {
      "cell_type": "markdown",
      "source": [
        "# Решение"
      ],
      "metadata": {
        "id": "sb6TGZjt_dFl"
      }
    },
    {
      "cell_type": "code",
      "source": [
        "#@title Подсчёт весов с дропаутом по маске TODO\n",
        "x = [0, 1, 2]\n",
        "y = [1, 2, 3]\n",
        "h = 0.1\n",
        "C = 1\n",
        "w = [[0, 0],\n",
        "     [0, 0]] # Начальные значения всех весов равны 0\n",
        "epohs = 20\n",
        "mask = [0, 1] # уничтожен верхний нейрон\n",
        "\n",
        "# Предсказание модели с учётом дропаута:\n",
        "y_pred = lambda x: mask[0] * (w[0][1] * x + w[0][0]) + mask[1] * (w[1][1] * x + w[1][0])\n",
        "\n",
        "# Эпохи с подсчётом новых w_0, w_1 по верхнему и нижнему нейронам:\n",
        "for epoh in range(epohs):\n",
        "    grad = [[0, 0],\n",
        "            [0, 0]]\n",
        "\n",
        "    # Верхний нейрон, если выбран по маске\n",
        "    if mask[0]:\n",
        "        # Подсчёт суммы для L_grad верхнего нейрона:\n",
        "        for i in range(len(x)):\n",
        "            grad[0] = [grad[0][0] + 2 * (y_pred(x[i]) - y[i]),\n",
        "                       grad[0][1] + 2 * (y_pred(x[i]) - y[i]) * x[i]]\n",
        "        # Новые w_0, w_1 верхнего нейрона:\n",
        "        w[0] = [w[0][0] - h * grad[0][0],\n",
        "                w[0][1] - h * grad[0][1]]\n",
        "\n",
        "    # Нижний нейрон, если выбран по маске\n",
        "    if mask[1]:\n",
        "        # Подсчёт суммы для L_grad нижнего нейрона:\n",
        "        for i in range(len(x)):\n",
        "            grad[1] = [grad[1][0] + 2 * (y_pred(x[i]) - y[i]),\n",
        "                       grad[1][1] + 2 * (y_pred(x[i]) - y[i]) * x[i]]\n",
        "        # Новые w_0, w_1 нижнего нейрона:\n",
        "        w[1] = [w[1][0] - h * grad[1][0],\n",
        "                w[1][1] - h * grad[1][1]]\n",
        "\n",
        "    print('epoh =', epoh+1 , ': w_up =', [round(x, 2) for x in w[0]], '; w_down =', [round(x, 2) for x in w[1]])\n"
      ],
      "metadata": {
        "colab": {
          "base_uri": "https://localhost:8080/"
        },
        "id": "C7YTOMkjKSro",
        "outputId": "5409f684-e2a5-481b-b4fd-9933330a1857"
      },
      "execution_count": null,
      "outputs": [
        {
          "output_type": "stream",
          "name": "stdout",
          "text": [
            "epoh = 1 : w_up = [0, 0] ; w_down = [1.2, 1.6]\n",
            "epoh = 2 : w_up = [0, 0] ; w_down = [0.72, 0.88]\n",
            "epoh = 3 : w_up = [0, 0] ; w_down = [0.96, 1.17]\n",
            "epoh = 4 : w_up = [0, 0] ; w_down = [0.88, 1.02]\n",
            "epoh = 5 : w_up = [0, 0] ; w_down = [0.94, 1.07]\n",
            "epoh = 6 : w_up = [0, 0] ; w_down = [0.93, 1.04]\n",
            "epoh = 7 : w_up = [0, 0] ; w_down = [0.95, 1.04]\n",
            "epoh = 8 : w_up = [0, 0] ; w_down = [0.96, 1.03]\n",
            "epoh = 9 : w_up = [0, 0] ; w_down = [0.97, 1.03]\n",
            "epoh = 10 : w_up = [0, 0] ; w_down = [0.97, 1.02]\n"
          ]
        }
      ]
    },
    {
      "cell_type": "markdown",
      "source": [
        "# Форум"
      ],
      "metadata": {
        "id": "prnLkVh2BTp0"
      }
    },
    {
      "cell_type": "code",
      "source": [
        "# Vadim Kopeykin https://stepik.org/lesson/573093/step/2?discussion=8516035&thread=solutions&unit=567642\n",
        "import numpy as np\n",
        "\n",
        "x = np.array([0, 1, 2])\n",
        "y = np.array([1, 2, 3])\n",
        "drop_masks = [np.array([0, 1]), np.array([1, 0])]\n",
        "\n",
        "w1 = np.array([0., 0.]) # вектор весов 1-ого слоя нейронов\n",
        "w2 = np.array([1, 1]) # вектор весов 2-ого слоя нейронов\n",
        "\n",
        "b1 = np.array([0., 0.]) # вектор смещений 1-ого слоя нейронов\n",
        "b2 = 0 # смещение нейрона 2-ого слоя\n",
        "\n",
        "h = 0.1\n",
        "hist = []\n",
        "for i in range(1):\n",
        "    drop_mask = drop_masks[i % len(drop_masks)]\n",
        "\n",
        "    X1 = (np.outer(x, w1) + b1) * drop_mask\n",
        "    y_pred = X1 @ w2 + b2\n",
        "\n",
        "    grad_y = 2 * (y_pred - y)\n",
        "    grad_X1 = np.outer(grad_y, w2)\n",
        "\n",
        "    grad_w1 = x @ grad_X1 * drop_mask\n",
        "    grad_b1 = grad_X1.sum(0) * drop_mask\n",
        "\n",
        "    w1 -= grad_w1 * h\n",
        "    b1 -= grad_b1 * h\n",
        "    # print(f'Эпоха {i+1}:', w1 , b1)\n",
        "print(w1[1])"
      ],
      "metadata": {
        "colab": {
          "base_uri": "https://localhost:8080/"
        },
        "id": "qOHhf2slJVlk",
        "outputId": "f154968e-1baf-47c2-8d99-4ac59fe672b5"
      },
      "execution_count": null,
      "outputs": [
        {
          "output_type": "stream",
          "name": "stdout",
          "text": [
            "1.6\n"
          ]
        }
      ]
    },
    {
      "cell_type": "code",
      "source": [
        "#Дропаут для НС\n",
        "import sympy as sp\n",
        "\n",
        "# Объявляем переменные\n",
        "w1, w2, w0 = sp.symbols('w1 w2 w0 ')\n",
        "\n",
        "#Вид функции потерь\n",
        "L1 = (w0-1)**2 + (w1+w0-2)**2 + (2*w1+w0-3)**2\n",
        "L2 = (w0-1)**2 + (w2+w0-2)**2 + (2*w2+w0-3)**2\n",
        "\n",
        "# Производная L1 по w0 и w1\n",
        "dL1 = [\n",
        "    sp.lambdify((w0, w1), sp.diff(L1, w0)),\n",
        "    sp.lambdify((w0, w1), sp.diff(L1, w1))\n",
        "]\n",
        "\n",
        "# Производная L2 по w0 и w2\n",
        "dL2 = [\n",
        "    sp.lambdify((w0, w2), sp.diff(L2, w0)),\n",
        "    sp.lambdify((w0, w2), sp.diff(L2, w2))\n",
        "]\n",
        "\n",
        "# Исходные значения для ГС\n",
        "a = [0, 0]\n",
        "h = 0.1\n",
        "\n",
        "for i in range(1):\n",
        "    x0, x1 = a\n",
        "    a[0] -= h*dL2[0](x0, x1)\n",
        "    a[1] -= h*dL2[1](x0, x1)\n",
        "    print('a[', i,']=[', a[0], ',', a[1], ']', sep=' ')"
      ],
      "metadata": {
        "colab": {
          "base_uri": "https://localhost:8080/"
        },
        "id": "lfvkhnkZEOp8",
        "outputId": "70cc8c78-0a4a-43ef-aa7d-e410cb16a7e4"
      },
      "execution_count": null,
      "outputs": [
        {
          "output_type": "stream",
          "name": "stdout",
          "text": [
            "a[ 0 ]=[ 1.2000000000000002 , 1.6 ]\n"
          ]
        }
      ]
    }
  ]
}