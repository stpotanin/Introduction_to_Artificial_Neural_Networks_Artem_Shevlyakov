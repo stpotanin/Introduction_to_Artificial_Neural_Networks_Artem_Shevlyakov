{
  "nbformat": 4,
  "nbformat_minor": 0,
  "metadata": {
    "colab": {
      "provenance": [],
      "authorship_tag": "ABX9TyNvPKa7YY98qP3bB1nIIC4E"
    },
    "kernelspec": {
      "name": "ir",
      "display_name": "R"
    },
    "language_info": {
      "name": "R"
    }
  },
  "cells": [
    {
      "cell_type": "markdown",
      "source": [
        "https://stepik.org/lesson/573093/step/3"
      ],
      "metadata": {
        "id": "y98l1gEnB5rP"
      }
    },
    {
      "cell_type": "code",
      "execution_count": null,
      "metadata": {
        "colab": {
          "base_uri": "https://localhost:8080/"
        },
        "id": "sBUefkaGBwb_",
        "outputId": "fefe9b1c-9ee2-4e45-f471-0c0b85ebed4b"
      },
      "outputs": [
        {
          "output_type": "stream",
          "name": "stdout",
          "text": [
            "epoch = 1 w_0 = -0.2 w_1 = 0.2 w_2 = 0 \n"
          ]
        }
      ],
      "source": [
        "d <- data.frame(X1 = c(0, 0, 1, 1),\n",
        "                X2 = c(0, 1, 0, 1),\n",
        "                Y1 = c(0, 0, 0, 1))\n",
        "C <- 1\n",
        "h <- 0.1\n",
        "w <- c(0, 0)\n",
        "bias <- 0\n",
        "mask <- c(1, 0)\n",
        "epoches <- 1\n",
        "\n",
        "# Предсказание модели:\n",
        "y_pred <- function(x) {\n",
        "  mask[1] * w[1] * x[1] + mask[2] * w[2] * x[2] + bias\n",
        "}\n",
        "\n",
        "# Цикл по эпохам:\n",
        "for (epoch in 1:epoches) {\n",
        "    # Подсчёт градиента:\n",
        "    grad <- c(0, 0)\n",
        "    grad_bias <- 0\n",
        "    for (i in 1:nrow(d)) {\n",
        "        error <- y_pred(unlist(d[i, c(\"X1\", \"X2\")])) - d$Y1[i]\n",
        "        grad <- grad + 2 * c(error * d$X1[i] * mask[1], error * d$X2[i] * mask[2])\n",
        "        grad_bias <- grad_bias + 2 * error\n",
        "    }\n",
        "    # # Обновление весов w и bias:\n",
        "    w <- w - h * grad\n",
        "    bias <- h * grad_bias\n",
        "    # Результаты эпохи:\n",
        "    cat('epoch =', epoch, 'w_0 =', round(bias, 2), 'w_1 =', round(w[1], 2), 'w_2 =', round(w[2], 2), '\\n')\n",
        "}\n"
      ]
    }
  ]
}
