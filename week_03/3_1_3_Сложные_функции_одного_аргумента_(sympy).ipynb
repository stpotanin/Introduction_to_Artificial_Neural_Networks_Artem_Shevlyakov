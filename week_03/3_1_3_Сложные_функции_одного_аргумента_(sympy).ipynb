{
  "nbformat": 4,
  "nbformat_minor": 0,
  "metadata": {
    "colab": {
      "provenance": [],
      "authorship_tag": "ABX9TyPvO9+m5+JKe2Thvys1jgiO"
    },
    "kernelspec": {
      "name": "python3",
      "display_name": "Python 3"
    },
    "language_info": {
      "name": "python"
    }
  },
  "cells": [
    {
      "cell_type": "markdown",
      "source": [
        "https://stepik.org/lesson/572877/step/3\n",
        "\n",
        "А теперь более сложная сложная функция (простите за каламбур). Чему равна производная функции $f(x)=(sin10x)^2$? В ответ напишите значение $f'(π/40)$."
      ],
      "metadata": {
        "id": "QQocGdVnyWEy"
      }
    },
    {
      "cell_type": "markdown",
      "source": [
        "# Решение\n",
        "\n",
        "$f(x)=(sin10x)^2$\n",
        "\n",
        "$f'(x) = 2sin10x * cos10x * 10$\n",
        "\n",
        "$f'(0) = 2sin(\\pi/4) * cos(\\pi/4) * 10 = 2(\\sqrt2 / 2) * (\\sqrt2 / 2) * 10 = 10$"
      ],
      "metadata": {
        "id": "m6HqvjnsRm0Q"
      }
    },
    {
      "cell_type": "code",
      "source": [
        "#@title sympy + IPython.display\n",
        "\n",
        "from sympy import symbols, sin, exp, pi, diff\n",
        "from IPython.display import display\n",
        "\n",
        "x = symbols('x')\n",
        "f = sin(10 * x)**2\n",
        "\n",
        "print('Производная по x:\\n')\n",
        "display(diff(f, x))  # Важно использовать display\n",
        "\n",
        "print('\\nПроизводная по x в точкке 0:\\n')\n",
        "diff(f, x).subs({x:pi/40})"
      ],
      "metadata": {
        "id": "7J_2xbWA5JtA",
        "outputId": "91ccec17-cf65-4614-e851-d9d3d5e92bc5",
        "colab": {
          "base_uri": "https://localhost:8080/",
          "height": 146
        }
      },
      "execution_count": null,
      "outputs": [
        {
          "output_type": "stream",
          "name": "stdout",
          "text": [
            "Производная по x:\n",
            "\n"
          ]
        },
        {
          "output_type": "display_data",
          "data": {
            "text/plain": [
              "20*sin(10*x)*cos(10*x)"
            ],
            "text/latex": "$\\displaystyle 20 \\sin{\\left(10 x \\right)} \\cos{\\left(10 x \\right)}$"
          },
          "metadata": {}
        },
        {
          "output_type": "stream",
          "name": "stdout",
          "text": [
            "\n",
            "Производная по x в точкке 0:\n",
            "\n"
          ]
        },
        {
          "output_type": "execute_result",
          "data": {
            "text/plain": [
              "10"
            ],
            "text/latex": "$\\displaystyle 10$"
          },
          "metadata": {},
          "execution_count": 2
        }
      ]
    }
  ]
}