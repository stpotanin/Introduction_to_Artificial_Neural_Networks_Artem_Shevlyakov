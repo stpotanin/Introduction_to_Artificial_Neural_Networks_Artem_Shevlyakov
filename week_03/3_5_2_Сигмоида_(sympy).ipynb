{
  "nbformat": 4,
  "nbformat_minor": 0,
  "metadata": {
    "colab": {
      "provenance": [],
      "authorship_tag": "ABX9TyNnGNj4qDrYL4SF6YWiD+nq"
    },
    "kernelspec": {
      "name": "python3",
      "display_name": "Python 3"
    },
    "language_info": {
      "name": "python"
    }
  },
  "cells": [
    {
      "cell_type": "markdown",
      "source": [
        "https://stepik.org/lesson/572881/step/2\n",
        "\n",
        "Напишите, какое число получается в неравенстве для производной $(σ(σ(σ(0))))$"
      ],
      "metadata": {
        "id": "QQocGdVnyWEy"
      }
    },
    {
      "cell_type": "code",
      "source": [
        "#@title Решение\n",
        "from sympy import exp, symbols, diff\n",
        "from IPython.display import display\n",
        "\n",
        "x = symbols('x')\n",
        "σ = lambda x: 1 / (exp(-x)+1)\n",
        "f = σ(σ(σ(x)))\n",
        "\n",
        "def threshold(x, rang):\n",
        "    res = 1\n",
        "    for i in range(rang):\n",
        "        x = σ(x)\n",
        "        res *= x\n",
        "    return res\n",
        "\n",
        "# print('\\nПроизводная f по x:\\n') # опасная картинка :)\n",
        "# display(diff(f, x))\n",
        "\n",
        "p = (0.,)\n",
        "\n",
        "print(f'\\nПроизводная по f по x в точке {p} =', round(float(diff(f, x).subs({x: p[0]})), 4))\n",
        "print('\\nПорог:', threshold(0, 3), '=',round(float(threshold(0, 3)), 4))\n",
        "\n"
      ],
      "metadata": {
        "id": "7J_2xbWA5JtA",
        "outputId": "8a315d06-4db0-45ed-d2ad-64e5b5b16d27",
        "colab": {
          "base_uri": "https://localhost:8080/"
        }
      },
      "execution_count": null,
      "outputs": [
        {
          "output_type": "stream",
          "name": "stdout",
          "text": [
            "\n",
            "Производная по f по x в точке (0.0,) = 0.0134\n",
            "\n",
            "Порог: 1/(2*(exp(-1/2) + 1)*(exp(-1/(exp(-1/2) + 1)) + 1)) = 0.2025\n"
          ]
        }
      ]
    },
    {
      "cell_type": "code",
      "source": [
        "import numpy as np\n",
        "\n",
        "def sigm(x):\n",
        "    return np.exp(x) / ( 1 + np.exp(x) )\n",
        "\n",
        "print( sigm(sigm(sigm(0)))*sigm(sigm(0))*sigm(0) )"
      ],
      "metadata": {
        "colab": {
          "base_uri": "https://localhost:8080/"
        },
        "id": "_Y1C_gNKgzYc",
        "outputId": "501c2f47-daf4-4911-9181-0b11394a5a7c"
      },
      "execution_count": null,
      "outputs": [
        {
          "output_type": "stream",
          "name": "stdout",
          "text": [
            "0.20254131917130905\n"
          ]
        }
      ]
    },
    {
      "cell_type": "code",
      "source": [
        "from math import exp\n",
        "\n",
        "def sigma(x):\n",
        "    return 1 / (1 + exp(-x))\n",
        "\n",
        "depth = 3 #глубина вложености сигмоид\n",
        "result = 1\n",
        "x = 0\n",
        "for i in range(depth):\n",
        "    x = sigma(x)\n",
        "    result *= x\n",
        "\n",
        "print(round(result, 2))"
      ],
      "metadata": {
        "colab": {
          "base_uri": "https://localhost:8080/"
        },
        "id": "CFgO1eEdxi4S",
        "outputId": "bb6039e4-ab54-4b01-a004-0419f65e9b58"
      },
      "execution_count": null,
      "outputs": [
        {
          "output_type": "stream",
          "name": "stdout",
          "text": [
            "0.2\n"
          ]
        }
      ]
    }
  ]
}