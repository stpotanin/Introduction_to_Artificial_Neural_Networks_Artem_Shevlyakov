{
  "nbformat": 4,
  "nbformat_minor": 0,
  "metadata": {
    "colab": {
      "provenance": [],
      "authorship_tag": "ABX9TyNrqzgmkZK8CpKM/XqUSoEm"
    },
    "kernelspec": {
      "name": "python3",
      "display_name": "Python 3"
    },
    "language_info": {
      "name": "python"
    }
  },
  "cells": [
    {
      "cell_type": "markdown",
      "source": [
        "https://stepik.org/lesson/572880/step/3\n",
        "\n",
        "Итак, у нас будет теперь две переменных $x_1,x_2$ (значит, в графе будет 2 листа). Далее идут вершины\n",
        "\n",
        "$a:=x_1x_2,b:=x_1+x _2,c:=ab,d:=a+b,f:=c^2+d^2,$\n",
        "\n",
        "где f - корень графа (он соответствует всей функции $f(x_1,x_2)$).\n",
        "\n",
        "Последовательно найдите частные производные\n",
        "$∂f/∂c,∂f/∂d,∂f/∂a,∂f/∂b,∂f/∂x_1,∂f/∂x_2$. Собственно, последние две частных производных в списке и будут окончательным ответом.\n",
        "\n",
        "В окошко ответа запишите значение $∂f/∂x_1(1,1)$."
      ],
      "metadata": {
        "id": "QQocGdVnyWEy"
      }
    },
    {
      "cell_type": "markdown",
      "source": [
        "# Решение\n",
        "TODO"
      ],
      "metadata": {
        "id": "m6HqvjnsRm0Q"
      }
    },
    {
      "cell_type": "code",
      "source": [
        "#@Проверка через title sympy + IPython.display\n",
        "\n",
        "from sympy import symbols, diff, simplify\n",
        "from IPython.display import display\n",
        "\n",
        "x_1 = symbols('x_1')\n",
        "x_2 = symbols('x_2')\n",
        "\n",
        "a = x_1 * x_2\n",
        "b = x_1 + x_2\n",
        "c = a * b\n",
        "d = a + b\n",
        "f = c**2 + d**2\n",
        "\n",
        "# Производные a и b\n",
        "print('\\nПроизводная a по x_1:\\n')\n",
        "display(diff(a, x_1))  # Важно использовать display\n",
        "\n",
        "print('\\nПроизводная a по x_2:\\n')\n",
        "display(diff(a, x_2))\n",
        "\n",
        "print('\\nПроизводная b по x_1:\\n')\n",
        "display(diff(b, x_1))\n",
        "\n",
        "print('\\nПроизводная b по x_2:\\n')\n",
        "display(diff(b, x_2))\n",
        "\n",
        "# Производные c и d\n",
        "print('\\nПроизводная c по x_1:\\n')\n",
        "display(diff(c, x_1))\n",
        "\n",
        "print('\\nПроизводная c по x_2:\\n')\n",
        "display(diff(c, x_2))\n",
        "\n",
        "print('\\nПроизводная d по x_1:\\n')\n",
        "display(diff(d, x_1))\n",
        "\n",
        "print('\\nПроизводная d по x_2:\\n')\n",
        "display(diff(d, x_2))\n",
        "\n",
        "print('\\nПроизводная f по x_1:\\n')\n",
        "display(diff(f, x_1))\n",
        "\n",
        "print('\\nПроизводная f по x_2:\\n')\n",
        "display(diff(f, x_2))\n",
        "\n",
        "x = (1, 1)\n",
        "\n",
        "print(f'\\nПроизводная по x_1 в точке {a}:\\n')\n",
        "display(diff(f, x_1).subs({x_1:x[0], x_2:x[1]}))"
      ],
      "metadata": {
        "id": "7J_2xbWA5JtA",
        "outputId": "eae0e8e6-651e-4f47-c63b-be6e5879f469",
        "colab": {
          "base_uri": "https://localhost:8080/",
          "height": 845
        }
      },
      "execution_count": null,
      "outputs": [
        {
          "output_type": "stream",
          "name": "stdout",
          "text": [
            "\n",
            "Производная a по x_1:\n",
            "\n"
          ]
        },
        {
          "output_type": "display_data",
          "data": {
            "text/plain": [
              "x_2"
            ],
            "text/latex": "$\\displaystyle x_{2}$"
          },
          "metadata": {}
        },
        {
          "output_type": "stream",
          "name": "stdout",
          "text": [
            "\n",
            "Производная a по x_2:\n",
            "\n"
          ]
        },
        {
          "output_type": "display_data",
          "data": {
            "text/plain": [
              "x_1"
            ],
            "text/latex": "$\\displaystyle x_{1}$"
          },
          "metadata": {}
        },
        {
          "output_type": "stream",
          "name": "stdout",
          "text": [
            "\n",
            "Производная b по x_1:\n",
            "\n"
          ]
        },
        {
          "output_type": "display_data",
          "data": {
            "text/plain": [
              "1"
            ],
            "text/latex": "$\\displaystyle 1$"
          },
          "metadata": {}
        },
        {
          "output_type": "stream",
          "name": "stdout",
          "text": [
            "\n",
            "Производная b по x_2:\n",
            "\n"
          ]
        },
        {
          "output_type": "display_data",
          "data": {
            "text/plain": [
              "1"
            ],
            "text/latex": "$\\displaystyle 1$"
          },
          "metadata": {}
        },
        {
          "output_type": "stream",
          "name": "stdout",
          "text": [
            "\n",
            "Производная c по x_1:\n",
            "\n"
          ]
        },
        {
          "output_type": "display_data",
          "data": {
            "text/plain": [
              "x_1*x_2 + x_2*(x_1 + x_2)"
            ],
            "text/latex": "$\\displaystyle x_{1} x_{2} + x_{2} \\left(x_{1} + x_{2}\\right)$"
          },
          "metadata": {}
        },
        {
          "output_type": "stream",
          "name": "stdout",
          "text": [
            "\n",
            "Производная c по x_2:\n",
            "\n"
          ]
        },
        {
          "output_type": "display_data",
          "data": {
            "text/plain": [
              "x_1*x_2 + x_1*(x_1 + x_2)"
            ],
            "text/latex": "$\\displaystyle x_{1} x_{2} + x_{1} \\left(x_{1} + x_{2}\\right)$"
          },
          "metadata": {}
        },
        {
          "output_type": "stream",
          "name": "stdout",
          "text": [
            "\n",
            "Производная d по x_1:\n",
            "\n"
          ]
        },
        {
          "output_type": "display_data",
          "data": {
            "text/plain": [
              "x_2 + 1"
            ],
            "text/latex": "$\\displaystyle x_{2} + 1$"
          },
          "metadata": {}
        },
        {
          "output_type": "stream",
          "name": "stdout",
          "text": [
            "\n",
            "Производная d по x_2:\n",
            "\n"
          ]
        },
        {
          "output_type": "display_data",
          "data": {
            "text/plain": [
              "x_1 + 1"
            ],
            "text/latex": "$\\displaystyle x_{1} + 1$"
          },
          "metadata": {}
        },
        {
          "output_type": "stream",
          "name": "stdout",
          "text": [
            "\n",
            "Производная f по x_1:\n",
            "\n"
          ]
        },
        {
          "output_type": "display_data",
          "data": {
            "text/plain": [
              "x_1**2*x_2**2*(2*x_1 + 2*x_2) + 2*x_1*x_2**2*(x_1 + x_2)**2 + (2*x_2 + 2)*(x_1*x_2 + x_1 + x_2)"
            ],
            "text/latex": "$\\displaystyle x_{1}^{2} x_{2}^{2} \\left(2 x_{1} + 2 x_{2}\\right) + 2 x_{1} x_{2}^{2} \\left(x_{1} + x_{2}\\right)^{2} + \\left(2 x_{2} + 2\\right) \\left(x_{1} x_{2} + x_{1} + x_{2}\\right)$"
          },
          "metadata": {}
        },
        {
          "output_type": "stream",
          "name": "stdout",
          "text": [
            "\n",
            "Производная f по x_2:\n",
            "\n"
          ]
        },
        {
          "output_type": "display_data",
          "data": {
            "text/plain": [
              "x_1**2*x_2**2*(2*x_1 + 2*x_2) + 2*x_1**2*x_2*(x_1 + x_2)**2 + (2*x_1 + 2)*(x_1*x_2 + x_1 + x_2)"
            ],
            "text/latex": "$\\displaystyle x_{1}^{2} x_{2}^{2} \\left(2 x_{1} + 2 x_{2}\\right) + 2 x_{1}^{2} x_{2} \\left(x_{1} + x_{2}\\right)^{2} + \\left(2 x_{1} + 2\\right) \\left(x_{1} x_{2} + x_{1} + x_{2}\\right)$"
          },
          "metadata": {}
        },
        {
          "output_type": "stream",
          "name": "stdout",
          "text": [
            "\n",
            "Производная по x_1 в точке x_1*x_2:\n",
            "\n"
          ]
        },
        {
          "output_type": "display_data",
          "data": {
            "text/plain": [
              "24"
            ],
            "text/latex": "$\\displaystyle 24$"
          },
          "metadata": {}
        }
      ]
    },
    {
      "cell_type": "markdown",
      "source": [
        "# Решение от\n",
        "<img src='https://ucarecdn.com/99b638ad-35be-46bf-b9aa-458bba3d7434/'>"
      ],
      "metadata": {
        "id": "CuObQK2DMUdQ"
      }
    },
    {
      "cell_type": "code",
      "source": [
        "import numpy as np\n",
        "from sympy import Matrix\n",
        "\n",
        "\n",
        "x = np.array([1., 1.])\n",
        "\n",
        "a = lambda x: x.prod()  # lambda x: x[0] * x[1]\n",
        "b = lambda x: x.sum()   # lambda x: x[0] + x[1]\n",
        "c = lambda x: a(x) * b(x)\n",
        "d = lambda x: a(x) + b(x)\n",
        "\n",
        "df_dz = np.array([2 * c(x), 2 * d(x)])\n",
        "dz_dy = np.array([[b(x), a(x)],\n",
        "                  [1.,   1.  ]])\n",
        "dy_dx = np.array([[x[1], x[0]],\n",
        "                  [1.,   1.  ]])\n",
        "\n",
        "df_dx = df_dz @ dz_dy @ dy_dx # матричное перемножение\n",
        "print(df_dx[0])"
      ],
      "metadata": {
        "colab": {
          "base_uri": "https://localhost:8080/"
        },
        "id": "xmryiJYLMPk2",
        "outputId": "757a88e2-6749-420b-ccf3-e725ff0d9db5"
      },
      "execution_count": null,
      "outputs": [
        {
          "output_type": "stream",
          "name": "stdout",
          "text": [
            "24.0\n"
          ]
        }
      ]
    },
    {
      "cell_type": "code",
      "source": [
        "#@title V2\n",
        "from sympy import symbols, diff\n",
        "from IPython.display import display\n",
        "\n",
        "x_1, x_2 = symbols('x_1 x_2')\n",
        "a, b = x_1 * x_2, x_1 + x_2\n",
        "c, d = a * b, a + b\n",
        "f = (c)**2 + (d)**2\n",
        "\n",
        "print('\\nПроизводная f по x_1:\\n')\n",
        "display(diff(f, x_1))\n",
        "\n",
        "p = (1, 1)\n",
        "\n",
        "print(f'\\nПроизводная по x_1 в точке {p}:\\n')\n",
        "display(diff(f, x_1).subs({x_1: p[0], x_2: p[1]}))"
      ],
      "metadata": {
        "colab": {
          "base_uri": "https://localhost:8080/",
          "height": 168
        },
        "id": "yGvmQ05HRxMQ",
        "outputId": "85939429-647d-4475-d6dc-1a68f656a82f"
      },
      "execution_count": null,
      "outputs": [
        {
          "output_type": "stream",
          "name": "stdout",
          "text": [
            "\n",
            "Производная f по x_1:\n",
            "\n"
          ]
        },
        {
          "output_type": "display_data",
          "data": {
            "text/plain": [
              "x_1**2*x_2**2*(2*x_1 + 2*x_2) + 2*x_1*x_2**2*(x_1 + x_2)**2 + (2*x_2 + 2)*(x_1*x_2 + x_1 + x_2)"
            ],
            "text/latex": "$\\displaystyle x_{1}^{2} x_{2}^{2} \\left(2 x_{1} + 2 x_{2}\\right) + 2 x_{1} x_{2}^{2} \\left(x_{1} + x_{2}\\right)^{2} + \\left(2 x_{2} + 2\\right) \\left(x_{1} x_{2} + x_{1} + x_{2}\\right)$"
          },
          "metadata": {}
        },
        {
          "output_type": "stream",
          "name": "stdout",
          "text": [
            "\n",
            "Производная по x_1 в точке (1, 1):\n",
            "\n"
          ]
        },
        {
          "output_type": "display_data",
          "data": {
            "text/plain": [
              "24"
            ],
            "text/latex": "$\\displaystyle 24$"
          },
          "metadata": {}
        }
      ]
    }
  ]
}
