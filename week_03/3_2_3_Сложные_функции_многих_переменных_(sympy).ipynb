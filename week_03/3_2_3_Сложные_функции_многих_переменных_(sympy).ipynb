{
  "nbformat": 4,
  "nbformat_minor": 0,
  "metadata": {
    "colab": {
      "provenance": [],
      "authorship_tag": "ABX9TyN9BedffYXNYXDS9Czf5SA6"
    },
    "kernelspec": {
      "name": "python3",
      "display_name": "Python 3"
    },
    "language_info": {
      "name": "python"
    }
  },
  "cells": [
    {
      "cell_type": "markdown",
      "source": [
        "https://stepik.org/lesson/572878/step/3\n",
        "\n",
        "Пусть $$f(g_1,g_2, g_3)=g_1g_2g_3,$$\n",
        "\n",
        "$$g_1=x_2+x_3,$$\n",
        "\n",
        "$$g_2=x_1+x_3,$$\n",
        "\n",
        "$$g_3=x_1+x_2$$\n",
        "\n",
        "Найдите частные производные сложной функции\n",
        "$f(g_1,g_2,g_3)$ по переменным $x_1,x_2,x_3$. Не забудьте потом вхождения букв\n",
        "$g_1,g_2,g_3$ заменить на их выражения через буквы $x_1,x_2,x_3$. А в ответ напишите значение $∂f/∂x_3(1,2,3)$."
      ],
      "metadata": {
        "id": "QQocGdVnyWEy"
      }
    },
    {
      "cell_type": "markdown",
      "source": [
        "# Решение\n",
        "\n",
        "$ \\frac{df}{dg_1} = g_2g_3$\n",
        "\n",
        "$ \\frac{df}{dg_2} = g_1g_3$\n",
        "\n",
        "$ \\frac{df}{dg_3} = g_1g_2$\n",
        "\n",
        "Нижний уровень:\n",
        "\n",
        "$ \\frac{dg_1}{dx_1} = 0;$   $ \\frac{dg_1}{dx_2} = 1;$   $ \\frac{dg_1}{dx_3} = 1$\n",
        "\n",
        "$ \\frac{dg_2}{dx_1} = 1;$   $ \\frac{dg_2}{dx_2} = 0;$   $ \\frac{dg_2}{dx_3} = 1$\n",
        "\n",
        "$ \\frac{dg_3}{dx_1} = 1;$   $ \\frac{dg_3}{dx_2} = 1;$   $ \\frac{dg_3}{dx_3} = 0$\n",
        "\n",
        "Объединяем:\n",
        "\n",
        "$ \\frac{df}{dx_1} = \\frac{df}{dg_1}\\frac{dg_1}{dx_1}+\\frac{df}{dg_2}\\frac{dg_2}{dx_1}+\\frac{df}{dg_3}\\frac{dg_3}{dx_1}=$\n",
        "\n",
        "$g_2g_3*0+g_1g_3*1+g_1g_2*1=(x_2+x_3)(x_1+x_2)+(x_2+x_3)(x_1+x_3)$\n",
        "\n",
        "$ \\frac{df}{dx_2} = \\frac{df}{dg_1}\\frac{dg_1}{dx_2}+\\frac{df}{dg_2}\\frac{dg_2}{dx_2}+\\frac{df}{dg_3}\\frac{dg_3}{dx_2}=$\n",
        "\n",
        "$g_2g_3*1+g_1g_3*0+g_1g_2*1=(x_1+x_3)(x_1+x_2)+(x_2+x_3)(x_1+x_3)$\n",
        "\n",
        "$ \\frac{df}{dx_3} = \\frac{df}{dg_1}\\frac{dg_1}{dx_3}+\\frac{df}{dg_2}\\frac{dg_2}{dx_3}+\\frac{df}{dg_3}\\frac{dg_3}{dx_3}=$\n",
        "\n",
        "$g_2g_3*1+g_1g_3*1+g_1g_2*0=(x_1+x_3)(x_1+x_2)+(x_2+x_3)(x_1+x_2)$\n",
        "\n",
        "Подставив $x₁ = 1, x₂ = 2, x₂ = 3$, получаем $27$"
      ],
      "metadata": {
        "id": "m6HqvjnsRm0Q"
      }
    },
    {
      "cell_type": "code",
      "source": [
        "#@title sympy + IPython.display\n",
        "\n",
        "from sympy import symbols, sin, exp, pi, diff\n",
        "from IPython.display import display\n",
        "\n",
        "x_1 = symbols('x_1')\n",
        "x_2 = symbols('x_2')\n",
        "x_3 = symbols('x_3')\n",
        "g_1 = x_2 + x_3\n",
        "g_2 = x_1 + x_3\n",
        "g_3 = x_1 + x_2\n",
        "f = g_1 * g_2 * g_3\n",
        "\n",
        "print('\\nПроизводная по x_1:\\n')\n",
        "display(diff(f, x_1))  # Важно использовать display\n",
        "\n",
        "print('\\nПроизводная по x_2:\\n')\n",
        "display(diff(f, x_2))\n",
        "\n",
        "print('\\nПроизводная по x_3:\\n')\n",
        "display(diff(f, x_3))\n",
        "\n",
        "a = (1, 2, 3)\n",
        "\n",
        "print(f'\\nПроизводная по x_3 в точкке {a}:\\n')\n",
        "diff(f, x_3).subs({x_1:a[0], x_2:a[1], x_3:a[2]})"
      ],
      "metadata": {
        "id": "7J_2xbWA5JtA",
        "outputId": "014fa793-3284-4a52-90d8-a5fd3a8b4a02",
        "colab": {
          "base_uri": "https://localhost:8080/",
          "height": 311
        }
      },
      "execution_count": null,
      "outputs": [
        {
          "output_type": "stream",
          "name": "stdout",
          "text": [
            "\n",
            "Производная по x_1:\n",
            "\n"
          ]
        },
        {
          "output_type": "display_data",
          "data": {
            "text/plain": [
              "(x_1 + x_2)*(x_2 + x_3) + (x_1 + x_3)*(x_2 + x_3)"
            ],
            "text/latex": "$\\displaystyle \\left(x_{1} + x_{2}\\right) \\left(x_{2} + x_{3}\\right) + \\left(x_{1} + x_{3}\\right) \\left(x_{2} + x_{3}\\right)$"
          },
          "metadata": {}
        },
        {
          "output_type": "stream",
          "name": "stdout",
          "text": [
            "\n",
            "Производная по x_2:\n",
            "\n"
          ]
        },
        {
          "output_type": "display_data",
          "data": {
            "text/plain": [
              "(x_1 + x_2)*(x_1 + x_3) + (x_1 + x_3)*(x_2 + x_3)"
            ],
            "text/latex": "$\\displaystyle \\left(x_{1} + x_{2}\\right) \\left(x_{1} + x_{3}\\right) + \\left(x_{1} + x_{3}\\right) \\left(x_{2} + x_{3}\\right)$"
          },
          "metadata": {}
        },
        {
          "output_type": "stream",
          "name": "stdout",
          "text": [
            "\n",
            "Производная по x_3:\n",
            "\n"
          ]
        },
        {
          "output_type": "display_data",
          "data": {
            "text/plain": [
              "(x_1 + x_2)*(x_1 + x_3) + (x_1 + x_2)*(x_2 + x_3)"
            ],
            "text/latex": "$\\displaystyle \\left(x_{1} + x_{2}\\right) \\left(x_{1} + x_{3}\\right) + \\left(x_{1} + x_{2}\\right) \\left(x_{2} + x_{3}\\right)$"
          },
          "metadata": {}
        },
        {
          "output_type": "stream",
          "name": "stdout",
          "text": [
            "\n",
            "Производная по x_1 в точкке (1, 2, 3):\n",
            "\n"
          ]
        },
        {
          "output_type": "execute_result",
          "data": {
            "text/plain": [
              "27"
            ],
            "text/latex": "$\\displaystyle 27$"
          },
          "metadata": {},
          "execution_count": 2
        }
      ]
    }
  ]
}