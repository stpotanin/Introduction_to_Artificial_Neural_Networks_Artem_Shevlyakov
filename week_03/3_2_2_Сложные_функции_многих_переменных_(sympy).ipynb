{
  "nbformat": 4,
  "nbformat_minor": 0,
  "metadata": {
    "colab": {
      "provenance": [],
      "authorship_tag": "ABX9TyP+VLp85r4u4rV41Bg/dsMM"
    },
    "kernelspec": {
      "name": "python3",
      "display_name": "Python 3"
    },
    "language_info": {
      "name": "python"
    }
  },
  "cells": [
    {
      "cell_type": "markdown",
      "source": [
        "https://stepik.org/lesson/572878/step/2\n",
        "\n",
        "Пусть $$f(g_1,g_2)=g_1/g_2,$$\n",
        "\n",
        "$$g_1(x_1.x_2)=x_1+x_2,$$\n",
        "\n",
        "$$g_2(x_1 .x_2)=x_1 x_2$$\n",
        "\n",
        " Найдите частные производные сложной функции $f(g_1,g_2)$ по переменным\n",
        "$x_1,x_2$. Не забудьте потом вхождения букв$g_1,g_2$ заменить на их выражения $g _1(x_1.x_2)=x_1+x_2,g_2(x_1.x_2)=x_1x_2$. А в ответ напишите значение $∂f/∂x_2(1,2)$ (то есть в выражение для частной производной подставьте значения $x_1=1,x_2=2)$."
      ],
      "metadata": {
        "id": "QQocGdVnyWEy"
      }
    },
    {
      "cell_type": "markdown",
      "source": [
        "# Решение\n",
        "\n",
        "<img src='https://lindeal.com/ld/images/chumnaya-ten-otkrytiya-uchenogo-v-ehpokhu-ehpidemii.png' width=400>\n",
        "\n",
        "$ (\\frac{g_1}{g_2})' = \\frac{g_1'g_2-g_2'g_1}{g_2^2}$ (1)\n",
        "\n",
        "Нижний уровень\n",
        "\n",
        "$ \\frac{dg_1}{dx_1} = 1$ (2)\n",
        "\n",
        "$ \\frac{dg_1}{dx_2} = 1$ (3)\n",
        "\n",
        "$ \\frac{dg_2}{dx_1} = x_2$ (4)\n",
        "\n",
        "$ \\frac{dg_2}{dx_2} = x_1$ (5)\n",
        "\n",
        "Подставляем в (1) формулы (2) и (4):\n",
        "\n",
        "$ \\frac{df(g_1.g_2)}{x_1} = \\frac{1 * x_1x_2 - x_2(x_1+x_2)}{x_1^2x_2^2} = \\frac{1}{x_1x_2} - \\frac{x_1+x_2}{x_1^2x_2}$ (6)\n",
        "\n",
        "Подставляем в (1) формулы (3) и (5):\n",
        "\n",
        "$ \\frac{df(g_1.g_2)}{x_2} = \\frac{1 * x_1x_2 - x_1(x_1+x_2)}{x_1^2x_2^2} = \\frac{1}{x_1x_2} - \\frac{x_1+x_2}{x_1x_2^2}$ (7)\n",
        "\n",
        "Подставив $x₁ = 1, x₂ = 2$ в (7), получаем $-\\frac{1}{4}$"
      ],
      "metadata": {
        "id": "m6HqvjnsRm0Q"
      }
    },
    {
      "cell_type": "code",
      "source": [
        "#@title sympy + IPython.display\n",
        "\n",
        "from sympy import symbols, sin, exp, pi, diff\n",
        "from IPython.display import display\n",
        "\n",
        "x_1 = symbols('x_1')\n",
        "x_2 = symbols('x_2')\n",
        "g_1 = x_1 + x_2\n",
        "g_2 = x_1 * x_2\n",
        "f = g_1 / g_2\n",
        "\n",
        "print('\\nПроизводная по x_1:\\n')\n",
        "display(diff(f, x_1))  # Важно использовать display\n",
        "\n",
        "print('\\nПроизводная по x_2:\\n')\n",
        "display(diff(f, x_2))\n",
        "\n",
        "a = (1, 2)\n",
        "\n",
        "print(f'\\nПроизводная по x_2 в точкке {a}:\\n')\n",
        "diff(f, x_2).subs({x_1:a[0], x_2:a[1]})"
      ],
      "metadata": {
        "id": "7J_2xbWA5JtA",
        "outputId": "5334e121-e390-426a-d627-4d19ef11b144",
        "colab": {
          "base_uri": "https://localhost:8080/",
          "height": 284
        }
      },
      "execution_count": null,
      "outputs": [
        {
          "output_type": "stream",
          "name": "stdout",
          "text": [
            "\n",
            "Производная по x_1:\n",
            "\n"
          ]
        },
        {
          "output_type": "display_data",
          "data": {
            "text/plain": [
              "1/(x_1*x_2) - (x_1 + x_2)/(x_1**2*x_2)"
            ],
            "text/latex": "$\\displaystyle \\frac{1}{x_{1} x_{2}} - \\frac{x_{1} + x_{2}}{x_{1}^{2} x_{2}}$"
          },
          "metadata": {}
        },
        {
          "output_type": "stream",
          "name": "stdout",
          "text": [
            "\n",
            "Производная по x_2:\n",
            "\n"
          ]
        },
        {
          "output_type": "display_data",
          "data": {
            "text/plain": [
              "1/(x_1*x_2) - (x_1 + x_2)/(x_1*x_2**2)"
            ],
            "text/latex": "$\\displaystyle \\frac{1}{x_{1} x_{2}} - \\frac{x_{1} + x_{2}}{x_{1} x_{2}^{2}}$"
          },
          "metadata": {}
        },
        {
          "output_type": "stream",
          "name": "stdout",
          "text": [
            "\n",
            "Производная по x_2 в точкке (1, 2):\n",
            "\n"
          ]
        },
        {
          "output_type": "execute_result",
          "data": {
            "text/plain": [
              "-1/4"
            ],
            "text/latex": "$\\displaystyle - \\frac{1}{4}$"
          },
          "metadata": {},
          "execution_count": 1
        }
      ]
    },
    {
      "cell_type": "markdown",
      "source": [
        "# Gemini:\n",
        "Дано:\n",
        "$$f(g_1, g_2) = \\frac{g_1}{g_2}$$\n",
        "$$g_1(x_1, x_2) = x_1 + x_2$$\n",
        "$$g_2(x_1, x_2) = x_1 x_2$$\n",
        "\n",
        "Найдем частные производные $f$ по $x_1$ и $x_2$.\n",
        "\n",
        "Используем цепное правило.\n",
        "\n",
        "$$\\frac{\\partial f}{\\partial x_1} = \\frac{\\partial f}{\\partial g_1} \\frac{\\partial g_1}{\\partial x_1} + \\frac{\\partial f}{\\partial g_2} \\frac{\\partial g_2}{\\partial x_1}$$\n",
        "\n",
        "$$\\frac{\\partial f}{\\partial x_2} = \\frac{\\partial f}{\\partial g_1} \\frac{\\partial g_1}{\\partial x_2} + \\frac{\\partial f}{\\partial g_2} \\frac{\\partial g_2}{\\partial x_2}$$\n",
        "\n",
        "Для нахождения частной производной ∂f/∂x₁ нужно использовать цепное правило:\n",
        "$$\\frac{\\partial f}{\\partial x_1} = \\frac{\\partial f}{\\partial g_1} \\frac{\\partial g_1}{\\partial x_1} + \\frac{\\partial f}{\\partial g_2} \\frac{\\partial g_2}{\\partial x_1}$$\n",
        "\n",
        "Аналогично для ∂f/∂x₂:\n",
        "\n",
        "$$\\frac{\\partial f}{\\partial x_2} = \\frac{\\partial f}{\\partial g_1} \\frac{\\partial g_1}{\\partial x_2} + \\frac{\\partial f}{\\partial g_2} \\frac{\\partial g_2}{\\partial x_2}$$\n",
        "\n",
        "\n",
        "Вычислим частные производные:\n",
        "$$\\frac{\\partial f}{\\partial g_1} = \\frac{1}{g_2}$$\n",
        "$$\\frac{\\partial f}{\\partial g_2} = -\\frac{g_1}{g_2^2}$$\n",
        "$$\\frac{\\partial g_1}{\\partial x_1} = 1$$\n",
        "$$\\frac{\\partial g_1}{\\partial x_2} = 1$$\n",
        "$$\\frac{\\partial g_2}{\\partial x_1} = x_2$$\n",
        "$$\\frac{\\partial g_2}{\\partial x_2} = x_1$$\n",
        "\n",
        "Подставим в формулы для частных производных:\n",
        "$$\\frac{\\partial f}{\\partial x_1} = \\frac{1}{g_2} \\cdot 1 + \\left( -\\frac{g_1}{g_2^2} \\right) \\cdot x_2 = \\frac{1}{g_2} - \\frac{g_1 x_2}{g_2^2}$$\n",
        "$$\\frac{\\partial f}{\\partial x_2} = \\frac{1}{g_2} \\cdot 1 + \\left( -\\frac{g_1}{g_2^2} \\right) \\cdot x_1 = \\frac{1}{g_2} - \\frac{g_1 x_1}{g_2^2}$$\n",
        "\n",
        "Теперь подставим выражения для $g_1$ и $g_2$:\n",
        "$$\\frac{\\partial f}{\\partial x_1} = \\frac{1}{x_1 x_2} - \\frac{(x_1 + x_2) x_2}{(x_1 x_2)^2} = \\frac{1}{x_1 x_2} - \\frac{x_1 x_2 + x_2^2}{x_1^2 x_2^2}$$\n",
        "$$\\frac{\\partial f}{\\partial x_2} = \\frac{1}{x_1 x_2} - \\frac{(x_1 + x_2) x_1}{(x_1 x_2)^2} = \\frac{1}{x_1 x_2} - \\frac{x_1^2 + x_1 x_2}{x_1^2 x_2^2}$$\n",
        "\n",
        "Вычислим значение $\\frac{\\partial f}{\\partial x_2}(1, 2)$:\n",
        "$$\\frac{\\partial f}{\\partial x_2}(1, 2) = \\frac{1}{1 \\cdot 2} - \\frac{(1 + 2) 1}{(1 \\cdot 2)^2} = \\frac{1}{2} - \\frac{3}{4} = \\frac{2}{4} - \\frac{3}{4} = -\\frac{1}{4}$$\n",
        "\n",
        "Ответ: -1/4\n",
        "\n",
        "Final Answer: The final answer is $\\boxed{-1/4}$"
      ],
      "metadata": {
        "id": "wJW4fgSu8XJE"
      }
    }
  ]
}