{
  "nbformat": 4,
  "nbformat_minor": 0,
  "metadata": {
    "colab": {
      "provenance": [],
      "authorship_tag": "ABX9TyNztHi5KBUayt+H5V5sMS7n"
    },
    "kernelspec": {
      "name": "python3",
      "display_name": "Python 3"
    },
    "language_info": {
      "name": "python"
    }
  },
  "cells": [
    {
      "cell_type": "markdown",
      "source": [
        "https://stepik.org/lesson/572878/step/4\n",
        "\n",
        "Пусть $f(g_1,g_2)=g_1^{g_2},g_1(x)=x,g_2(x)=x$. То есть фактически функция $f$ зависит от одной переменной $х$. Найдите производную сложной функции $f(g_1,g_2)$ по ее единственной переменной $x$. Не забудьте потом вхождения букв $g_1,g_2$ заменить на их выражения. А в ответ напишите значение $∂f/∂x(2)$."
      ],
      "metadata": {
        "id": "QQocGdVnyWEy"
      }
    },
    {
      "cell_type": "markdown",
      "source": [
        "# Решение\n",
        "\n",
        "$ \\frac{df}{dg_1} = g_2g_1^{g_2-1}$\n",
        "\n",
        "$ \\frac{df}{dg_2} = g_1^{g_2} lng_1$\n",
        "\n",
        "Нижний уровень:\n",
        "\n",
        "$\\frac{dg_1}{dx} = 1$\n",
        "\n",
        "$\\frac{dg_2}{dx} = 1$\n",
        "\n",
        "Объединяем:\n",
        "\n",
        "$ \\frac{df}{dx_1} = g_2g_1^{g_2-1} + g_1^{g_2} lng_1 = x x^{x-1} + x^x lnx = x^x(1+lnx)$\n",
        "\n",
        "Подставив $x = 2$, получаем $4ln(2)+4 = 6.77$"
      ],
      "metadata": {
        "id": "m6HqvjnsRm0Q"
      }
    },
    {
      "cell_type": "code",
      "source": [
        "#@Проверка через title sympy + IPython.display\n",
        "\n",
        "from sympy import symbols, sin, exp, pi, diff\n",
        "from IPython.display import display\n",
        "\n",
        "x = symbols('x_')\n",
        "g_1 = x\n",
        "g_2 = x\n",
        "f = g_1**g_2\n",
        "\n",
        "print('\\nПроизводная по x:\\n')\n",
        "display(diff(f, x))  # Важно использовать display\n",
        "\n",
        "\n",
        "a = (2,)\n",
        "\n",
        "print(f'\\nПроизводная по x в точке {a}:\\n')\n",
        "display(diff(f, x).subs({x:a[0]}))\n",
        "\n",
        "print('\\nРавна', round(float(diff(f, x).subs({x:a[0]})), 2))\n"
      ],
      "metadata": {
        "id": "7J_2xbWA5JtA",
        "outputId": "3df9ddc3-7922-4ee0-f28d-727452520b01",
        "colab": {
          "base_uri": "https://localhost:8080/",
          "height": 198
        }
      },
      "execution_count": null,
      "outputs": [
        {
          "output_type": "stream",
          "name": "stdout",
          "text": [
            "\n",
            "Производная по x:\n",
            "\n"
          ]
        },
        {
          "output_type": "display_data",
          "data": {
            "text/plain": [
              "x_**x_*(log(x_) + 1)"
            ],
            "text/latex": "$\\displaystyle x_{}^{x_{}} \\left(\\log{\\left(x_{} \\right)} + 1\\right)$"
          },
          "metadata": {}
        },
        {
          "output_type": "stream",
          "name": "stdout",
          "text": [
            "\n",
            "Производная по x в точке (2,):\n",
            "\n"
          ]
        },
        {
          "output_type": "display_data",
          "data": {
            "text/plain": [
              "4*log(2) + 4"
            ],
            "text/latex": "$\\displaystyle 4 \\log{\\left(2 \\right)} + 4$"
          },
          "metadata": {}
        },
        {
          "output_type": "stream",
          "name": "stdout",
          "text": [
            "\n",
            "Равна 6.77\n"
          ]
        }
      ]
    }
  ]
}