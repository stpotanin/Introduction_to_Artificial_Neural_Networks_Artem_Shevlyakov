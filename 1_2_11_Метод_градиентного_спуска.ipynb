{
  "nbformat": 4,
  "nbformat_minor": 0,
  "metadata": {
    "colab": {
      "provenance": [],
      "authorship_tag": "ABX9TyPcnwx03jvzeOJ82iyC1YzP"
    },
    "kernelspec": {
      "name": "python3",
      "display_name": "Python 3"
    },
    "language_info": {
      "name": "python"
    }
  },
  "cells": [
    {
      "cell_type": "markdown",
      "source": [
        "https://stepik.org/lesson/570089/step/11"
      ],
      "metadata": {
        "id": "QQocGdVnyWEy"
      }
    },
    {
      "cell_type": "code",
      "source": [
        "d_f = lambda x: 3 * x**2 - 9\n",
        "a = lambda x, h: x - h * d_f(x)\n",
        "a_0 = -1\n",
        "h = 0.1\n",
        "a_1 = a(a_0, h)\n",
        "a_2 = a(a_1, h)\n",
        "a_2"
      ],
      "metadata": {
        "id": "7J_2xbWA5JtA",
        "outputId": "7ff2286e-ed9e-4056-c77d-d71c218fc73a",
        "colab": {
          "base_uri": "https://localhost:8080/"
        }
      },
      "execution_count": null,
      "outputs": [
        {
          "output_type": "execute_result",
          "data": {
            "text/plain": [
              "0.45200000000000007"
            ]
          },
          "metadata": {},
          "execution_count": 17
        }
      ]
    },
    {
      "cell_type": "code",
      "execution_count": null,
      "metadata": {
        "colab": {
          "base_uri": "https://localhost:8080/"
        },
        "id": "mKu9WDv6yMZc",
        "outputId": "b0c189cf-ea23-4121-d84b-e3814d904bf0"
      },
      "outputs": [
        {
          "output_type": "execute_result",
          "data": {
            "text/plain": [
              "0.45200000000000007"
            ]
          },
          "metadata": {},
          "execution_count": 18
        }
      ],
      "source": [
        "d_f = lambda x: 3 * x**2 - 9\n",
        "\n",
        "def a(x, h, step):\n",
        "    if step == 0:\n",
        "        return x\n",
        "    else:\n",
        "        x = x - h * d_f(x)\n",
        "        step -= 1\n",
        "        return a(x, h, step)\n",
        "\n",
        "\n",
        "\n",
        "\n",
        "a_0 = -1\n",
        "h = 0.1\n",
        "step = 2\n",
        "a(a_0, h, step)"
      ]
    }
  ]
}