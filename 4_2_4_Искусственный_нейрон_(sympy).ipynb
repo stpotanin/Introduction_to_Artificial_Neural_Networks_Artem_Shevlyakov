{
  "nbformat": 4,
  "nbformat_minor": 0,
  "metadata": {
    "colab": {
      "provenance": [],
      "authorship_tag": "ABX9TyPdqcdoniH7NsKG76ZlmH6C"
    },
    "kernelspec": {
      "name": "python3",
      "display_name": "Python 3"
    },
    "language_info": {
      "name": "python"
    }
  },
  "cells": [
    {
      "cell_type": "markdown",
      "source": [
        "https://stepik.org/lesson/573076/step/4\n",
        "\n",
        "Теперь представьте себе такой искусственный нейрон: ему на вход подается число $x$, затем оно домножается на вес связи $w_1$, внутри нейрона прибавляется вес-смещение $w_0$ и после этого применяется функция активации сигмоида $σ$.\n",
        "\n",
        "Нарисуйте схему такого нейрона (я бы сам это сделал, но лень, и таланта к рисованию нет ))) ).\n",
        "\n",
        "Допустим, что в наш нейрон подали вход $x=1$ и получили ответ $0.5$, потом подали вход $x=2$  и снова получили ответ $0.5$.\n",
        "\n",
        "Чему равны веса $w_0,w_1$? В окошко ответа напишите значение $w_1$."
      ],
      "metadata": {
        "id": "QQocGdVnyWEy"
      }
    },
    {
      "cell_type": "code",
      "source": [
        "#@title Решение методом Крамера\n",
        "\n",
        "def det(A):\n",
        "    # Функция для вычисления определителя матрицы\n",
        "    n = len(A)  # Размер матрицы\n",
        "\n",
        "    if n == 1:  # Базовый случай: матрица 1x1\n",
        "        return A[0][0]\n",
        "\n",
        "    if n == 2:  # Базовый случай: матрица 2x2\n",
        "        return A[0][0] * A[1][1] - A[0][1] * A[1][0]\n",
        "\n",
        "    det_value = 0  # Инициализация определителя\n",
        "    for j in range(n):\n",
        "        # Создание подматрицы\n",
        "        submatrix = [row[:j] + row[j+1:] for row in A[1:]]\n",
        "        det_value += (-1)**j * A[0][j] * det(submatrix)\n",
        "\n",
        "    return det_value\n",
        "\n",
        "# Пример работы функции\n",
        "# A2 = [[1, 1, -2],\n",
        "#      [2, -3, -1],\n",
        "#      [1, -4, 1]]\n",
        "\n",
        "# print(f\"Определитель матрицы A2: {det(A2)}\\n\")\n",
        "\n",
        "def kramer(A, b):\n",
        "    det_A = det(A)\n",
        "    if det_A == 0:\n",
        "        return \"Система не имеет решений\"\n",
        "    else:\n",
        "        x = []\n",
        "        for i in range(len(A)):\n",
        "            A_i = [[A[j][k] if k != i else b[j] for k in range(len(A[0]))] for j in range(len(A))]\n",
        "\n",
        "            x.append(det(A_i) / det_A)\n",
        "        return x\n",
        "\n",
        "# А теперь, непосредственно, сама задача\n",
        "from math import log\n",
        "\n",
        "inv_sigmoid = lambda x: log(x) - log(1 - x)\n",
        "A = [[1, 1],\n",
        "     [2, 1]]\n",
        "b = [inv_sigmoid(0.5), inv_sigmoid(0.5)]\n",
        "\n",
        "print(f\"Определитель матрицы A: {det(A)}\")\n",
        "result = kramer(A, b)       # Присваеваем результат одной переменной\n",
        "if isinstance(result, str): # Если вернуло \"Система не имеет решений\"\n",
        "    print(result)           # Это и печатаем\n",
        "else:\n",
        "    w1, w0 = result     # Распаковываем, если есть корни\n",
        "\n",
        "print(f\"w1 = {round(w1, 2)}, w0 = {round(w0, 2)}\")"
      ],
      "metadata": {
        "id": "7J_2xbWA5JtA",
        "outputId": "83fc90a1-7c4b-4904-8eeb-c552e54d046b",
        "colab": {
          "base_uri": "https://localhost:8080/"
        }
      },
      "execution_count": null,
      "outputs": [
        {
          "output_type": "stream",
          "name": "stdout",
          "text": [
            "Определитель матрицы A: -1\n",
            "w1 = -0.0, w0 = -0.0\n"
          ]
        }
      ]
    },
    {
      "cell_type": "code",
      "source": [
        "#@title Проверка\n",
        "from math import exp, isclose\n",
        "\n",
        "sigmoid = lambda x: 1 / (1 + exp(-x))\n",
        "\n",
        "x1, y1 = 1, 0.5\n",
        "x2, y2 = 2, 0.5\n",
        "\n",
        "# Проверяем на приблизительное равенство, т.к. могут быть ошибки из-за точности вычислений\n",
        "isclose(sigmoid(w0 + w1 * x1), y1), isclose(sigmoid(w0 + w1 * x2) , y2)"
      ],
      "metadata": {
        "id": "gdbkf8H3Gfdu",
        "colab": {
          "base_uri": "https://localhost:8080/"
        },
        "outputId": "9329c136-8e72-4b5a-d068-35308ad6ba1c"
      },
      "execution_count": null,
      "outputs": [
        {
          "output_type": "execute_result",
          "data": {
            "text/plain": [
              "(True, True)"
            ]
          },
          "metadata": {},
          "execution_count": 3
        }
      ]
    }
  ]
}