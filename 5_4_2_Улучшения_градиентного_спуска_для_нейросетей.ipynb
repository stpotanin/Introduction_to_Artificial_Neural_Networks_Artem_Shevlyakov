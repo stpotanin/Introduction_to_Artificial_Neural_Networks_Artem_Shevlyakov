{
  "nbformat": 4,
  "nbformat_minor": 0,
  "metadata": {
    "colab": {
      "provenance": [],
      "authorship_tag": "ABX9TyNNA660fi7/apbUjGZ8eiue"
    },
    "kernelspec": {
      "name": "python3",
      "display_name": "Python 3"
    },
    "language_info": {
      "name": "python"
    }
  },
  "cells": [
    {
      "cell_type": "markdown",
      "source": [
        "https://stepik.org/lesson/573082/step/2"
      ],
      "metadata": {
        "id": "jSLcRwoTwEuM"
      }
    },
    {
      "cell_type": "code",
      "source": [
        "# 0.56"
      ],
      "metadata": {
        "id": "rUsIeWtBh53R"
      },
      "execution_count": null,
      "outputs": []
    },
    {
      "cell_type": "markdown",
      "source": [
        "# Решение"
      ],
      "metadata": {
        "id": "vBgMUBGeh2Bj"
      }
    },
    {
      "cell_type": "code",
      "execution_count": null,
      "metadata": {
        "colab": {
          "base_uri": "https://localhost:8080/"
        },
        "id": "Mv-NkE90v8-g",
        "outputId": "0061533c-c4fb-4d37-e958-70393a3963d1"
      },
      "outputs": [
        {
          "output_type": "stream",
          "name": "stdout",
          "text": [
            "epoh = 1, w_0 = 0.2, w_1 = 0.0\n",
            "epoh = 2, w_0 = 0.56, w_1 = 0.36\n"
          ]
        }
      ],
      "source": [
        "x = [0, 1, 2]\n",
        "y = [1, 2, 3]\n",
        "h = 0.1\n",
        "choice = (0, 1) # выбор 1-го и 2-го объектов на 1-м и 2-м шагах соответственно\n",
        "a = [0, 0]      # w_0 и w_1 соответственно\n",
        "epohs = 2       # только две итерации, поскольку choice дальше не определён\n",
        "\n",
        "y_pred = lambda x: a[1] * x + a[0]\n",
        "\n",
        "for epoh in range(epohs):\n",
        "    i = choice[epoh] # да, совпадает, но только в этой задаче!\n",
        "    grad = [2 * (y_pred(x[i]) - y[i]),\n",
        "            2 * (y_pred(x[i]) - y[i]) * x[i]]\n",
        "    a = [a[0] - h * grad[0],\n",
        "         a[1] - h * grad[1]]\n",
        "    print(f'epoh = {epoh+1}, w_0 = {round(a[0], 2)}, w_1 = {round(a[1], 2)}')"
      ]
    },
    {
      "cell_type": "markdown",
      "source": [
        "# Форум"
      ],
      "metadata": {
        "id": "WRSMf8wqh9Ba"
      }
    },
    {
      "cell_type": "code",
      "source": [
        "# Vadim Kopeykin https://stepik.org/lesson/573082/step/2?discussion=8583533&thread=solutions&unit=567631\n",
        "import numpy as np\n",
        "\n",
        "X = np.array([[1, 0], [1, 1], [1, 3]])\n",
        "y = np.array([1, 2, 3])\n",
        "w = np.array([0., 0.])\n",
        "\n",
        "h = 0.1\n",
        "for i in range(2):\n",
        "    w -= 2 * (X[i] @ w - y[i]) * X[i] * h\n",
        "\n",
        "print(w[0])"
      ],
      "metadata": {
        "colab": {
          "base_uri": "https://localhost:8080/"
        },
        "id": "pAIaKOFIpJCq",
        "outputId": "a3ae6dee-7fdc-40b6-acc9-0d1467a44ce8"
      },
      "execution_count": null,
      "outputs": [
        {
          "output_type": "stream",
          "name": "stdout",
          "text": [
            "0.56\n"
          ]
        }
      ]
    }
  ]
}