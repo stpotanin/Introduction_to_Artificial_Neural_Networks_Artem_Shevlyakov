{
  "nbformat": 4,
  "nbformat_minor": 0,
  "metadata": {
    "colab": {
      "provenance": [],
      "authorship_tag": "ABX9TyPZw03HsuGX4h/0vwjSxwgN"
    },
    "kernelspec": {
      "name": "python3",
      "display_name": "Python 3"
    },
    "language_info": {
      "name": "python"
    }
  },
  "cells": [
    {
      "cell_type": "markdown",
      "source": [
        "https://stepik.org/lesson/570101/step/4\n",
        "\n",
        "В двух предыдущих задачах вы работали с функцией $ f(x_1,x_2)=x_1^2+10x_2^2 $ и нашли позицию $ a_2 $ \"шарика\" после двух шагов градиентного спуска. А чему равна вторая координата точки $ a_2 $?\n",
        "\n",
        "Напишите это значение, не подсматривая в следующий раздел.\n",
        "\n",
        "Мы к этой задаче ещё раз вернёмся ))))"
      ],
      "metadata": {
        "id": "QQocGdVnyWEy"
      }
    },
    {
      "cell_type": "markdown",
      "source": [
        "# Решение\n",
        "Формула: $ a_{n+1} -= h \\frac{df}{dx}$"
      ],
      "metadata": {
        "id": "m6HqvjnsRm0Q"
      }
    },
    {
      "cell_type": "code",
      "source": [
        "#@title sympy + IPython.display\n",
        "\n",
        "from sympy import symbols, ln, diff\n",
        "from IPython.display import display\n",
        "\n",
        "x_1 = symbols('x_1')\n",
        "x_2 = symbols('x_2')\n",
        "\n",
        "f = x_1**2 + 10 * x_2**2\n",
        "a_0 = [10, 1]\n",
        "h = 0.1\n",
        "step = 2\n",
        "\n",
        "print('Производная по x_1:\\n')\n",
        "display(diff(f, x_1))  # Важно использовать display\n",
        "\n",
        "print('\\nПроизводная по x_2:\\n')\n",
        "display(diff(f, x_2))\n",
        "\n",
        "def position(a, h, step):\n",
        "    for _ in range(step):\n",
        "        coord1 = a[0] - h * diff(f, x_1).subs({x_1:a[0], x_2:a[1]})\n",
        "        coord2 = a[1] - h * diff(f, x_2).subs({x_1:a[0], x_2:a[1]})\n",
        "        a = [coord1, coord2]\n",
        "    return a\n",
        "\n",
        "print(f'\\nКоординаты позиции \"шарика\" в на шаге {step}\\n')\n",
        "print(tuple(round(coord, 2) for coord in position(a_0, h, step)))"
      ],
      "metadata": {
        "id": "7J_2xbWA5JtA",
        "outputId": "81407a3e-d715-492e-da86-da97d83405ef",
        "colab": {
          "base_uri": "https://localhost:8080/",
          "height": 217
        }
      },
      "execution_count": null,
      "outputs": [
        {
          "output_type": "stream",
          "name": "stdout",
          "text": [
            "Производная по x_1:\n",
            "\n"
          ]
        },
        {
          "output_type": "display_data",
          "data": {
            "text/plain": [
              "2*x_1"
            ],
            "text/latex": "$\\displaystyle 2 x_{1}$"
          },
          "metadata": {}
        },
        {
          "output_type": "stream",
          "name": "stdout",
          "text": [
            "\n",
            "Производная по x_2:\n",
            "\n"
          ]
        },
        {
          "output_type": "display_data",
          "data": {
            "text/plain": [
              "20*x_2"
            ],
            "text/latex": "$\\displaystyle 20 x_{2}$"
          },
          "metadata": {}
        },
        {
          "output_type": "stream",
          "name": "stdout",
          "text": [
            "\n",
            "Координаты позиции \"шарика\" в на шаге 2\n",
            "\n",
            "(6.40, 1.00000000000000)\n"
          ]
        }
      ]
    }
  ]
}