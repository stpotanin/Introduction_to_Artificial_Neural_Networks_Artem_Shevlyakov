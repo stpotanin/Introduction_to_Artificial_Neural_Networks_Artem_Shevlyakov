{
  "nbformat": 4,
  "nbformat_minor": 0,
  "metadata": {
    "colab": {
      "provenance": [],
      "authorship_tag": "ABX9TyOGHNh4BbuMQbcHkPCg/Dn1"
    },
    "kernelspec": {
      "name": "ir",
      "display_name": "R"
    },
    "language_info": {
      "name": "R"
    }
  },
  "cells": [
    {
      "cell_type": "markdown",
      "source": [
        "https://stepik.org/lesson/570100/step/5\n",
        "\n",
        "А это задачка просто на навыки дифференцирования. Дана функция $f(x_1,x_2)=sin(x_1x_2)$, слабо найти ее частные производные?\n",
        "\n",
        "Напишите в ответ, чему равно значение частной производной по второму аргументу в точке $(1,0)$."
      ],
      "metadata": {
        "id": "QQocGdVnyWEy"
      }
    },
    {
      "cell_type": "code",
      "source": [
        "#@title R\n",
        "\n",
        "dmp <- function (x_1, x_2) {\n",
        "    dx_1 <- cos(x_1 * x_2) * x_2\n",
        "    dx_2 <- cos(x_1 * x_2) * x_1\n",
        "    return (c(dx_1, dx_2))\n",
        "}\n",
        "\n",
        "x_1 <- 1\n",
        "x_2 <- 0\n",
        "dmp(x_1, x_2)"
      ],
      "metadata": {
        "id": "7J_2xbWA5JtA",
        "outputId": "071fd65b-b093-4d12-ad5f-09dc36a38eed",
        "colab": {
          "base_uri": "https://localhost:8080/",
          "height": 34
        }
      },
      "execution_count": null,
      "outputs": [
        {
          "output_type": "display_data",
          "data": {
            "text/html": [
              "<style>\n",
              ".list-inline {list-style: none; margin:0; padding: 0}\n",
              ".list-inline>li {display: inline-block}\n",
              ".list-inline>li:not(:last-child)::after {content: \"\\00b7\"; padding: 0 .5ex}\n",
              "</style>\n",
              "<ol class=list-inline><li>0</li><li>1</li></ol>\n"
            ],
            "text/markdown": "1. 0\n2. 1\n\n\n",
            "text/latex": "\\begin{enumerate*}\n\\item 0\n\\item 1\n\\end{enumerate*}\n",
            "text/plain": [
              "[1] 0 1"
            ]
          },
          "metadata": {}
        }
      ]
    },
    {
      "cell_type": "code",
      "source": [
        "# https://www.r-bloggers.com/2020/05/caracas-computer-algebra-in-r-via-sympy/\n",
        "! install.packages('caracas')\n",
        "library(caracas)"
      ],
      "metadata": {
        "colab": {
          "base_uri": "https://localhost:8080/"
        },
        "id": "aympGQrulmSZ",
        "outputId": "3dcc1416-b7fb-4231-f637-ef55bb89535e"
      },
      "execution_count": null,
      "outputs": [
        {
          "output_type": "stream",
          "name": "stderr",
          "text": [
            "\n",
            "Attaching package: ‘caracas’\n",
            "\n",
            "\n",
            "The following objects are masked from ‘package:base’:\n",
            "\n",
            "    %*%, det, diag, diag<-\n",
            "\n",
            "\n"
          ]
        }
      ]
    },
    {
      "cell_type": "code",
      "source": [
        "x <- symbol('x')\n",
        "eq <- 2*x^2 - x\n",
        "eq"
      ],
      "metadata": {
        "colab": {
          "base_uri": "https://localhost:8080/",
          "height": 52
        },
        "id": "MnwbO8kzlXSQ",
        "outputId": "10110260-6a4b-4c80-b023-02c68ba177de"
      },
      "execution_count": null,
      "outputs": [
        {
          "output_type": "display_data",
          "data": {
            "text/plain": [
              "c:    2    \n",
              "   2⋅x  - x"
            ]
          },
          "metadata": {}
        }
      ]
    },
    {
      "cell_type": "code",
      "source": [
        "as.character(eq)"
      ],
      "metadata": {
        "colab": {
          "base_uri": "https://localhost:8080/",
          "height": 34
        },
        "id": "Tkdo17MGmg66",
        "outputId": "60e539fc-1180-43a6-c6be-1932b4a4a44a"
      },
      "execution_count": null,
      "outputs": [
        {
          "output_type": "display_data",
          "data": {
            "text/html": [
              "'2*x^2 - x'"
            ],
            "text/markdown": "'2*x^2 - x'",
            "text/latex": "'2*x\\textasciicircum{}2 - x'",
            "text/plain": [
              "[1] \"2*x^2 - x\""
            ]
          },
          "metadata": {}
        }
      ]
    }
  ]
}