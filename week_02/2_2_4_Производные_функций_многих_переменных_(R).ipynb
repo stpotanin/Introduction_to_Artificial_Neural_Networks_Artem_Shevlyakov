{
  "nbformat": 4,
  "nbformat_minor": 0,
  "metadata": {
    "colab": {
      "provenance": [],
      "authorship_tag": "ABX9TyM3Bb3PoXguXf+1AuXkFfm3"
    },
    "kernelspec": {
      "name": "ir",
      "display_name": "R"
    },
    "language_info": {
      "name": "R"
    }
  },
  "cells": [
    {
      "cell_type": "markdown",
      "source": [
        "https://stepik.org/lesson/570100/step/4\n",
        "\n",
        "Дана ФМП:\n",
        "Система уравнений из прошлой задачи решалась легко.\n",
        "\n",
        "А теперь вот такая функция: $f(x_1,x_2)=x_1^2+4x_1+2x_2^2+5x_2+3x_1x_2+6$ и у нее действительно есть точка минимума.\n",
        "\n",
        "Найдите ее и в ответ напишите координату точки минимума **по второй переменной**."
      ],
      "metadata": {
        "id": "QQocGdVnyWEy"
      }
    },
    {
      "cell_type": "code",
      "source": [
        "#@title R\n",
        "\n",
        "fmp <- function () {\n",
        "    # dx1 : 2*x_1 + 4 + 3*x_2 = 0\n",
        "    # dx2 : 4*x_2 + 5 + 3*x_1 = 0\n",
        "    x1_min <- 1\n",
        "    x2_min <- -2\n",
        "    return (c(x1_min, x2_min))\n",
        "}\n",
        "\n",
        "fmp()"
      ],
      "metadata": {
        "id": "7J_2xbWA5JtA",
        "outputId": "48ed62b0-7336-47c9-ef1b-c6f930d8086d",
        "colab": {
          "base_uri": "https://localhost:8080/",
          "height": 34
        }
      },
      "execution_count": null,
      "outputs": [
        {
          "output_type": "display_data",
          "data": {
            "text/html": [
              "<style>\n",
              ".list-inline {list-style: none; margin:0; padding: 0}\n",
              ".list-inline>li {display: inline-block}\n",
              ".list-inline>li:not(:last-child)::after {content: \"\\00b7\"; padding: 0 .5ex}\n",
              "</style>\n",
              "<ol class=list-inline><li>1</li><li>-2</li></ol>\n"
            ],
            "text/markdown": "1. 1\n2. -2\n\n\n",
            "text/latex": "\\begin{enumerate*}\n\\item 1\n\\item -2\n\\end{enumerate*}\n",
            "text/plain": [
              "[1]  1 -2"
            ]
          },
          "metadata": {}
        }
      ]
    }
  ]
}