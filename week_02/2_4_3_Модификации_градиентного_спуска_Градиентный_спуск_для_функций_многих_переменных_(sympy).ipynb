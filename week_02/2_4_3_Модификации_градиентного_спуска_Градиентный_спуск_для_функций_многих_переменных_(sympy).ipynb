{
  "nbformat": 4,
  "nbformat_minor": 0,
  "metadata": {
    "colab": {
      "provenance": [],
      "authorship_tag": "ABX9TyObskQWgCC8yOZgZqLJUOtD"
    },
    "kernelspec": {
      "name": "python3",
      "display_name": "Python 3"
    },
    "language_info": {
      "name": "python"
    }
  },
  "cells": [
    {
      "cell_type": "markdown",
      "source": [
        "https://stepik.org/lesson/570102/step/3"
      ],
      "metadata": {
        "id": "QQocGdVnyWEy"
      }
    },
    {
      "cell_type": "markdown",
      "source": [
        "# Решение\n",
        "Формула: $ a_{n+1} -= h \\frac{df}{dx}$, где $ h=h_0 e^{-n/T}$ для $ h_0=1 $, $ T=1 $.\n",
        "\n",
        "$h: 1, 0.37, 0.14 ... $"
      ],
      "metadata": {
        "id": "m6HqvjnsRm0Q"
      }
    },
    {
      "cell_type": "code",
      "source": [
        "#@title sympy + IPython.display\n",
        "\n",
        "from sympy import symbols, ln, diff, exp\n",
        "from IPython.display import display\n",
        "\n",
        "x = symbols('x')\n",
        "\n",
        "f = x**2\n",
        "a_0 = 1\n",
        "h_0 = 1\n",
        "T = 1\n",
        "\n",
        "print('Производная по x:\\n')\n",
        "display(diff(f, x))  # Важно использовать display\n",
        "\n",
        "print('\\nПоследоваательность h:\\n')\n",
        "display([round(h_0 * exp(-n/T), 2) for n in range(5)])\n",
        "\n",
        "def position(a, h, step):\n",
        "    for n in range(step):\n",
        "        h = h_0 * exp(-n/T)\n",
        "        a -= h * diff(f, x).subs({x:a})\n",
        "    return a\n",
        "\n",
        "step = 2\n",
        "print(f'\\nКоордината позиции \"шарика\" в на шаге {step}:\\n')\n",
        "print(round(position(a_0, h_0, step), 2))\n",
        "\n",
        "step = 3\n",
        "print(f'\\nКоордината позиции \"шарика\" в на шаге {step}:\\n')\n",
        "print(round(position(a_0, h_0, step), 2))"
      ],
      "metadata": {
        "id": "7J_2xbWA5JtA",
        "outputId": "e7bdf816-5a4d-45ec-f4ef-58e52cacdacc",
        "colab": {
          "base_uri": "https://localhost:8080/",
          "height": 282
        }
      },
      "execution_count": null,
      "outputs": [
        {
          "output_type": "stream",
          "name": "stdout",
          "text": [
            "Производная по x:\n",
            "\n"
          ]
        },
        {
          "output_type": "display_data",
          "data": {
            "text/plain": [
              "2*x"
            ],
            "text/latex": "$\\displaystyle 2 x$"
          },
          "metadata": {}
        },
        {
          "output_type": "stream",
          "name": "stdout",
          "text": [
            "\n",
            "Последоваательность h:\n",
            "\n"
          ]
        },
        {
          "output_type": "display_data",
          "data": {
            "text/plain": [
              "[1, 0.37, 0.14, 0.05, 0.02]"
            ]
          },
          "metadata": {}
        },
        {
          "output_type": "stream",
          "name": "stdout",
          "text": [
            "\n",
            "Координата позиции \"шарика\" в на шаге 2:\n",
            "\n",
            "-0.26\n",
            "\n",
            "Координата позиции \"шарика\" в на шаге 3:\n",
            "\n",
            "-0.19\n"
          ]
        }
      ]
    }
  ]
}