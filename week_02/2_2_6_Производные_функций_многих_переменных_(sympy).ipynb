{
  "nbformat": 4,
  "nbformat_minor": 0,
  "metadata": {
    "colab": {
      "provenance": [],
      "authorship_tag": "ABX9TyN+nZxWR+9w59HsSvNjrUHD"
    },
    "kernelspec": {
      "name": "python3",
      "display_name": "Python 3"
    },
    "language_info": {
      "name": "python"
    }
  },
  "cells": [
    {
      "cell_type": "markdown",
      "source": [
        "https://stepik.org/lesson/570100/step/6\n",
        "\n",
        "А это еще задачка просто на навыки дифференцирования. Дана функция $f(x_1, x_2, x_3) = ln(x_1x_2+x_1x_3)$, слабо найти ее частные производные?\n",
        "\n",
        "Напишите в ответ, чему равно значение частной производной по первому аргументу в точке $(4,2,1)$."
      ],
      "metadata": {
        "id": "QQocGdVnyWEy"
      }
    },
    {
      "cell_type": "code",
      "source": [
        "#@title sympy\n",
        "\n",
        "from sympy import symbols, ln, diff\n",
        "from IPython.display import display\n",
        "\n",
        "x_1 = symbols('x_1')\n",
        "x_2 = symbols('x_2')\n",
        "x_3 = symbols('x_3')\n",
        "\n",
        "f = ln(x_1 * x_2 + x_1 * x_3)\n",
        "\n",
        "print('Производная по x_1:\\n')\n",
        "display(diff(f, x_1))  # Важно использовать display\n",
        "\n",
        "print('\\nПроизводная по x_2:\\n')\n",
        "display(diff(f, x_2))\n",
        "\n",
        "print('\\nПроизводная по x_3:\\n')\n",
        "display(diff(f, x_2))\n",
        "\n",
        "print('\\nПроизводная по x_1 в точке (4, 2, 1):\\n')\n",
        "display(diff(f, x_1).subs({x_1:4, x_2:2, x_3:1}))"
      ],
      "metadata": {
        "id": "7J_2xbWA5JtA",
        "outputId": "4fb45f4b-854c-4751-c6a1-3a507dc80ac7",
        "colab": {
          "base_uri": "https://localhost:8080/",
          "height": 343
        }
      },
      "execution_count": null,
      "outputs": [
        {
          "output_type": "stream",
          "name": "stdout",
          "text": [
            "Производная по x_1:\n",
            "\n"
          ]
        },
        {
          "output_type": "display_data",
          "data": {
            "text/plain": [
              "(x_2 + x_3)/(x_1*x_2 + x_1*x_3)"
            ],
            "text/latex": "$\\displaystyle \\frac{x_{2} + x_{3}}{x_{1} x_{2} + x_{1} x_{3}}$"
          },
          "metadata": {}
        },
        {
          "output_type": "stream",
          "name": "stdout",
          "text": [
            "\n",
            "Производная по x_2:\n",
            "\n"
          ]
        },
        {
          "output_type": "display_data",
          "data": {
            "text/plain": [
              "x_1/(x_1*x_2 + x_1*x_3)"
            ],
            "text/latex": "$\\displaystyle \\frac{x_{1}}{x_{1} x_{2} + x_{1} x_{3}}$"
          },
          "metadata": {}
        },
        {
          "output_type": "stream",
          "name": "stdout",
          "text": [
            "\n",
            "Производная по x_3:\n",
            "\n"
          ]
        },
        {
          "output_type": "display_data",
          "data": {
            "text/plain": [
              "x_1/(x_1*x_2 + x_1*x_3)"
            ],
            "text/latex": "$\\displaystyle \\frac{x_{1}}{x_{1} x_{2} + x_{1} x_{3}}$"
          },
          "metadata": {}
        },
        {
          "output_type": "stream",
          "name": "stdout",
          "text": [
            "\n",
            "Производная по x_1 в точке (4, 2, 1):\n",
            "\n"
          ]
        },
        {
          "output_type": "display_data",
          "data": {
            "text/plain": [
              "1/4"
            ],
            "text/latex": "$\\displaystyle \\frac{1}{4}$"
          },
          "metadata": {}
        }
      ]
    }
  ]
}