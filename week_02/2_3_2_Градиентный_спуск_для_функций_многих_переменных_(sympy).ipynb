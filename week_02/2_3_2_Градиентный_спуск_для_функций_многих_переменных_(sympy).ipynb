{
  "nbformat": 4,
  "nbformat_minor": 0,
  "metadata": {
    "colab": {
      "provenance": [],
      "authorship_tag": "ABX9TyOQNkKRaeiLP2C/c4kLITQl"
    },
    "kernelspec": {
      "name": "python3",
      "display_name": "Python 3"
    },
    "language_info": {
      "name": "python"
    }
  },
  "cells": [
    {
      "cell_type": "markdown",
      "source": [
        "https://stepik.org/lesson/570101/step/2\n",
        "\n",
        "Вот вам функция от двух аргументов $ f(x_1,x_2)=x_1^2+10x_2^2 $. На видео-лекции была аналогичная функция, только без коэффициента 10. Постройте ее график, там будет видно, какая у этой функции точка минимума. Поверхность будет похожа на сплюснутый стаканчик. Пусть первая точка градиентного спуска равна $ a_0=(10,1) $,  шаг $ h=0.1 $. Чему равна первая координата следующей позиции \"шарика\" $a_1=(?,...)?$ Впишите это значение в ответ.\n",
        "\n",
        "Мы к этой задаче ещё вернёмся ))))"
      ],
      "metadata": {
        "id": "QQocGdVnyWEy"
      }
    },
    {
      "cell_type": "markdown",
      "source": [
        "# Решение\n",
        "Формула: $ a_1 = a_0 - h \\frac{df}{dx}$"
      ],
      "metadata": {
        "id": "m6HqvjnsRm0Q"
      }
    },
    {
      "cell_type": "code",
      "source": [
        "#@title sympy + IPython.display\n",
        "\n",
        "from sympy import symbols, ln, diff\n",
        "from IPython.display import display\n",
        "\n",
        "x_1 = symbols('x_1')\n",
        "x_2 = symbols('x_2')\n",
        "\n",
        "f = x_1**2 + 10 * x_2**2\n",
        "a_0 = (10, 1)\n",
        "h = 0.1\n",
        "\n",
        "print('Производная по x_1:\\n')\n",
        "display(diff(f, x_1))  # Важно использовать display\n",
        "\n",
        "print('\\nПроизводная по x_2:\\n')\n",
        "display(diff(f, x_2))\n",
        "\n",
        "print('\\nКоордината x_1 позиции \"шарика\" в точкке a_1:\\n')\n",
        "display(a_0[0] - h * diff(f, x_1).subs({x_1:10, x_2:1}))"
      ],
      "metadata": {
        "id": "7J_2xbWA5JtA",
        "outputId": "ca910743-e00f-4fd9-8b58-a960789f0652",
        "colab": {
          "base_uri": "https://localhost:8080/",
          "height": 219
        }
      },
      "execution_count": null,
      "outputs": [
        {
          "output_type": "stream",
          "name": "stdout",
          "text": [
            "Производная по x_1:\n",
            "\n"
          ]
        },
        {
          "output_type": "display_data",
          "data": {
            "text/plain": [
              "2*x_1"
            ],
            "text/latex": "$\\displaystyle 2 x_{1}$"
          },
          "metadata": {}
        },
        {
          "output_type": "stream",
          "name": "stdout",
          "text": [
            "\n",
            "Производная по x_2:\n",
            "\n"
          ]
        },
        {
          "output_type": "display_data",
          "data": {
            "text/plain": [
              "20*x_2"
            ],
            "text/latex": "$\\displaystyle 20 x_{2}$"
          },
          "metadata": {}
        },
        {
          "output_type": "stream",
          "name": "stdout",
          "text": [
            "\n",
            "Координата x_1 позиции \"шарика\" в точкке a_1:\n",
            "\n"
          ]
        },
        {
          "output_type": "display_data",
          "data": {
            "text/plain": [
              "8.00000000000000"
            ],
            "text/latex": "$\\displaystyle 8.0$"
          },
          "metadata": {}
        }
      ]
    }
  ]
}
