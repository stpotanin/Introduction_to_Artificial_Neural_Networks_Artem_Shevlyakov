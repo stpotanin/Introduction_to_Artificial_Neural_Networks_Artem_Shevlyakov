{
  "nbformat": 4,
  "nbformat_minor": 0,
  "metadata": {
    "colab": {
      "provenance": [],
      "authorship_tag": "ABX9TyNLnuPG6HQPre1gdO/65zN9"
    },
    "kernelspec": {
      "name": "python3",
      "display_name": "Python 3"
    },
    "language_info": {
      "name": "python"
    }
  },
  "cells": [
    {
      "cell_type": "markdown",
      "source": [
        "https://stepik.org/lesson/570102/step/4"
      ],
      "metadata": {
        "id": "QQocGdVnyWEy"
      }
    },
    {
      "cell_type": "markdown",
      "source": [
        "# Решение\n",
        "\n",
        "**Градиент** (gradient) есть не что иное, как совокупность частных производных по каждой из независимых переменных. Его можно назвать «полной производной».\n",
        "\n",
        "Формулы Adagrad из [слайдов](https://stepik.org/lesson/597761?unit=592821) лекции (без \\overline): $$ a_{n+1} = a_n - \\frac{h}{\\sqrt{G_{n+1}+ϵ}}∇f(a_n)$$\n",
        "\n",
        "где $ G_{n+1} = G_n + (\\nabla f(a_n))^2 $"
      ],
      "metadata": {
        "id": "m6HqvjnsRm0Q"
      }
    },
    {
      "cell_type": "code",
      "source": [
        "#@title sympy + IPython.display\n",
        "\n",
        "from sympy import symbols, ln, diff\n",
        "from IPython.display import display\n",
        "\n",
        "x_1 = symbols('x_1')\n",
        "x_2 = symbols('x_2')\n",
        "\n",
        "f = x_1**2 + 10 * x_2**2\n",
        "a_0 = [10, 1]\n",
        "h = 0.1\n",
        "\n",
        "\n",
        "print('Производная по x_1:\\n')\n",
        "display(diff(f, x_1))  # Важно использовать display\n",
        "\n",
        "print('\\nПроизводная по x_2:\\n')\n",
        "display(diff(f, x_2))\n",
        "\n",
        "def position(a, h, step):\n",
        "    G = [0, 0]\n",
        "    for _ in range(step):\n",
        "        G[0] = G[0] + diff(f, x_1).subs({x_1:a[0], x_2:a[1]})**2\n",
        "        G[1] = G[1] + diff(f, x_2).subs({x_1:a[0], x_2:a[1]})**2\n",
        "        coord1 = a[0] - diff(f, x_1).subs({x_1:a[0], x_2:a[1]}) * h / G[0]**.5\n",
        "        coord2 = a[1] - diff(f, x_2).subs({x_1:a[0], x_2:a[1]}) * h / G[1]**.5\n",
        "        a = [coord1, coord2]\n",
        "\n",
        "    return a\n",
        "\n",
        "step = 1\n",
        "print(f'\\nКоординаты позиции \"шарика\" в на шаге {step}:\\n')\n",
        "print(tuple(round(coord, 2) for coord in position(a_0, h, step)))\n",
        "\n",
        "step = 2\n",
        "print(f'\\nКоординаты позиции \"шарика\" в на шаге {step}:\\n')\n",
        "print(tuple(round(coord, 2) for coord in position(a_0, h, step)))"
      ],
      "metadata": {
        "id": "7J_2xbWA5JtA",
        "outputId": "4bfc4fbd-8acb-4b4a-f934-99c227a4b46b",
        "colab": {
          "base_uri": "https://localhost:8080/",
          "height": 283
        }
      },
      "execution_count": null,
      "outputs": [
        {
          "output_type": "stream",
          "name": "stdout",
          "text": [
            "Производная по x_1:\n",
            "\n"
          ]
        },
        {
          "output_type": "display_data",
          "data": {
            "text/plain": [
              "2*x_1"
            ],
            "text/latex": "$\\displaystyle 2 x_{1}$"
          },
          "metadata": {}
        },
        {
          "output_type": "stream",
          "name": "stdout",
          "text": [
            "\n",
            "Производная по x_2:\n",
            "\n"
          ]
        },
        {
          "output_type": "display_data",
          "data": {
            "text/plain": [
              "20*x_2"
            ],
            "text/latex": "$\\displaystyle 20 x_{2}$"
          },
          "metadata": {}
        },
        {
          "output_type": "stream",
          "name": "stdout",
          "text": [
            "\n",
            "Координаты позиции \"шарика\" в на шаге 1:\n",
            "\n",
            "(9.90, 0.90)\n",
            "\n",
            "Координаты позиции \"шарика\" в на шаге 2:\n",
            "\n",
            "(9.83, 0.83)\n"
          ]
        }
      ]
    },
    {
      "cell_type": "code",
      "source": [
        "\n",
        "# Данис Гарипов\n",
        "# 3 года назад\n",
        "from math import exp, sqrt\n",
        "import sympy as sp\n",
        "\n",
        "n = int(input('Введите размерность вектора x: '))\n",
        "previous_x = [float(input(f'Введите {i}-ю компоненту вектора x: ')) for i in range(1, n + 1)]\n",
        "step_size = float(input('Введите длину шага: '))\n",
        "k = int(input('Введите число итераций: '))\n",
        "h0 = step_size\n",
        "\n",
        "#Например, \"Укажите 1-ю переменную: x1\", \"Укажите 2-ю переменную: x2\"\n",
        "x_list = [sp.Symbol(input(f'Укажите {i}-ю переменную: ')) for i in range(1, n + 1)]\n",
        "f = x_list[0]**2 + 10 * x_list[1]**2\n",
        "current_x = [1 for i in range(1, n + 1)]\n",
        "\n",
        "for i in range(1, k + 1):\n",
        "    values = dict(zip(x_list, previous_x))\n",
        "    derivative = [f.diff(x_list[i]).evalf(subs=values) for i in range(0, len(x_list))]\n",
        "    square_grad = [derivative[i]**2 for i in range(0, len(derivative))]\n",
        "    G = sqrt(sum(square_grad))\n",
        "    for j in range(0, n):\n",
        "        current_x[j] = previous_x[j] - (step_size / G) * derivative[j]\n",
        "        previous_x[j] = current_x[j]\n",
        "    print(f'{i}-я итерация    Длинна шага: {step_size}    Вектор x: {current_x}')"
      ],
      "metadata": {
        "colab": {
          "base_uri": "https://localhost:8080/"
        },
        "id": "FjL5DhU8ljF4",
        "outputId": "04022eca-5738-4488-f2bc-6c7d36201a04"
      },
      "execution_count": null,
      "outputs": [
        {
          "output_type": "stream",
          "name": "stdout",
          "text": [
            "Введите размерность вектора x: 2\n",
            "Введите 1-ю компоненту вектора x: 10\n",
            "Введите 2-ю компоненту вектора x: 1\n",
            "Введите длину шага: 0.1\n",
            "Введите число итераций: 5\n",
            "Укажите 1-ю переменную: x1\n",
            "Укажите 2-ю переменную: x2\n",
            "1-я итерация    Длинна шага: 0.1    Вектор x: [9.92928932188135, 0.929289321881345]\n",
            "2-я итерация    Длинна шага: 0.1    Вектор x: [9.85627760153146, 0.860957128212843]\n",
            "3-я итерация    Длинна шага: 0.1    Вектор x: [9.78096440094777, 0.795170185603829]\n",
            "4-я итерация    Длинна шага: 0.1    Вектор x: [9.70337112896251, 0.732088618227763]\n",
            "5-я итерация    Длинна шага: 0.1    Вектор x: [9.62354267052024, 0.671860574736959]\n"
          ]
        }
      ]
    },
    {
      "cell_type": "code",
      "source": [
        "import numpy as np\n",
        "\n",
        "def grad(x):\n",
        "    return np.array([2., 20.]) * x\n",
        "\n",
        "a = np.array([10., 1.])\n",
        "g = np.zeros_like(a)\n",
        "h = 0.1\n",
        "for i in range(2):\n",
        "    g += grad(a)**2\n",
        "    a -= h * grad(a) / g**0.5\n",
        "print(f\"{a[0]:.2f}\")"
      ],
      "metadata": {
        "colab": {
          "base_uri": "https://localhost:8080/"
        },
        "id": "wdzdoUS7osHy",
        "outputId": "b7471257-4394-438b-b74d-2d7a0754ee7f"
      },
      "execution_count": null,
      "outputs": [
        {
          "output_type": "stream",
          "name": "stdout",
          "text": [
            "9.83\n"
          ]
        }
      ]
    }
  ]
}