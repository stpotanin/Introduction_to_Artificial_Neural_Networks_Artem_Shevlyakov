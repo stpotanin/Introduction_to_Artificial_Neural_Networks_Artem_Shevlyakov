{
  "nbformat": 4,
  "nbformat_minor": 0,
  "metadata": {
    "colab": {
      "provenance": [],
      "authorship_tag": "ABX9TyNRY1ZXZzGvq43c23AiEulD"
    },
    "kernelspec": {
      "name": "python3",
      "display_name": "Python 3"
    },
    "language_info": {
      "name": "python"
    }
  },
  "cells": [
    {
      "cell_type": "markdown",
      "source": [
        "https://stepik.org/lesson/570101/step/3\n",
        "\n",
        "В прошлой задаче была функция $ f(x_1,x_2)=x_1^2+10x_2^2 $. Пусть первая точка градиентного спуска равна $ a_0=(10, 1) $,  шаг $ h=0.1 $. Чему равна первая координата позиции \"шарика\" после двух шагов градиентного спуска $ a_2=(?,...) $? Впишите это значение в ответ.\n",
        "\n",
        "Мы к этой задаче ещё раз вернёмся ))))"
      ],
      "metadata": {
        "id": "QQocGdVnyWEy"
      }
    },
    {
      "cell_type": "markdown",
      "source": [
        "# Решение\n",
        "Формула: $ a_{n+1} -= h \\frac{df}{dx}$"
      ],
      "metadata": {
        "id": "m6HqvjnsRm0Q"
      }
    },
    {
      "cell_type": "code",
      "source": [
        "#@title sympy + IPython.display\n",
        "\n",
        "from sympy import symbols, ln, diff\n",
        "from IPython.display import display\n",
        "\n",
        "x_1 = symbols('x_1')\n",
        "x_2 = symbols('x_2')\n",
        "\n",
        "f = x_1**2 + 10 * x_2**2\n",
        "a_0 = [10, 1]\n",
        "h = 0.1\n",
        "step = 2\n",
        "\n",
        "print('Производная по x_1:\\n')\n",
        "display(diff(f, x_1))  # Важно использовать display\n",
        "\n",
        "print('\\nПроизводная по x_2:\\n')\n",
        "display(diff(f, x_2))\n",
        "\n",
        "def position(a, h, step):\n",
        "    for _ in range(step):\n",
        "        a1 = a[0] - h * diff(f, x_1).subs({x_1:a[0], x_2:a[1]})\n",
        "        a2 = a[1] - h * diff(f, x_2).subs({x_1:a[0], x_2:a[1]})\n",
        "        a = [a1, a2]\n",
        "    return a\n",
        "\n",
        "print(f'\\nКоординаты позиции \"шарика\" в на шаге {step}\\n')\n",
        "print(tuple(round(coord, 2) for coord in position(a_0, h, step)))"
      ],
      "metadata": {
        "id": "7J_2xbWA5JtA",
        "outputId": "8fea3693-1848-40e1-ece1-9551fdfc5ad0",
        "colab": {
          "base_uri": "https://localhost:8080/",
          "height": 217
        }
      },
      "execution_count": null,
      "outputs": [
        {
          "output_type": "stream",
          "name": "stdout",
          "text": [
            "Производная по x_1:\n",
            "\n"
          ]
        },
        {
          "output_type": "display_data",
          "data": {
            "text/plain": [
              "2*x_1"
            ],
            "text/latex": "$\\displaystyle 2 x_{1}$"
          },
          "metadata": {}
        },
        {
          "output_type": "stream",
          "name": "stdout",
          "text": [
            "\n",
            "Производная по x_2:\n",
            "\n"
          ]
        },
        {
          "output_type": "display_data",
          "data": {
            "text/plain": [
              "20*x_2"
            ],
            "text/latex": "$\\displaystyle 20 x_{2}$"
          },
          "metadata": {}
        },
        {
          "output_type": "stream",
          "name": "stdout",
          "text": [
            "\n",
            "Координаты позиции \"шарика\" в на шаге 2\n",
            "\n",
            "(6.40, 1.00000000000000)\n"
          ]
        }
      ]
    }
  ]
}
