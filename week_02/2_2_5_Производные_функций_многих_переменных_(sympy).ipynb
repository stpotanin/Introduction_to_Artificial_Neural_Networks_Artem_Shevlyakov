{
  "nbformat": 4,
  "nbformat_minor": 0,
  "metadata": {
    "colab": {
      "provenance": [],
      "authorship_tag": "ABX9TyNZ1363g5szRB4u7m9nTlcX"
    },
    "kernelspec": {
      "name": "python3",
      "display_name": "Python 3"
    },
    "language_info": {
      "name": "python"
    }
  },
  "cells": [
    {
      "cell_type": "markdown",
      "source": [
        "https://stepik.org/lesson/570100/step/5\n",
        "\n",
        "А это задачка просто на навыки дифференцирования. Дана функция $f(x_1,x_2)=sin(x_1x_2)$, слабо найти ее частные производные?\n",
        "\n",
        "Напишите в ответ, чему равно значение частной производной по второму аргументу в точке $(1,0)$."
      ],
      "metadata": {
        "id": "QQocGdVnyWEy"
      }
    },
    {
      "cell_type": "code",
      "source": [
        "#@title sympy\n",
        "\n",
        "from sympy import symbols, sin, diff\n",
        "from IPython.display import display\n",
        "\n",
        "x_1 = symbols('x_1')\n",
        "x_2 = symbols('x_2')\n",
        "\n",
        "f = sin(x_1 * x_2)\n",
        "\n",
        "print('Производная по x_1:\\n')\n",
        "display(diff(f, x_1))  # Важно использовать display\n",
        "\n",
        "print('\\nПроизводная по x_2:\\n')\n",
        "display(diff(f, x_2))\n",
        "\n",
        "print('\\nПроизводная по x_2 в точке (1 0):\\n')\n",
        "display(diff(f, x_2).subs({x_1:1, x_2:0}))"
      ],
      "metadata": {
        "id": "7J_2xbWA5JtA",
        "outputId": "4657e614-1a9a-44fd-a21b-5ae69e751f2f",
        "colab": {
          "base_uri": "https://localhost:8080/",
          "height": 219
        }
      },
      "execution_count": null,
      "outputs": [
        {
          "output_type": "stream",
          "name": "stdout",
          "text": [
            "Производная по x_1:\n",
            "\n"
          ]
        },
        {
          "output_type": "display_data",
          "data": {
            "text/plain": [
              "x_2*cos(x_1*x_2)"
            ],
            "text/latex": "$\\displaystyle x_{2} \\cos{\\left(x_{1} x_{2} \\right)}$"
          },
          "metadata": {}
        },
        {
          "output_type": "stream",
          "name": "stdout",
          "text": [
            "\n",
            "Производная по x_2:\n",
            "\n"
          ]
        },
        {
          "output_type": "display_data",
          "data": {
            "text/plain": [
              "x_1*cos(x_1*x_2)"
            ],
            "text/latex": "$\\displaystyle x_{1} \\cos{\\left(x_{1} x_{2} \\right)}$"
          },
          "metadata": {}
        },
        {
          "output_type": "stream",
          "name": "stdout",
          "text": [
            "\n",
            "Производная по x_2 в точке (1 0):\n",
            "\n"
          ]
        },
        {
          "output_type": "display_data",
          "data": {
            "text/plain": [
              "1"
            ],
            "text/latex": "$\\displaystyle 1$"
          },
          "metadata": {}
        }
      ]
    }
  ]
}