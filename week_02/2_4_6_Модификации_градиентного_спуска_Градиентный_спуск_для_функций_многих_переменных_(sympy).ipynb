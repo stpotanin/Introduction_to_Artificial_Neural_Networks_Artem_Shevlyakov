{
  "nbformat": 4,
  "nbformat_minor": 0,
  "metadata": {
    "colab": {
      "provenance": [],
      "authorship_tag": "ABX9TyNJ01zM7c1Ney5XYxGPLCTp"
    },
    "kernelspec": {
      "name": "python3",
      "display_name": "Python 3"
    },
    "language_info": {
      "name": "python"
    }
  },
  "cells": [
    {
      "cell_type": "markdown",
      "source": [
        "https://stepik.org/lesson/570102/step/6"
      ],
      "metadata": {
        "id": "QQocGdVnyWEy"
      }
    },
    {
      "cell_type": "markdown",
      "source": [
        "# Решение\n",
        "\n",
        "**Градиент** (gradient) есть не что иное, как совокупность частных производных по каждой из независимых переменных. Его можно назвать «полной производной».\n",
        "\n",
        "Формулы: $$\\overline{a}_{n+1} = \\overline{a}_n - \\frac{h}{\\sqrt{\\overline{R}_{n+1}+ϵ}}{\\overline{M}_{n+1}} $$\n",
        "\n",
        "$ \\overline{M}_{n+1} = \\frac{\\overline{m}_{n+1}}{1-\\beta_1^{n+1}} $\n",
        "\n",
        "$ \\overline{R}_{n+1} = \\frac{\\overline{r}_{n+1}}{1-\\beta_2^{n+1}} $\n",
        "\n",
        "где $\\beta_1, \\beta_1$ – числа-константы, их смысл см. далее.\n",
        "\n",
        "$\\overline{m}_{n+1}=\\beta_1 \\overline{m}_n + (1-\\beta_1)∇f(\\overline{a}_n)$\n",
        "\n",
        "$\\overline{r}_{n+1}=\\beta_2 \\overline{r}_n + (1-\\beta_2)(∇f(\\overline{a}_n)^2$\n",
        "\n",
        "T.е. вектора $m_{n+1}$, $r_{n+1}$ накапливают информацию о взвешенном\n",
        "среднем градиента (квадрата градиента) с предыдущих позиций ГС.\n",
        "\n",
        "Числа $\\beta_1, \\beta_2$ показывают, **насколько сильно забываются давние значения** градиента и квадрата градиента. Чем меньше $\\beta_1, \\beta_2$, тем быстрее старые значения забываются.  \n",
        "\n",
        "Если $\\beta_1, \\beta_2=0$, то мы вообще не используем никакую историю.\n",
        "\n",
        "Обычно берут: $\\beta_1=0.9, \\beta_2=0.999$.\n",
        "\n",
        "### В нашей задаче: $ε=0,β_1=β_2=0.9$\n"
      ],
      "metadata": {
        "id": "m6HqvjnsRm0Q"
      }
    },
    {
      "cell_type": "code",
      "source": [
        "#@title sympy + IPython.display\n",
        "from sympy import symbols, ln, diff\n",
        "from IPython.display import display\n",
        "\n",
        "x_1 = symbols('x_1')\n",
        "x_2 = symbols('x_2')\n",
        "\n",
        "f = x_1**2 + 10 * x_2**2\n",
        "\n",
        "print('Производная по x_1:\\n')\n",
        "display(diff(f, x_1))  # Важно использовать display\n",
        "\n",
        "print('\\nПроизводная по x_2:\\n')\n",
        "display(diff(f, x_2))\n",
        "\n",
        "def position(a, h, b_1, b_2, step):\n",
        "    m = [0, 0]\n",
        "    r = [0, 0]\n",
        "    M = [0, 0]\n",
        "    R = [0, 0]\n",
        "\n",
        "    for n in range(step):\n",
        "        m[0] = b_1 * m[0] + (1 - b_1) * diff(f, x_1).subs({x_1:a[0], x_2:a[1]})\n",
        "        m[1] = b_1 * m[1] + (1 - b_1) * diff(f, x_2).subs({x_1:a[0], x_2:a[1]})\n",
        "        r[0] = b_2 * r[0] + (1 - b_2) * (diff(f, x_1).subs({x_1:a[0], x_2:a[1]}))**2\n",
        "        r[1] = b_2 * r[1] + (1 - b_2) * (diff(f, x_2).subs({x_1:a[0], x_2:a[1]}))**2\n",
        "        M[0] = m[0] / (1 - b_1**(n+1))\n",
        "        M[1] = m[1] / (1 - b_1**(n+1))\n",
        "        R[0] = r[0] / (1 - b_2**(n+1))\n",
        "        R[1] = r[1] / (1 - b_2**(n+1))\n",
        "        coord1 = a[0] - h * M[0] / R[0]**.5\n",
        "        coord2 = a[1] - h * M[1] / R[1]**.5\n",
        "        a = [coord1, coord2]\n",
        "\n",
        "    return a\n",
        "\n",
        "eps = 0\n",
        "b_1 = 0.9\n",
        "b_2 = 0.9\n",
        "h = 0.1\n",
        "a_0 = [10, 1]\n",
        "step = 2\n",
        "\n",
        "print(f'\\nКоординаты позиции \"шарика\" в на шаге {step}:\\n')\n",
        "position(a_0, h, b_1, b_2, step)"
      ],
      "metadata": {
        "id": "7J_2xbWA5JtA",
        "outputId": "a468e8e2-42ce-4a21-fa7d-1ae1cc13a7dd",
        "colab": {
          "base_uri": "https://localhost:8080/",
          "height": 217
        }
      },
      "execution_count": null,
      "outputs": [
        {
          "output_type": "stream",
          "name": "stdout",
          "text": [
            "Производная по x_1:\n",
            "\n"
          ]
        },
        {
          "output_type": "display_data",
          "data": {
            "text/plain": [
              "2*x_1"
            ],
            "text/latex": "$\\displaystyle 2 x_{1}$"
          },
          "metadata": {}
        },
        {
          "output_type": "stream",
          "name": "stdout",
          "text": [
            "\n",
            "Производная по x_2:\n",
            "\n"
          ]
        },
        {
          "output_type": "display_data",
          "data": {
            "text/plain": [
              "20*x_2"
            ],
            "text/latex": "$\\displaystyle 20 x_{2}$"
          },
          "metadata": {}
        },
        {
          "output_type": "stream",
          "name": "stdout",
          "text": [
            "\n",
            "Координаты позиции \"шарика\" в на шаге 2\n",
            "\n"
          ]
        },
        {
          "output_type": "execute_result",
          "data": {
            "text/plain": [
              "[9.80000125973936, 0.800138600205209]"
            ]
          },
          "metadata": {},
          "execution_count": 4
        }
      ]
    },
    {
      "cell_type": "code",
      "source": [
        "# Vadim Kopeykin https://stepik.org/lesson/570102/step/6?discussion=8485022&thread=solutions&unit=564645\n",
        "import numpy as np\n",
        "\n",
        "\n",
        "def grad(x):\n",
        "    return np.array([2., 20.]) * x\n",
        "\n",
        "a = np.array([10., 1.])\n",
        "h = 0.1\n",
        "b1 = b2 = 0.9\n",
        "m = r = np.zeros_like(a)\n",
        "\n",
        "for n in range(2):\n",
        "    m = b1 * m + (1 - b1) * grad(a)\n",
        "    r = b2 * r + (1 - b2) * grad(a)**2\n",
        "    M = m / (1 - b1**(n + 1))\n",
        "    R = r / (1 - b2**(n + 1))\n",
        "    a -= h * M / R**0.5\n",
        "print(f\"{a[0]:.2f}\")"
      ],
      "metadata": {
        "colab": {
          "base_uri": "https://localhost:8080/"
        },
        "id": "VT9cznHv64Oe",
        "outputId": "26e284a4-c6e1-4ed9-8ac2-e7a658226285"
      },
      "execution_count": null,
      "outputs": [
        {
          "output_type": "stream",
          "name": "stdout",
          "text": [
            "9.80\n"
          ]
        }
      ]
    },
    {
      "cell_type": "code",
      "source": [
        "# Данис Гарипов https://stepik.org/lesson/570102/step/6?discussion=5274045&unit=564645\n",
        "# Для n-мерной функции\n",
        "from math import exp, sqrt\n",
        "import sympy as sp\n",
        "\n",
        "n = int(input('Введите размерность вектора x: '))\n",
        "previous_x = [float(input(f'Введите {i}-ю компоненту вектора x: ')) for i in range(1, n + 1)]\n",
        "step_size = float(input('Введите длину шага: '))\n",
        "b_1, b_2 = float(input('Введите b1 и b2: ')), float(input())\n",
        "k = int(input('Введите число итераций: '))\n",
        "h0 = step_size\n",
        "# Перечисление аргументов функции\n",
        "# Например, f = x1 + 5 * x2. Укажите 1-ю переменную: x1. Укажите 1-ю переменную: x2.\n",
        "x_list = [sp.Symbol(input(f'Укажите {i}-ю переменную:')) for i in range(1, n + 1)]\n",
        "# Целевая функция\n",
        "f = x_list[0]**2 + 10 * x_list[1]**2\n",
        "current_x = [1 for i in range(1, n + 1)]\n",
        "\n",
        "for i in range(1, k + 1):\n",
        "    values = dict(zip(x_list, previous_x))\n",
        "    derivative = [f.diff(x_list[i]).evalf(subs=values) for i in range(0, len(x_list))]\n",
        "    square_grad = [derivative[i]**2 for i in range(0, len(derivative))]\n",
        "    G = sqrt(sum(square_grad))\n",
        "    m = [(1- b_1) * derivative[i] for i in range(0, len(derivative))]\n",
        "    r = [(1 - b_2) * square_grad[i] for i in range(0, len(square_grad))]\n",
        "    previous_m, previous_r = [0 for i in range(0, len(derivative))], [0 for i in range(0, len(derivative))]\n",
        "\n",
        "    for j in range(0, n):\n",
        "        current_x[j] = previous_x[j] - (step_size / sqrt((b_2 * previous_r[j] + r[j]) / (1 - b_2))) * ((b_1 * previous_m[j] + m[j]) / (1 - b_1))\n",
        "        previous_x[j] = current_x[j]\n",
        "        previous_m[j], previous_r[j] = m[j], r[j]\n",
        "    print(f'{i}-я итерация    Длинна шага: {step_size}    Вектор x: {current_x}')"
      ],
      "metadata": {
        "id": "yJy3RiKOWcsd"
      },
      "execution_count": null,
      "outputs": []
    }
  ]
}