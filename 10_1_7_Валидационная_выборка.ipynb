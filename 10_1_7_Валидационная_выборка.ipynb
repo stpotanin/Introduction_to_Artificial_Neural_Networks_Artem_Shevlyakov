{
  "nbformat": 4,
  "nbformat_minor": 0,
  "metadata": {
    "colab": {
      "provenance": [],
      "authorship_tag": "ABX9TyPU2uUbUyncr6lyTEhUqxI7"
    },
    "kernelspec": {
      "name": "python3",
      "display_name": "Python 3"
    },
    "language_info": {
      "name": "python"
    }
  },
  "cells": [
    {
      "cell_type": "markdown",
      "source": [
        "https://stepik.org/lesson/573098/step/7\n",
        "\n",
        "Допустим, что по некоторой валидационной выборке мы получили `precision=0.7` `recall=0.8` Найдите значение агрегированной характеристики $F$ и **запишите найденное значение в ответ**.\n",
        "\n",
        "P.S. Как изменился бы ответ, если поменять местами значения: `precision=0.8` `recall=0.7` ? Сможете ответить на этот вопрос, не проводя вообще никаких вычислений?\n",
        "\n",
        "\n",
        "\n",
        "**Мораль**: возрастание формальных параметров точности типа precision и recall не всегда приводит к улучшению работы модели с точки зрения человеческой логики."
      ],
      "metadata": {
        "id": "aXFQF0xx98j9"
      }
    },
    {
      "cell_type": "code",
      "source": [
        "# 0.75"
      ],
      "metadata": {
        "id": "MG0tnGpZAboo",
        "colab": {
          "base_uri": "https://localhost:8080/"
        },
        "outputId": "61fe90cd-0ebf-46b1-b3e0-19e1cd8d7cfa"
      },
      "execution_count": null,
      "outputs": [
        {
          "output_type": "execute_result",
          "data": {
            "text/plain": [
              "0.7466666666666666"
            ]
          },
          "metadata": {},
          "execution_count": 1
        }
      ]
    },
    {
      "cell_type": "code",
      "source": [
        "display(56/10)"
      ],
      "metadata": {
        "colab": {
          "base_uri": "https://localhost:8080/",
          "height": 34
        },
        "id": "YY8GMzAeE6WO",
        "outputId": "a22ccba9-838c-4f94-9b6d-c91af7168df0"
      },
      "execution_count": null,
      "outputs": [
        {
          "output_type": "display_data",
          "data": {
            "text/plain": [
              "5.6"
            ]
          },
          "metadata": {}
        }
      ]
    },
    {
      "cell_type": "markdown",
      "source": [
        "# Решение\n",
        "\n",
        "$$\n",
        "F_1 = \\frac {2 \\cdot precision \\cdot recall}{precision + recall} = \\frac {2 \\cdot 0.7 \\cdot 0.8}{0.7 + 0.8} = 0.74666\n",
        "$$\n"
      ],
      "metadata": {
        "id": "hNAb5smC45W9"
      }
    }
  ]
}