{
  "nbformat": 4,
  "nbformat_minor": 0,
  "metadata": {
    "colab": {
      "provenance": [],
      "authorship_tag": "ABX9TyPGlmJZw2bz4zW0R9eLWvvj"
    },
    "kernelspec": {
      "name": "python3",
      "display_name": "Python 3"
    },
    "language_info": {
      "name": "python"
    }
  },
  "cells": [
    {
      "cell_type": "markdown",
      "source": [
        "https://stepik.org/lesson/573071/step/4"
      ],
      "metadata": {
        "id": "osU2Mwu3zulH"
      }
    },
    {
      "cell_type": "code",
      "source": [
        "# 0.42\n",
        "1 / (16**(1/3) * 0.6)"
      ],
      "metadata": {
        "id": "87fKmW9Oz6iA",
        "colab": {
          "base_uri": "https://localhost:8080/"
        },
        "outputId": "52d98257-6f33-46c2-832d-bccbedbcc96d"
      },
      "execution_count": null,
      "outputs": [
        {
          "output_type": "execute_result",
          "data": {
            "text/plain": [
              "0.6614171049867498"
            ]
          },
          "metadata": {},
          "execution_count": 3
        }
      ]
    },
    {
      "cell_type": "markdown",
      "source": [
        "# Решение\n",
        "\n",
        "$$-ln(0.6) - ln(x) = 2 \\cdot ln(0.5) / 1.5$$\n",
        "\n",
        "$$ln(x) = \\frac{4}{3} \\cdot ln(0.5) - ln(0.6)$$\n",
        "\n",
        "$$x = \\frac{0.5^{4/3}}{0.6} = \\frac{1}{2^{4/3} \\cdot 0.6} = 0.66$$"
      ],
      "metadata": {
        "id": "D9SNCZLQ0ROM"
      }
    },
    {
      "cell_type": "code",
      "execution_count": null,
      "metadata": {
        "colab": {
          "base_uri": "https://localhost:8080/",
          "height": 37
        },
        "id": "V4V_UrDgzn48",
        "outputId": "fe993204-2e85-4ff8-afb9-9502fd8371ca"
      },
      "outputs": [
        {
          "output_type": "execute_result",
          "data": {
            "text/plain": [
              "0.66"
            ],
            "text/latex": "$\\displaystyle 0.66$"
          },
          "metadata": {},
          "execution_count": 5
        }
      ],
      "source": [
        "#@title Проверка\n",
        "from sympy import Symbol, solve, ln\n",
        "\n",
        "x = Symbol('x')\n",
        "res = solve(-ln(.6) -ln(x) + 2 * ln(0.5) / 1.5)\n",
        "round(res[0], 2)"
      ]
    }
  ]
}