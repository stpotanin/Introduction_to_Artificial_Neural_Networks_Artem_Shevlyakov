{
  "nbformat": 4,
  "nbformat_minor": 0,
  "metadata": {
    "colab": {
      "provenance": [],
      "authorship_tag": "ABX9TyM3sDu7Q0XeEq/a7Gw28R63"
    },
    "kernelspec": {
      "name": "python3",
      "display_name": "Python 3"
    },
    "language_info": {
      "name": "python"
    }
  },
  "cells": [
    {
      "cell_type": "markdown",
      "source": [
        "https://stepik.org/lesson/573071/step/2"
      ],
      "metadata": {
        "id": "osU2Mwu3zulH"
      }
    },
    {
      "cell_type": "code",
      "source": [
        "# 1.39"
      ],
      "metadata": {
        "id": "87fKmW9Oz6iA"
      },
      "execution_count": null,
      "outputs": []
    },
    {
      "cell_type": "markdown",
      "source": [
        "# Решение"
      ],
      "metadata": {
        "id": "D9SNCZLQ0ROM"
      }
    },
    {
      "cell_type": "code",
      "execution_count": null,
      "metadata": {
        "colab": {
          "base_uri": "https://localhost:8080/"
        },
        "id": "V4V_UrDgzn48",
        "outputId": "0b9aa8a8-6a2c-4362-9b22-edb828ecd9fd"
      },
      "outputs": [
        {
          "output_type": "execute_result",
          "data": {
            "text/plain": [
              "1.3862943611198906"
            ]
          },
          "metadata": {},
          "execution_count": 2
        }
      ],
      "source": [
        "from math import log\n",
        "round(-log(.5) - log(1 - .5), 2)"
      ]
    }
  ]
}