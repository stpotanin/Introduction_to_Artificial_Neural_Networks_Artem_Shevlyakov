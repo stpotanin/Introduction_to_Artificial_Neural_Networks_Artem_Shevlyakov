{
  "nbformat": 4,
  "nbformat_minor": 0,
  "metadata": {
    "colab": {
      "provenance": [],
      "authorship_tag": "ABX9TyPpsu2s7e0/PCfpTnJxH+bn"
    },
    "kernelspec": {
      "name": "python3",
      "display_name": "Python 3"
    },
    "language_info": {
      "name": "python"
    }
  },
  "cells": [
    {
      "cell_type": "markdown",
      "source": [
        "https://stepik.org/lesson/573077/step/3\n",
        "\n",
        "Представьте себе такую многослойную нейронную сеть:\n",
        "\n",
        "- у нее входной слой размерности 1;\n",
        "\n",
        "- далее идут два внутренних полносвязных слоя с неизвестным числом нейронов, причем количество нейронов на первом внутреннем слое больше числа нейронов на втором внутреннем слое;\n",
        "\n",
        "- вся сеть заканчивается выходным слоем из одного нейрона.\n",
        "\n",
        "Известно, что во всей сети число весов-смещений равно 10, а весов-связей 29.\n",
        "\n",
        "Найдите, чему равно  количество нейронов на втором внутреннем слое, и запишите это в окошко ответа."
      ],
      "metadata": {
        "id": "QQocGdVnyWEy"
      }
    },
    {
      "cell_type": "code",
      "source": [
        "#"
      ],
      "metadata": {
        "id": "7J_2xbWA5JtA"
      },
      "execution_count": null,
      "outputs": []
    },
    {
      "cell_type": "markdown",
      "source": [
        "# Подбор\n",
        "Входной слой (1 нейрон) -> Слой 1 (x1 нейронов) -> Слой 2 (x2 нейронов) -> Выходной слой (1 нейрон)\n",
        "\n",
        "Весов смещений всего 10. Минус 1 на выходной слой. Остаётся 9, которые надо поделить в сотношении:\n",
        "* либо 5 к 4 (выйдет 29 весов),\n",
        "* либо 6 к 3 (выйдет 27 весов),\n",
        "* либо 7 к 2 (выйдет 23 веса),\n",
        "* либо 8 к 1 (выйдет 17 весов).\n",
        "\n",
        "# Аналитически\n",
        "$x + x * (9 - x) + (9 - x) = 29$\n",
        "\n",
        "$-x^2 + 9x + 9 = 29$\n",
        "\n",
        "$x^2 - 9x + 20 = 0$\n",
        "\n",
        "$x_1 = 4, x_2 = 5$ Нам нужен меньший из корней"
      ],
      "metadata": {
        "id": "p43FhN3-y8qt"
      }
    },
    {
      "cell_type": "code",
      "source": [
        "#@title sympy\n",
        "from sympy import symbols, solve\n",
        "\n",
        "x = symbols('x')\n",
        "equation = x + x * (9 - x) + (9 - x) - 29 # условие\n",
        "solution = solve(equation, x)             # решение для x\n",
        "if solution:                              # если существует решение\n",
        "  numerical_solution = min(solution)      # меньший из корней\n",
        "  print(numerical_solution)\n",
        "else:\n",
        "  print(\"Не существует решения\")"
      ],
      "metadata": {
        "colab": {
          "base_uri": "https://localhost:8080/"
        },
        "id": "e0eaomwu45mc",
        "outputId": "904cd024-e8b5-40ba-a3ab-b2a032ca47af"
      },
      "execution_count": null,
      "outputs": [
        {
          "output_type": "stream",
          "name": "stdout",
          "text": [
            "4\n"
          ]
        }
      ]
    },
    {
      "cell_type": "code",
      "source": [
        "# Artem Kutsan\n",
        "from sympy import symbols, solve\n",
        "\n",
        "# Объявление символов для количества нейронов\n",
        "n1, n2 = symbols('n1 n2')\n",
        "\n",
        "# Уравнения для количества весов-связей и весов-смещений\n",
        "f1 = n1 + n1*n2 + n2 - 29  # уравнение для весов-связей\n",
        "f2 = 1 + n1 + n2 - 10  # уравнение для весов-смещений\n",
        "\n",
        "# Решение системы уравнений и неравенств\n",
        "solutions = solve((f1, f2), (n1, n2))\n",
        "\n",
        "# Фильтрация допустимых решений так как решений больше одного.\n",
        "# n1 > n2 (в первом внутреннем слое нейронов больше чем во втором)\n",
        "valid_solution = [sol for sol in solutions if sol[0] > sol[1]]\n",
        "\n",
        "print(f'Кол-тво нейронов на втором внутреннем слое: {valid_solution[0][1]}')"
      ],
      "metadata": {
        "id": "TXlaMeKAnyEa"
      },
      "execution_count": null,
      "outputs": []
    }
  ]
}