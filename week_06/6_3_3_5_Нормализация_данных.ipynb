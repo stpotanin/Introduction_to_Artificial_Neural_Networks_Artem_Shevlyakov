{
  "nbformat": 4,
  "nbformat_minor": 0,
  "metadata": {
    "colab": {
      "provenance": [],
      "authorship_tag": "ABX9TyNbNb6wn9YmqJGdC3/4npvJ"
    },
    "kernelspec": {
      "name": "python3",
      "display_name": "Python 3"
    },
    "language_info": {
      "name": "python"
    }
  },
  "cells": [
    {
      "cell_type": "markdown",
      "source": [
        "https://stepik.org/lesson/573087/step/3\n",
        "\n",
        "https://stepik.org/lesson/573087/step/4\n",
        "\n",
        "https://stepik.org/lesson/573087/step/5"
      ],
      "metadata": {
        "id": "WrXW957PVBL3"
      }
    },
    {
      "cell_type": "code",
      "execution_count": null,
      "metadata": {
        "id": "_zU72iK1U4f2",
        "colab": {
          "base_uri": "https://localhost:8080/",
          "height": 98
        },
        "outputId": "96394e08-70be-4b6c-bb4e-52c8131467ea"
      },
      "outputs": [
        {
          "output_type": "execute_result",
          "data": {
            "text/plain": [
              "Matrix([\n",
              "[0.0, 0.0,               0.0],\n",
              "[0.2, 1.0, 0.333333333333333],\n",
              "[0.6, 1.0, 0.666666666666667],\n",
              "[1.0, 0.0,               1.0]])"
            ],
            "text/latex": "$\\displaystyle \\left[\\begin{matrix}0.0 & 0.0 & 0.0\\\\0.2 & 1.0 & 0.333333333333333\\\\0.6 & 1.0 & 0.666666666666667\\\\1.0 & 0.0 & 1.0\\end{matrix}\\right]$"
          },
          "metadata": {},
          "execution_count": 39
        }
      ],
      "source": [
        "from sympy import Matrix # просто для красивого вывода\n",
        "\n",
        "A = [[50, 0, 1, 0],\n",
        "     [60, 1, 2, 1],\n",
        "     [80, 1, 3, 0],\n",
        "     [100, 0, 4, 1]]\n",
        "\n",
        "X = [A[i][:-1] for i in range(len(A))]\n",
        "Y = [A[i][-1] for i in range(len(A))]\n",
        "\n",
        "def norm(X):\n",
        "    x_min = [None for _ in range(len(X[0]))]\n",
        "    x_max = [None for _ in range(len(X[0]))]\n",
        "    for i in range(len(X)):\n",
        "        for j in range(len(X[0])):\n",
        "            x_min[j] = min(x_min[j], X[i][j]) if x_min[j] is not None else X[i][j]\n",
        "            x_max[j] = max(x_max[j], X[i][j]) if x_max[j] is not None else X[i][j]\n",
        "    X_norm = [[0 for _ in range(len(X[0]))] for _ in range(len(X))]\n",
        "    for i in range(len(X)):\n",
        "        for j in range(len(X[0])):\n",
        "            X_norm[i][j] = (X[i][j] - x_min[j]) / (x_max[j] - x_min[j])\n",
        "    return X_norm\n",
        "\n",
        "Matrix(norm(X))"
      ]
    },
    {
      "cell_type": "code",
      "source": [
        "A = [[50, 0, 1, 0],\n",
        "     [60, 1, 2, 1],\n",
        "     [80, 1, 3, 0],\n",
        "     [100, 0, 4, 1]]\n",
        "\n",
        "X = [A[i][:-1] for i in range(len(A))]\n",
        "Y = [A[i][-1] for i in range(len(A))]\n",
        "\n",
        "def norm(X, X_new=None):\n",
        "    x_min = [None for _ in range(len(X[0]))]\n",
        "    x_max = [None for _ in range(len(X[0]))]\n",
        "    for i in range(len(X)):\n",
        "        for j in range(len(X[0])):\n",
        "            x_min[j] = min(x_min[j], X[i][j]) if x_min[j] is not None else X[i][j]\n",
        "            x_max[j] = max(x_max[j], X[i][j]) if x_max[j] is not None else X[i][j]\n",
        "    X_norm = [[0 for _ in range(len(X[0]))] for _ in range(len(X))]\n",
        "    for i in range(len(X)):\n",
        "        for j in range(len(X[0])):\n",
        "            X_norm[i][j] = (X[i][j] - x_min[j]) / (x_max[j] - x_min[j])\n",
        "\n",
        "    if X_new is None:\n",
        "        return X_norm\n",
        "    else:\n",
        "        X_new_norm = [[0 for _ in range(len(X_new))]]\n",
        "        for i in range(len(X_new)):\n",
        "            X_new_norm[0][i] = (X_new[i] - x_min[i]) / (x_max[i] - x_min[i])\n",
        "        return X_new_norm\n",
        "\n",
        "A_new = [90, 1, 1, None]\n",
        "X_new = A_new[:-1]\n",
        "\n",
        "norm(X, X_new)"
      ],
      "metadata": {
        "colab": {
          "base_uri": "https://localhost:8080/"
        },
        "id": "7Pjgw1kCfBD3",
        "outputId": "69cdbfc1-75c3-43e0-f543-71d36e10935f"
      },
      "execution_count": null,
      "outputs": [
        {
          "output_type": "execute_result",
          "data": {
            "text/plain": [
              "[[0.8, 1.0, 0.0]]"
            ]
          },
          "metadata": {},
          "execution_count": 38
        }
      ]
    }
  ]
}
