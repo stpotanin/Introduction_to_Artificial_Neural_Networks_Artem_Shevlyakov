{
  "nbformat": 4,
  "nbformat_minor": 0,
  "metadata": {
    "colab": {
      "provenance": [],
      "authorship_tag": "ABX9TyPzTt3HXpoIxzit9v7d0Z6W"
    },
    "kernelspec": {
      "name": "ir",
      "display_name": "R"
    },
    "language_info": {
      "name": "R"
    }
  },
  "cells": [
    {
      "cell_type": "markdown",
      "source": [
        "https://stepik.org/lesson/570089/step/11"
      ],
      "metadata": {
        "id": "QQocGdVnyWEy"
      }
    },
    {
      "cell_type": "code",
      "source": [
        "#@title R\n",
        "d_f <- function (x) 3 * x**2 - 9\n",
        "\n",
        "a <- function (x, h, step) {\n",
        "    if (step == 0)\n",
        "        return (x)\n",
        "    else {\n",
        "        x <- x - h * d_f(x)\n",
        "        step <- step - 1\n",
        "        return (a(x, h, step))\n",
        "        }\n",
        "}\n",
        "\n",
        "\n",
        "a_0 <- -2\n",
        "h <- 0.1\n",
        "step <- 2\n",
        "round(a(a_0, h, step), 2)"
      ],
      "metadata": {
        "id": "7J_2xbWA5JtA",
        "outputId": "59e543f5-8c9e-441f-bcd7-c917afe7d12a",
        "colab": {
          "base_uri": "https://localhost:8080/",
          "height": 34
        },
        "cellView": "form"
      },
      "execution_count": null,
      "outputs": [
        {
          "output_type": "display_data",
          "data": {
            "text/html": [
              "-2.99"
            ],
            "text/markdown": "-2.99",
            "text/latex": "-2.99",
            "text/plain": [
              "[1] -2.99"
            ]
          },
          "metadata": {}
        }
      ]
    },
    {
      "cell_type": "code",
      "execution_count": null,
      "metadata": {
        "colab": {
          "base_uri": "https://localhost:8080/"
        },
        "id": "mKu9WDv6yMZc",
        "outputId": "363d926c-f49f-4629-9299-e7b3607db413",
        "cellView": "form"
      },
      "outputs": [
        {
          "output_type": "execute_result",
          "data": {
            "text/plain": [
              "0.45"
            ]
          },
          "metadata": {},
          "execution_count": 4
        }
      ],
      "source": [
        "#@title Python\n",
        "# d_f = lambda x: 3 * x**2 - 9\n",
        "\n",
        "# def a(x, h, step):\n",
        "#     if step == 0:\n",
        "#         return x\n",
        "#     else:\n",
        "#         x = x - h * d_f(x)\n",
        "#         step -= 1\n",
        "#         return a(x, h, step)\n",
        "\n",
        "# a_0 = -1\n",
        "# h = 0.1\n",
        "# step = 2\n",
        "# round(a(a_0, h, step), 2)"
      ]
    }
  ]
}
