{
  "nbformat": 4,
  "nbformat_minor": 0,
  "metadata": {
    "colab": {
      "provenance": [],
      "authorship_tag": "ABX9TyPIDILMQes9tCWY1cQud7Pp"
    },
    "kernelspec": {
      "name": "python3",
      "display_name": "Python 3"
    },
    "language_info": {
      "name": "python"
    }
  },
  "cells": [
    {
      "cell_type": "markdown",
      "source": [
        "https://stepik.org/lesson/573071/step/3"
      ],
      "metadata": {
        "id": "osU2Mwu3zulH"
      }
    },
    {
      "cell_type": "code",
      "source": [
        "# 0.42\n",
        "0.5 * 0.5 / 0.6"
      ],
      "metadata": {
        "id": "87fKmW9Oz6iA",
        "colab": {
          "base_uri": "https://localhost:8080/"
        },
        "outputId": "b4ae5667-1e5f-4c3b-cd3c-b64b8e30c840"
      },
      "execution_count": null,
      "outputs": [
        {
          "output_type": "execute_result",
          "data": {
            "text/plain": [
              "0.6614171049867498"
            ]
          },
          "metadata": {},
          "execution_count": 8
        }
      ]
    },
    {
      "cell_type": "markdown",
      "source": [
        "# Решение\n",
        "\n",
        "$$-ln(0.6) - ln(x) = 2 \\cdot ln(0.5)$$\n",
        "\n",
        "$$ln(x) = 2 \\cdot ln(0.5) - ln(0.6)$$\n",
        "\n",
        "$$x = 0.5 \\cdot 0.5 / 0.6 = 0.41(6)$$"
      ],
      "metadata": {
        "id": "D9SNCZLQ0ROM"
      }
    },
    {
      "cell_type": "code",
      "execution_count": null,
      "metadata": {
        "colab": {
          "base_uri": "https://localhost:8080/",
          "height": 37
        },
        "id": "V4V_UrDgzn48",
        "outputId": "e73fa5f5-8541-43fd-ad9e-cbacf1ac9f4e"
      },
      "outputs": [
        {
          "output_type": "execute_result",
          "data": {
            "text/plain": [
              "0.42"
            ],
            "text/latex": "$\\displaystyle 0.42$"
          },
          "metadata": {},
          "execution_count": 15
        }
      ],
      "source": [
        "#@title Проверка\n",
        "from sympy import Symbol, solve, ln\n",
        "\n",
        "x = Symbol('x')\n",
        "res = solve(-ln(.6) -ln(x) + 2 * ln(0.5))\n",
        "round(res[0], 2)"
      ]
    },
    {
      "cell_type": "markdown",
      "source": [
        "# Форум"
      ],
      "metadata": {
        "id": "31roM97N3W-n"
      }
    },
    {
      "cell_type": "code",
      "source": [
        "from sympy import Symbol, solve, ln\n",
        "loss = 1.38\n",
        "p0 = 0.6\n",
        "p1 = Symbol('p1')\n",
        "solution = solve(-ln(p1) - ln(p0) - loss, p1)\n",
        "print(solution)"
      ],
      "metadata": {
        "colab": {
          "base_uri": "https://localhost:8080/"
        },
        "id": "uzadXTMb3bBS",
        "outputId": "411e979f-b11c-4db2-eca4-7681ecff94d3"
      },
      "execution_count": null,
      "outputs": [
        {
          "output_type": "stream",
          "name": "stdout",
          "text": [
            "[0.419297588432928]\n"
          ]
        }
      ]
    }
  ]
}