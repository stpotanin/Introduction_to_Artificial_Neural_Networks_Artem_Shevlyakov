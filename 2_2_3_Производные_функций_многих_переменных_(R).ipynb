{
  "nbformat": 4,
  "nbformat_minor": 0,
  "metadata": {
    "colab": {
      "provenance": [],
      "authorship_tag": "ABX9TyOnIX+EU+4NCkaQsmrYSs9k"
    },
    "kernelspec": {
      "name": "ir",
      "display_name": "R"
    },
    "language_info": {
      "name": "R"
    }
  },
  "cells": [
    {
      "cell_type": "markdown",
      "source": [
        "https://stepik.org/lesson/570100/step/3\n",
        "\n",
        "Дана ФМП:\n",
        "$f(x_1,x_2)=x_1^2+4x_1+x_2^2-2x_2+10$. Найдите ее частные производные (их 2 штуки). Приравняйте обе производные к нулю и решите полученную систему уравнений. Ее решение и будет точкой минимума (мамой клянусь, что не максимума).\n",
        "\n",
        "В ответ напишите значение переменной $x_1$ в точке минимума."
      ],
      "metadata": {
        "id": "QQocGdVnyWEy"
      }
    },
    {
      "cell_type": "code",
      "source": [
        "#@title R\n",
        "\n",
        "fmp <- function () {\n",
        "    # dx1 : 2 * x1 + 4\n",
        "    # dx2 : 2 * x2 - 2\n",
        "    x1_min <- -4 / 2\n",
        "    x2_min <- 2 / 2\n",
        "    return (c(x1_min, x2_min))\n",
        "}\n",
        "\n",
        "fmp()"
      ],
      "metadata": {
        "id": "7J_2xbWA5JtA",
        "outputId": "7bbeb19e-0505-4855-a852-da4f372e0ada",
        "colab": {
          "base_uri": "https://localhost:8080/",
          "height": 34
        }
      },
      "execution_count": null,
      "outputs": [
        {
          "output_type": "display_data",
          "data": {
            "text/html": [
              "<style>\n",
              ".list-inline {list-style: none; margin:0; padding: 0}\n",
              ".list-inline>li {display: inline-block}\n",
              ".list-inline>li:not(:last-child)::after {content: \"\\00b7\"; padding: 0 .5ex}\n",
              "</style>\n",
              "<ol class=list-inline><li>-2</li><li>1</li></ol>\n"
            ],
            "text/markdown": "1. -2\n2. 1\n\n\n",
            "text/latex": "\\begin{enumerate*}\n\\item -2\n\\item 1\n\\end{enumerate*}\n",
            "text/plain": [
              "[1] -2  1"
            ]
          },
          "metadata": {}
        }
      ]
    }
  ]
}