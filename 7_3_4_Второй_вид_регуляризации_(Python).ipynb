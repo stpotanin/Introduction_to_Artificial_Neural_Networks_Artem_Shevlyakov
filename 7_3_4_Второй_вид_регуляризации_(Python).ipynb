{
  "nbformat": 4,
  "nbformat_minor": 0,
  "metadata": {
    "colab": {
      "provenance": [],
      "authorship_tag": "ABX9TyMrmXku7nWr/pvWBSYV50VS"
    },
    "kernelspec": {
      "name": "python3",
      "display_name": "Python 3"
    },
    "language_info": {
      "name": "python"
    }
  },
  "cells": [
    {
      "cell_type": "markdown",
      "source": [
        "https://stepik.org/lesson/573091/step/4"
      ],
      "metadata": {
        "id": "hM-IJD0r7QLJ"
      }
    },
    {
      "cell_type": "code",
      "execution_count": null,
      "metadata": {
        "id": "te5YXsWc7Kwt"
      },
      "outputs": [],
      "source": [
        "#"
      ]
    },
    {
      "cell_type": "markdown",
      "source": [
        "# Решение"
      ],
      "metadata": {
        "id": "wE2yR75M7Uo5"
      }
    },
    {
      "cell_type": "code",
      "source": [
        "x = [-1, 0, 1]\n",
        "y = [1, 0, -1]\n",
        "h = 0.1\n",
        "C = 1\n",
        "a = [0, 0]\n",
        "epohs = 2\n",
        "\n",
        "y_pred = lambda x: a[1] * x + a[0]\n",
        "abs_grad = lambda x: 0 if x == 0 else abs(x) / x\n",
        "\n",
        "# Эпохи с подсчётом новых w_0, w_1:\n",
        "for epoh in range(epohs):\n",
        "    grad = [0, 0]\n",
        "    # Подсчёт суммы для L_grad:\n",
        "    for i in range(len(x)):\n",
        "        grad = [grad[0] + 2 * (y_pred(x[i]) - y[i]),\n",
        "                grad[1] + 2 * (y_pred(x[i]) - y[i]) * x[i]]\n",
        "    # L1-регуляризация и новые w_0, w_1:\n",
        "    a = [a[0] - h * (grad[0] + C * abs_grad(a[0])),\n",
        "         a[1] - h * (grad[1] + C * abs_grad(a[1]))]\n",
        "    print(f'epoh = {epoh+1}, w_0 = {round(a[0], 2)}, w_1 = {round(a[1], 2)}')\n"
      ],
      "metadata": {
        "id": "kq04j71r7ZQu",
        "outputId": "3af72dac-10fd-41bb-8099-aec65950353a",
        "colab": {
          "base_uri": "https://localhost:8080/"
        }
      },
      "execution_count": null,
      "outputs": [
        {
          "output_type": "stream",
          "name": "stdout",
          "text": [
            "epoh = 1, w_0 = 0.0, w_1 = -0.4\n",
            "epoh = 2, w_0 = 0.0, w_1 = -0.54\n"
          ]
        }
      ]
    },
    {
      "cell_type": "markdown",
      "source": [
        "# Форум"
      ],
      "metadata": {
        "id": "tfvi_cE28Kuz"
      }
    },
    {
      "cell_type": "code",
      "source": [
        "# Igor Kovbel https://stepik.org/lesson/573091/step/4?discussion=7521724&thread=solutions&unit=567640\n",
        "import pandas as pd\n",
        "import sympy as sp\n",
        "\n",
        "df = pd.DataFrame({'X': [-1, 0, 1], 'Y': [1, 0, -1]})\n",
        "w1, w0 = sp.symbols('w1, w0')\n",
        "\n",
        "a = [0, 0]\n",
        "h = 0.1\n",
        "C = 1\n",
        "\n",
        "L = ''\n",
        "for i, (X, y) in enumerate(zip(df['X'], df['Y'])):\n",
        "    L += f'({X}*{w1}+{w0}-{y})**2'\n",
        "    if i + 1 != df.shape[0]:\n",
        "        L += '+'\n",
        "\n",
        "\n",
        "def derivative_abs(x):\n",
        "    return 1 if x > 0 else (0 if x == 0 else -1)\n",
        "\n",
        "\n",
        "diff_w1 = sp.diff(L, w1)\n",
        "diff_w0 = sp.diff(L, w0)\n",
        "print(diff_w0, diff_w1, sep='\\n')\n",
        "\n",
        "for i in range(10):\n",
        "    a = [a[0] - h * (diff_w0.evalf(subs={w0: a[0], w1: a[1]}) + derivative_abs(a[0])),\n",
        "         a[1] - h * (diff_w1.evalf(subs={w0: a[0], w1: a[1]}) + derivative_abs(a[1]))]\n",
        "    print(f'Iteration {i + 1}: {a}')"
      ],
      "metadata": {
        "id": "77fX-gFT8Npz"
      },
      "execution_count": null,
      "outputs": []
    },
    {
      "cell_type": "code",
      "source": [
        "# Vadim Kopeykin https://stepik.org/lesson/573091/step/4?discussion=8583576&thread=solutions&unit=567640\n",
        "import numpy as np\n",
        "\n",
        "X = np.array([[1, -1], [1, 0], [1, 1]])\n",
        "y = np.array([1, 0, -1])\n",
        "\n",
        "w = np.array([0., 0.])\n",
        "C = 1\n",
        "h = 0.1\n",
        "for i in range(2):\n",
        "    grad_w = 2 * (X @ w - y) @ X + C * np.sign(w)\n",
        "    w -= grad_w * h\n",
        "print(w)"
      ],
      "metadata": {
        "colab": {
          "base_uri": "https://localhost:8080/"
        },
        "id": "ZzoMMOJz6FQb",
        "outputId": "dac67251-add5-4eb7-b85c-a1c3bde68028"
      },
      "execution_count": null,
      "outputs": [
        {
          "output_type": "stream",
          "name": "stdout",
          "text": [
            "[ 0.   -0.54]\n"
          ]
        }
      ]
    }
  ]
}