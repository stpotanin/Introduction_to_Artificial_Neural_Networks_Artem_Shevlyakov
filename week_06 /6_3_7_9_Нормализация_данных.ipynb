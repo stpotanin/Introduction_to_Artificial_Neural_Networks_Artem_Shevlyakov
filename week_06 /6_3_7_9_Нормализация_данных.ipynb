{
  "nbformat": 4,
  "nbformat_minor": 0,
  "metadata": {
    "colab": {
      "provenance": [],
      "authorship_tag": "ABX9TyOkNJrtZwwUqvuTkMkulHkf"
    },
    "kernelspec": {
      "name": "python3",
      "display_name": "Python 3"
    },
    "language_info": {
      "name": "python"
    }
  },
  "cells": [
    {
      "cell_type": "markdown",
      "source": [
        "https://stepik.org/lesson/573087/step/7"
      ],
      "metadata": {
        "id": "WrXW957PVBL3"
      }
    },
    {
      "cell_type": "code",
      "source": [
        "#@title Задача 6.3.7\n",
        "A = [[50, 0, 1, 0],\n",
        "     [60, 1, 2, 1],\n",
        "     [80, 1, 3, 0],\n",
        "     [100, 0, 4, 1]]\n",
        "\n",
        "X = [A[i][:-1] for i in range(len(A))]\n",
        "Y = [A[i][-1] for i in range(len(A))]\n",
        "\n",
        "def norm(X, X_new=None):\n",
        "    mean = [sum(x) / len(X) for x in zip(*X)]\n",
        "    print('mean:', mean)\n",
        "    var = [(sum([(X[i][j] - mean[j]) ** 2 for i in range(len(X))]) / (len(X)-1)) for j in range(len(X[0]))]\n",
        "    print('var:', var)\n",
        "    print('std:', [var[i] ** 0.5 for i in range(len(X[0]))])\n",
        "    X_norm = [[0 for _ in range(len(X[0]))] for _ in range(len(X))]\n",
        "    for i in range(len(X)):\n",
        "        for j in range(len(X[0])):\n",
        "            X_norm[i][j] = (X[i][j] - mean[j]) / (var[j] ** 0.5)\n",
        "\n",
        "    return X_norm\n",
        "\n",
        "\n",
        "norm(X)"
      ],
      "metadata": {
        "colab": {
          "base_uri": "https://localhost:8080/"
        },
        "id": "7Pjgw1kCfBD3",
        "outputId": "27d84f98-073c-4456-b1a6-bc703fa860df"
      },
      "execution_count": null,
      "outputs": [
        {
          "output_type": "stream",
          "name": "stdout",
          "text": [
            "mean: [72.5, 0.5, 2.5]\n",
            "var: [491.6666666666667, 0.3333333333333333, 1.6666666666666667]\n",
            "std: [22.173557826083453, 0.5773502691896257, 1.2909944487358056]\n"
          ]
        },
        {
          "output_type": "execute_result",
          "data": {
            "text/plain": [
              "[[-1.014722137803819, -0.8660254037844387, -1.161895003862225],\n",
              " [-0.5637345210021216, 0.8660254037844387, -0.3872983346207417],\n",
              " [0.338240712601273, 0.8660254037844387, 0.3872983346207417],\n",
              " [1.2402159462046676, -0.8660254037844387, 1.161895003862225]]"
            ]
          },
          "metadata": {},
          "execution_count": 58
        }
      ]
    },
    {
      "cell_type": "code",
      "source": [
        "#@title Задача 6.3.9\n",
        "A = [[50, 0, 1, 0],\n",
        "     [60, 1, 2, 1],\n",
        "     [80, 1, 3, 0],\n",
        "     [100, 0, 4, 1]]\n",
        "\n",
        "X = [A[i][:-1] for i in range(len(A))]\n",
        "Y = [A[i][-1] for i in range(len(A))]\n",
        "\n",
        "def norm(X, X_new=None):\n",
        "    mean = [sum(x) / len(X) for x in zip(*X)]\n",
        "    print('mean:', mean)\n",
        "    var = [(sum([(X[i][j] - mean[j]) ** 2 for i in range(len(X))]) / (len(X)-1)) for j in range(len(X[0]))]\n",
        "    print('var:', var)\n",
        "    print('std:', [var[i] ** 0.5 for i in range(len(X[0]))])\n",
        "    X_norm = [[0 for _ in range(len(X[0]))] for _ in range(len(X))]\n",
        "    for i in range(len(X)):\n",
        "        for j in range(len(X[0])):\n",
        "            X_norm[i][j] = (X[i][j] - mean[j]) / (var[j] ** 0.5)\n",
        "    if X_new is None:\n",
        "        return X_norm\n",
        "    else:\n",
        "        X_new_norm = [[0 for _ in range(len(X_new))]]\n",
        "        for i in range(len(X_new)):\n",
        "            X_new_norm[0][i] = (X_new[i] - mean[i]) / (var[i] ** 0.5)\n",
        "        return X_new_norm\n",
        "\n",
        "A_new = [90, 1, 1, None]\n",
        "X_new = A_new[:-1]\n",
        "norm(X, X_new)"
      ],
      "metadata": {
        "colab": {
          "base_uri": "https://localhost:8080/"
        },
        "id": "OpgCDvM5p6Ak",
        "outputId": "d6f85ed6-146d-44e7-b983-15fb59d31b39"
      },
      "execution_count": null,
      "outputs": [
        {
          "output_type": "stream",
          "name": "stdout",
          "text": [
            "mean: [72.5, 0.5, 2.5]\n",
            "var: [491.6666666666667, 0.3333333333333333, 1.6666666666666667]\n",
            "std: [22.173557826083453, 0.5773502691896257, 1.2909944487358056]\n"
          ]
        },
        {
          "output_type": "execute_result",
          "data": {
            "text/plain": [
              "[[0.7892283294029703, 0.8660254037844387, -1.161895003862225]]"
            ]
          },
          "metadata": {},
          "execution_count": 59
        }
      ]
    },
    {
      "cell_type": "code",
      "source": [
        "#@title Vadim Kopeykin https://stepik.org/lesson/573087/step/9?discussion=8583567&thread=solutions&unit=567636\n",
        "import numpy as np\n",
        "\n",
        "class StandartScaler:\n",
        "    def fit(self, X): # Оценить статистические параметры выбоки X\n",
        "        self.mean = np.mean(X, axis=0)\n",
        "        self.std = np.std(X, axis=0, ddof=1)\n",
        "        return self\n",
        "\n",
        "    def tratsform(self, X): # Применить стандартизацию к выбоке X\n",
        "        return (X - self.mean) / self.std\n",
        "\n",
        "X_train = np.array([[50, 0, 1], [60, 1, 2], [80, 1, 3], [100, 0, 4]]) # Тренеровочные данные\n",
        "x_test = np.array([90, 1, 1])                                         # Тестовые данные\n",
        "\n",
        "x_test = StandartScaler().fit(X_train).tratsform(x_test) # Стандартизировать тестовые данные\n",
        "print(x_test[0].round(2))"
      ],
      "metadata": {
        "colab": {
          "base_uri": "https://localhost:8080/"
        },
        "id": "hzdZgyoa1k3l",
        "outputId": "8e9c9ee8-b08c-4367-b43d-5b0e4513bac8"
      },
      "execution_count": null,
      "outputs": [
        {
          "output_type": "stream",
          "name": "stdout",
          "text": [
            "0.79\n"
          ]
        }
      ]
    }
  ]
}