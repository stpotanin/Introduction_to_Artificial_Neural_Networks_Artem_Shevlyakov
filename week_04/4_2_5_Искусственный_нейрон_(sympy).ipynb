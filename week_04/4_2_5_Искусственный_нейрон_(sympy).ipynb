{
  "nbformat": 4,
  "nbformat_minor": 0,
  "metadata": {
    "colab": {
      "provenance": [],
      "authorship_tag": "ABX9TyPelLEHKeD0ty12Y5f1dOlg"
    },
    "kernelspec": {
      "name": "python3",
      "display_name": "Python 3"
    },
    "language_info": {
      "name": "python"
    }
  },
  "cells": [
    {
      "cell_type": "markdown",
      "source": [
        "https://stepik.org/lesson/573076/step/5\n",
        "\n",
        "Теперь представьте себе такой искусственный нейрон: у него два входа $x_1,x_2$, и эти входы нейрон преобразует в значение $F(x_1,x_2)=w_1x_1+x_2w_2+w_0$.\n",
        "\n",
        "Нарисуйте схему такого нейрона. Как видно, у него вообще нет функции активации.\n",
        "\n",
        "В наш нейрон поступают не одиночные числа, а пары чисел $(x_1,x_2)$. Допустим, что наш нейрон выдал  следующие ответы: $F(1,0)=4,F(0,1)=5,F(1,1)=6$. Чему равны веса $w_0,w_1,w_2$? В окошко ответа напишите значение $w_0$."
      ],
      "metadata": {
        "id": "QQocGdVnyWEy"
      }
    },
    {
      "cell_type": "code",
      "source": [
        "#@title Решение методом Крамера\n",
        "\n",
        "def det(A):\n",
        "    # Функция для вычисления определителя матрицы\n",
        "    n = len(A)  # Размер матрицы\n",
        "\n",
        "    if n == 1:  # Базовый случай: матрица 1x1\n",
        "        return A[0][0]\n",
        "\n",
        "    if n == 2:  # Базовый случай: матрица 2x2\n",
        "        return A[0][0] * A[1][1] - A[0][1] * A[1][0]\n",
        "\n",
        "    det_value = 0  # Инициализация определителя\n",
        "    for j in range(n):\n",
        "        # Создание подматрицы\n",
        "        submatrix = [row[:j] + row[j+1:] for row in A[1:]]\n",
        "        det_value += (-1)**j * A[0][j] * det(submatrix)\n",
        "\n",
        "    return det_value\n",
        "\n",
        "# Пример работы функции\n",
        "# A2 = [[1, 1, -2],\n",
        "#      [2, -3, -1],\n",
        "#      [1, -4, 1]]\n",
        "\n",
        "# print(f\"Определитель матрицы A2: {det(A2)}\\n\")\n",
        "\n",
        "def kramer(A, b):\n",
        "    det_A = det(A)\n",
        "    if det_A == 0:\n",
        "        return \"Система не имеет решений\"\n",
        "    else:\n",
        "        x = []\n",
        "        for i in range(len(A)):\n",
        "            A_i = [[A[j][k] if k != i else b[j] for k in range(len(A[0]))] for j in range(len(A))]\n",
        "\n",
        "            x.append(det(A_i) / det_A)\n",
        "        return x\n",
        "\n",
        "# А теперь, непосредственно, сама задача\n",
        "from math import log\n",
        "\n",
        "inv_sigmoid = lambda x: log(x) - log(1 - x)\n",
        "A = [[1, 0, 1],\n",
        "     [0, 1, 1],\n",
        "     [1, 1, 1]]\n",
        "b = [4, 5, 6]\n",
        "\n",
        "print(f\"Определитель матрицы A: {det(A)}\")\n",
        "result = kramer(A, b)       # Присваеваем результат одной переменной\n",
        "if isinstance(result, str): # Если вернуло \"Система не имеет решений\"\n",
        "    print(result)           # Это и печатаем\n",
        "else:\n",
        "    w1, w2, w0 = result     # Распаковываем, если есть корни\n",
        "    print(f\"w1 = {round(w1, 2)}, w2 = {round(w2, 2)}, w0 = {round(w0, 2)}\")"
      ],
      "metadata": {
        "id": "7J_2xbWA5JtA",
        "outputId": "37a8e123-0c62-4c0c-f0f1-5c71e025592f",
        "colab": {
          "base_uri": "https://localhost:8080/"
        }
      },
      "execution_count": null,
      "outputs": [
        {
          "output_type": "stream",
          "name": "stdout",
          "text": [
            "Определитель матрицы A: -1\n",
            "w1 = 1.0, w2 = 2.0, w0 = 3.0\n"
          ]
        }
      ]
    },
    {
      "cell_type": "code",
      "source": [
        "#@title Проверка TODO\n",
        "\n",
        "# x1, x2, y1 = 1, 0.5\n",
        "# x2, y2 = 2, 0.5\n",
        "\n",
        "# # Проверяем на приблизительное равенство, т.к. могут быть ошибки из-за точности вычислений\n",
        "# isclose(w0 + w1 * x1 + w2 * x2), y1), isclose(sigmoid(w0 + w1 * x2) , y2)"
      ],
      "metadata": {
        "id": "gdbkf8H3Gfdu",
        "colab": {
          "base_uri": "https://localhost:8080/"
        },
        "outputId": "6979a7f5-b117-483f-dc94-a445cf43e7b0"
      },
      "execution_count": null,
      "outputs": [
        {
          "output_type": "execute_result",
          "data": {
            "text/plain": [
              "(True, True)"
            ]
          },
          "metadata": {},
          "execution_count": 10
        }
      ]
    },
    {
      "cell_type": "code",
      "source": [
        "# Vadim Kopeykin https://stepik.org/lesson/573076/step/5?discussion=8493232&thread=solutions&unit=567625\n",
        "import numpy as np\n",
        "\n",
        "X = np.array([[1, 1, 0],\n",
        "              [1, 0, 1],\n",
        "              [1, 1, 1]])\n",
        "y = np.array([4, 5, 6])\n",
        "\n",
        "w = np.linalg.inv(X) @ y\n",
        "print(w[0])"
      ],
      "metadata": {
        "colab": {
          "base_uri": "https://localhost:8080/"
        },
        "id": "iofyEAPO0zBs",
        "outputId": "d58841c4-8167-4581-be81-624cfb70629a"
      },
      "execution_count": null,
      "outputs": [
        {
          "output_type": "stream",
          "name": "stdout",
          "text": [
            "3.0\n"
          ]
        }
      ]
    }
  ]
}