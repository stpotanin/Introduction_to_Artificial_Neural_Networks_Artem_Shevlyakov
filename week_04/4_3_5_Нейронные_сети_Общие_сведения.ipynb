{
  "nbformat": 4,
  "nbformat_minor": 0,
  "metadata": {
    "colab": {
      "provenance": [],
      "authorship_tag": "ABX9TyNgvC4kiqmsVL8F/W7+1Pup"
    },
    "kernelspec": {
      "name": "python3",
      "display_name": "Python 3"
    },
    "language_info": {
      "name": "python"
    }
  },
  "cells": [
    {
      "cell_type": "markdown",
      "source": [
        "https://stepik.org/lesson/573077/step/5\n",
        "\n",
        "Возьмем нейросеть из прошлой задачи. Чему может быть равен $x$, если известно, что нейросеть выдала ответ $12$?\n",
        "\n",
        "<img src='https://ucarecdn.com/9de725ed-0934-4ab4-a47f-52ac07d10154/'>"
      ],
      "metadata": {
        "id": "QQocGdVnyWEy"
      }
    },
    {
      "cell_type": "code",
      "source": [
        "#"
      ],
      "metadata": {
        "id": "7J_2xbWA5JtA",
        "colab": {
          "base_uri": "https://localhost:8080/"
        },
        "outputId": "ae491561-41d0-45eb-aed3-b5f332dfb7d9"
      },
      "execution_count": null,
      "outputs": [
        {
          "output_type": "execute_result",
          "data": {
            "text/plain": [
              "0"
            ]
          },
          "metadata": {},
          "execution_count": 4
        }
      ]
    },
    {
      "cell_type": "markdown",
      "source": [
        "# Решение\n",
        "$f=Relu((-2Relu((x)+1)+4Relu((2x)-5))+10)$\n",
        "\n",
        "Нужно найти функцию, обратную $f$. Поскольку для $Relu$ это возможно только на интервале больше 0, будем считать, что нам повезёт и отбросим её.\n",
        "\n",
        "$f=(-2(x+1)+4(2x-5))+10= 6x-12$\n",
        "\n",
        "$x = f/6 + 2$\n",
        "\n",
        "Для $f = 12$ значение $x = 4$"
      ],
      "metadata": {
        "id": "p43FhN3-y8qt"
      }
    }
  ]
}