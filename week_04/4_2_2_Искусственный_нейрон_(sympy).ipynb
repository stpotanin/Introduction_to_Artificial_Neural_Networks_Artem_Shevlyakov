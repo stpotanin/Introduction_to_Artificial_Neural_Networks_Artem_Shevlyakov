{
  "nbformat": 4,
  "nbformat_minor": 0,
  "metadata": {
    "colab": {
      "provenance": [],
      "authorship_tag": "ABX9TyMw4dDabSGVhxETZfEAePcb"
    },
    "kernelspec": {
      "name": "python3",
      "display_name": "Python 3"
    },
    "language_info": {
      "name": "python"
    }
  },
  "cells": [
    {
      "cell_type": "markdown",
      "source": [
        "https://stepik.org/lesson/573076/step/2\n",
        "\n",
        "Представьте себе такой искусственный нейрон: ему на вход подается число $x$, затем оно домножается на вес связи $w_1$, внутри нейрона прибавляется вес-смещение $w_0$ и после этого применяется функция активации $Relu$.\n",
        "\n",
        "Нарисуйте схему такого нейрона (я бы сам это сделал, но лень, и таланта к рисованию нет ))) ).\n",
        "\n",
        "Допустим, что в наш нейрон подали вход $x=4$ и получили ответ $1$, потом подали вход $x=2$  и получили ответ $3$.\n",
        "\n",
        "Чему равны веса $w_0,w_1$? В окошко ответа напишите выход нейрона при $x=0$."
      ],
      "metadata": {
        "id": "QQocGdVnyWEy"
      }
    },
    {
      "cell_type": "code",
      "source": [
        "#@title Решение методом Крамера\n",
        "\n",
        "def det(A):\n",
        "    # Функция для вычисления определителя матрицы\n",
        "    n = len(A)  # Размер матрицы\n",
        "\n",
        "    if n == 1:  # Базовый случай: матрица 1x1\n",
        "        return A[0][0]\n",
        "\n",
        "    if n == 2:  # Базовый случай: матрица 2x2\n",
        "        return A[0][0] * A[1][1] - A[0][1] * A[1][0]\n",
        "\n",
        "    det_value = 0  # Инициализация определителя\n",
        "    for j in range(n):\n",
        "        # Создание подматрицы\n",
        "        submatrix = [row[:j] + row[j+1:] for row in A[1:]]\n",
        "        det_value += (-1)**j * A[0][j] * det(submatrix)\n",
        "\n",
        "    return det_value\n",
        "\n",
        "# Пример работы функции\n",
        "# A2 = [[1, 1, -2],\n",
        "#      [2, -3, -1],\n",
        "#      [1, -4, 1]]\n",
        "\n",
        "# print(f\"Определитель матрицы A2: {det(A2)}\\n\")\n",
        "\n",
        "print('Решение задачи:')\n",
        "\n",
        "A = [[4, 1],\n",
        "     [2, 1]]\n",
        "b = [1, 3]\n",
        "\n",
        "print(f\"Определитель матрицы A: {det(A)}\")\n",
        "\n",
        "def kramer(A, b):\n",
        "    det_A = det(A)\n",
        "    if det_A == 0:\n",
        "        return \"Система не имеет решений\"\n",
        "    else:\n",
        "        x = []\n",
        "        for i in range(len(A)):\n",
        "            A_i = [[A[j][k] if k != i else b[j] for k in range(len(A[0]))] for j in range(len(A))]\n",
        "\n",
        "            x.append(det(A_i) / det_A)\n",
        "        return x\n",
        "\n",
        "# Только под два веса (размммер матрицы 2х2) TODO для любого размера\n",
        "w1, w0 = kramer(A, b)\n",
        "print(f\"w1 = {w1}, w0 = {w0}\")\n",
        "\n",
        "Relu = lambda x: max(x, 0)\n",
        "x = 0\n",
        "print(f\"Выход нейрона при x={x}:\", Relu(w1 * x + w0))\n"
      ],
      "metadata": {
        "id": "7J_2xbWA5JtA",
        "outputId": "8e6479bc-1ea8-41ff-d8fc-56103e4a2604",
        "colab": {
          "base_uri": "https://localhost:8080/"
        }
      },
      "execution_count": null,
      "outputs": [
        {
          "output_type": "stream",
          "name": "stdout",
          "text": [
            "Решение задачи:\n",
            "Определитель матрицы A: 2\n",
            "w1 = -1.0, w0 = 5.0\n",
            "Выход нейрона при x=0: 5.0\n"
          ]
        }
      ]
    }
  ]
}
