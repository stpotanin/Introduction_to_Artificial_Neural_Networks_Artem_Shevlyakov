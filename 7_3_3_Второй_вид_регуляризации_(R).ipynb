{
  "nbformat": 4,
  "nbformat_minor": 0,
  "metadata": {
    "colab": {
      "provenance": [],
      "authorship_tag": "ABX9TyMa5o1FqOjhixHLlYZtbltU"
    },
    "kernelspec": {
      "name": "ir",
      "display_name": "R"
    },
    "language_info": {
      "name": "R"
    }
  },
  "cells": [
    {
      "cell_type": "markdown",
      "source": [
        "https://stepik.org/lesson/573091/step/3"
      ],
      "metadata": {
        "id": "hM-IJD0r7QLJ"
      }
    },
    {
      "cell_type": "code",
      "execution_count": null,
      "metadata": {
        "id": "te5YXsWc7Kwt"
      },
      "outputs": [],
      "source": [
        "# 0.62"
      ]
    },
    {
      "cell_type": "markdown",
      "source": [
        "# Решение"
      ],
      "metadata": {
        "id": "wE2yR75M7Uo5"
      }
    },
    {
      "cell_type": "code",
      "source": [
        "x <- c(0, 1, 2)\n",
        "y <- c(1, 2, 3)\n",
        "C <- 1\n",
        "h <- 0.1\n",
        "a <- c(0, 0)\n",
        "epoches <- 2\n",
        "# Предсказание модели:\n",
        "y_pred <- function(x) {\n",
        "  a[2] * x + a[1]\n",
        "}\n",
        "# Производная модуля (кастомная):\n",
        "abs_grad <- function(x) {\n",
        "    if (x == 0) { 0 }\n",
        "    else { abs(x) / x }\n",
        "}\n",
        "# Цикл по эпохам:\n",
        "for (epoch in 1:epoches) {\n",
        "    # Подсчёт суммы для L1_grad без регуляризации:\n",
        "    grad <- c(0, 0)\n",
        "    for (i in 1:length(x)) {\n",
        "        error <- y_pred(x[i]) - y[i]\n",
        "        grad <- grad + c(2 * error, 2 * error * x[i])\n",
        "    }\n",
        "    # L1-регуляризация и обновление весов a:\n",
        "    a <- a - h * (grad + C * sapply(a, abs_grad))\n",
        "    # Результаты эпохи:\n",
        "    cat('epoch =', epoch, 'w_1 =', round(a[2], 2), 'w_0 =', round(a[1], 2), '\\n')\n",
        "    }\n"
      ],
      "metadata": {
        "colab": {
          "base_uri": "https://localhost:8080/"
        },
        "id": "kN9ahz42D7q7",
        "outputId": "ad7f0bf7-8bca-4a06-f7cc-a184ec4d2f4a"
      },
      "execution_count": null,
      "outputs": [
        {
          "output_type": "stream",
          "name": "stdout",
          "text": [
            "epoch = 1 w_1 = 1.6 w_0 = 1.2 \n",
            "epoch = 2 w_1 = 0.78 w_0 = 0.62 \n"
          ]
        }
      ]
    }
  ]
}