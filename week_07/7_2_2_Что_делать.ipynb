{
  "nbformat": 4,
  "nbformat_minor": 0,
  "metadata": {
    "colab": {
      "provenance": [],
      "authorship_tag": "ABX9TyMPhV8GFK8GIjqI6R9dwjkS"
    },
    "kernelspec": {
      "name": "python3",
      "display_name": "Python 3"
    },
    "language_info": {
      "name": "python"
    }
  },
  "cells": [
    {
      "cell_type": "markdown",
      "source": [
        "https://stepik.org/lesson/573090/step/2"
      ],
      "metadata": {
        "id": "tXOdWGRlcA3q"
      }
    },
    {
      "cell_type": "code",
      "execution_count": null,
      "metadata": {
        "id": "l_qLkBiZb6y8"
      },
      "outputs": [],
      "source": [
        "# 0.48"
      ]
    },
    {
      "cell_type": "markdown",
      "source": [
        "# Решение"
      ],
      "metadata": {
        "id": "PBxN_O2ncDUZ"
      }
    },
    {
      "cell_type": "code",
      "source": [
        "x = [0, 1, 2]\n",
        "y = [1, 2, 3]\n",
        "h = 0.1\n",
        "C = 1\n",
        "a = [0, 0]\n",
        "epohs = 2\n",
        "\n",
        "y_pred = lambda x: a[1] * x + a[0]\n",
        "\n",
        "# Эпохи с подсчётом новых w_0, w_1:\n",
        "for epoh in range(epohs):\n",
        "    grad = [0, 0]\n",
        "    # Подсчёт суммы для L_grad:\n",
        "    for i in range(len(x)):\n",
        "        grad[0] += 2 * (y_pred(x[i]) - y[i])\n",
        "        grad[1] += 2 * (y_pred(x[i]) - y[i]) * x[i]\n",
        "    # Регуляризация:\n",
        "    grad[0] += 2 * C * a[0]\n",
        "    grad[1] += 2 * C * a[1]\n",
        "    # Новые w_0, w_1\n",
        "    a[0] -= h * grad[0]\n",
        "    a[1] -= h * grad[1]\n",
        "    print(f'epoh = {epoh+1}, w_0 = {round(a[0], 2)}, w_1 = {round(a[1], 2)}')\n"
      ],
      "metadata": {
        "colab": {
          "base_uri": "https://localhost:8080/"
        },
        "id": "BPlA5KBl1Am6",
        "outputId": "74d308d0-488d-46f8-d3ae-83f76d705be0"
      },
      "execution_count": null,
      "outputs": [
        {
          "output_type": "stream",
          "name": "stdout",
          "text": [
            "epoh = 1, w_0 = 1.2, w_1 = 1.6\n",
            "epoh = 2, w_0 = 0.48, w_1 = 0.56\n"
          ]
        }
      ]
    },
    {
      "cell_type": "markdown",
      "source": [
        "# Форум"
      ],
      "metadata": {
        "id": "WQ_z_Zl7sQJr"
      }
    },
    {
      "cell_type": "code",
      "source": [
        "#@title Матрицы numpy:\n",
        "# Vadim Kopeykin https://stepik.org/lesson/573090/step/2?discussion=8583570&thread=solutions&unit=567639\n",
        "import numpy as np\n",
        "\n",
        "X = np.array([[1, 0], [1, 1], [1, 2]])\n",
        "y = np.array([1, 2, 3])\n",
        "\n",
        "w = np.array([0., 0.])\n",
        "C = 1\n",
        "h = 0.1\n",
        "for i in range(2):\n",
        "    grad_w = 2 * (X @ w - y) @ X + 2 * C * w\n",
        "    w -= grad_w * h\n",
        "print(w[0])"
      ],
      "metadata": {
        "id": "QAQIUzW26JIk"
      },
      "execution_count": null,
      "outputs": []
    },
    {
      "cell_type": "code",
      "source": [
        "#@title Тензорная арифметика с использованием PyTorch:\n",
        "# Артём Ионаш https://stepik.org/lesson/573090/step/2?discussion=8471756&thread=solutions&unit=567639\n",
        "\n",
        "import torch\n",
        "\n",
        "x = torch.tensor([[0], [1], [2]], dtype=torch.float32)\n",
        "y_true = torch.tensor([[1], [2], [3]], dtype=torch.float32)\n",
        "\n",
        "w0 = torch.tensor([0], requires_grad=True, dtype=torch.float32)\n",
        "w1 = torch.tensor([0], requires_grad=True, dtype=torch.float32)\n",
        "\n",
        "h = 0.1  # learning_rate\n",
        "с = 1.0  # 0.5 * weight_decay\n",
        "num_epochs = 2\n",
        "\n",
        "print(f\"a{0}: ({w0.item()},  {w1.item()})\")\n",
        "for i in range(num_epochs):\n",
        "    # Вычисление члена L2-регуляризации и функции потерь L\n",
        "    regularization_term = с * (torch.sum(w0**2) + torch.sum(w1**2))\n",
        "    L = torch.sum((x * w1 + w0 - y_true) ** 2) + regularization_term\n",
        "\n",
        "    # Вычисление градиентов и обновление параметров с помощью градиентного спуска\n",
        "    grad_w0, grad_w1 = torch.autograd.grad(L, [w0, w1])\n",
        "    with torch.no_grad():\n",
        "        w0 -= h * grad_w0\n",
        "        w1 -= h * grad_w1\n",
        "        print(f\"a{i}: ({w0.item()},  {w1.item()})\")"
      ],
      "metadata": {
        "id": "P1ldyRaT5z6Y"
      },
      "execution_count": null,
      "outputs": []
    },
    {
      "cell_type": "code",
      "source": [
        "#@title pandas + sympy для генерации L\n",
        "# Igor Kovbel https://stepik.org/lesson/573090/step/2?discussion=7515878&unit=567639\n",
        "\n",
        "import pandas as pd\n",
        "import sympy as sp\n",
        "\n",
        "df = pd.DataFrame({'X': [0, 1, 2], 'Y': [1, 2, 3]})\n",
        "w1, w0 = sp.symbols('w1, w0')\n",
        "\n",
        "a = [0, 0]\n",
        "h = 0.1\n",
        "C = 1\n",
        "\n",
        "L = ''\n",
        "for i, (X, y) in enumerate(zip(df['X'], df['Y'])):\n",
        "    L += f'({X}*{w1}+{w0}-{y})**2'\n",
        "    if i+1 != df.shape[0]:\n",
        "        L += '+'\n",
        "L += f'+{C}*({w0}**2+{w1}**2)'\n",
        "\n",
        "diff_w1 = sp.diff(L, w1)\n",
        "diff_w0 = sp.diff(L, w0)\n",
        "\n",
        "for i in range(2):\n",
        "    a = [a[0] - h * diff_w0.evalf(subs={w0: a[0], w1: a[1]}),\n",
        "         a[1] - h * diff_w1.evalf(subs={w0: a[0], w1: a[1]})]\n",
        "    print(f'Iteration {i+1}: {a}')\n"
      ],
      "metadata": {
        "colab": {
          "base_uri": "https://localhost:8080/"
        },
        "id": "fJU0XSzQsSrE",
        "outputId": "61199e93-620f-4bab-c235-69bd595c0a5f"
      },
      "execution_count": null,
      "outputs": [
        {
          "output_type": "stream",
          "name": "stdout",
          "text": [
            "Iteration 1: [1.20000000000000, 1.60000000000000]\n",
            "Iteration 2: [0.480000000000000, 0.560000000000000]\n"
          ]
        }
      ]
    },
    {
      "cell_type": "code",
      "source": [
        "# Artem Kutsan https://stepik.org/lesson/573090/step/2?discussion=8487382&thread=solutions&unit=567639\n",
        "from sympy import symbols, diff\n",
        "\n",
        "# Задаем входные данные: нецелевой признак (X) и целевой признак (Y)\n",
        "X = [0, 1, 2]\n",
        "Y = (1, 2, 3)\n",
        "\n",
        "# Создаем символьные переменные\n",
        "w0, w1 = symbols('w0 w1')\n",
        "\n",
        "# Задаем константу регуляризации\n",
        "C = 1\n",
        "\n",
        "# Формула для среднеквадратичной ошибки (MSE) с регуляризацией\n",
        "L = sum((x*w1 + w0 - y)**2 for x, y in zip(X, Y)) + C*(w0**2 + w1**2)\n",
        "\n",
        "# a - начальная точка для оптимизации, steps - количество шагов и h - размер шага градиентного спуска\n",
        "a, steps, h = [(0, 0)], 2, 0.1\n",
        "\n",
        "# Градиентный спуск: расчитываем значения w0 и w1 на каждом шаге\n",
        "[a.append([a[n][k] - h * diff(L, v).subs({w0: a[n][0], w1: a[n][1]}).evalf() for k, v in enumerate(['w0', 'w1'], 0)]) for n in range(steps)]\n",
        "\n",
        "# Вывод результата\n",
        "print(*[f'a{i}: {tuple(map(lambda a: round(float(a), 2), a[i]))}' for i in range(len(a))], sep='\\n')\n",
        "print(f'Значение первой координаты (которая соотвтетствует весу w0) позиции a2: {round(float(a[2][0]), 2)}')"
      ],
      "metadata": {
        "colab": {
          "base_uri": "https://localhost:8080/"
        },
        "id": "7Vw6_WIu7O-7",
        "outputId": "dbefe02d-4538-46da-d711-7ce90e18c303"
      },
      "execution_count": null,
      "outputs": [
        {
          "output_type": "stream",
          "name": "stdout",
          "text": [
            "a0: (0.0, 0.0)\n",
            "a1: (1.2, 1.6)\n",
            "a2: (0.48, 0.56)\n",
            "Значение первой координаты (которая соотвтетствует весу w0) позиции a2: 0.48\n"
          ]
        }
      ]
    },
    {
      "cell_type": "code",
      "source": [
        "#@title sp.utilities.lambdify\n",
        "# Alex Vasilchenko https://stepik.org/lesson/573090/step/2?discussion=5128625&unit=567639\n",
        "import sympy as sp\n",
        "w0, w1 = sp.symbols('w0 w1')\n",
        "L = (w0-1)**2 + (w1 + w0 - 2)**2 + (2*w1 + w0 -3)**2 + w0**2 + w1**2\n",
        "\n",
        "dLdw1 = sp.utilities.lambdify(\n",
        "    (w0, w1),\n",
        "    sp.diff(L, w1),\n",
        ")\n",
        "dLdw0 = sp.utilities.lambdify(\n",
        "    (w0, w1),\n",
        "    sp.diff(L, w0),\n",
        ")\n",
        "\n",
        "h = 0.1\n",
        "a_w0 = 0\n",
        "a_w1 = 0\n",
        "n = 2\n",
        "\n",
        "for i in range(0, n + 1):\n",
        "    print(f'a{i}: ({a_w0},  {a_w1})')\n",
        "    ai_w0 = a_w0 - h * dLdw0(a_w0, a_w1)\n",
        "    ai_w1 = a_w1 - h * dLdw1(a_w0, a_w1)\n",
        "    a_w0 = ai_w0\n",
        "    a_w1 = ai_w1"
      ],
      "metadata": {
        "colab": {
          "base_uri": "https://localhost:8080/"
        },
        "id": "815InSuis5KV",
        "outputId": "e6ffb4a6-5bec-4760-a9c5-6e6cfdb361b0"
      },
      "execution_count": null,
      "outputs": [
        {
          "output_type": "stream",
          "name": "stdout",
          "text": [
            "a0: (0,  0)\n",
            "a1: (1.2000000000000002,  1.6)\n",
            "a2: (0.47999999999999987,  0.5599999999999994)\n"
          ]
        }
      ]
    }
  ]
}
