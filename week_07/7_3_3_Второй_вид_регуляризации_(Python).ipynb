{
  "nbformat": 4,
  "nbformat_minor": 0,
  "metadata": {
    "colab": {
      "provenance": [],
      "authorship_tag": "ABX9TyPdHxkNk+dgMy0u7msMhI7a"
    },
    "kernelspec": {
      "name": "python3",
      "display_name": "Python 3"
    },
    "language_info": {
      "name": "python"
    }
  },
  "cells": [
    {
      "cell_type": "markdown",
      "source": [
        "https://stepik.org/lesson/573091/step/3"
      ],
      "metadata": {
        "id": "hM-IJD0r7QLJ"
      }
    },
    {
      "cell_type": "code",
      "execution_count": null,
      "metadata": {
        "id": "te5YXsWc7Kwt"
      },
      "outputs": [],
      "source": [
        "# 0.62"
      ]
    },
    {
      "cell_type": "markdown",
      "source": [
        "# Решение"
      ],
      "metadata": {
        "id": "wE2yR75M7Uo5"
      }
    },
    {
      "cell_type": "code",
      "source": [
        "x = [0, 1, 2]\n",
        "y = [1, 2, 3]\n",
        "h = 0.1\n",
        "C = 1\n",
        "a = [0, 0]\n",
        "epohs = 2\n",
        "\n",
        "y_pred = lambda x: a[1] * x + a[0]\n",
        "abs_grad = lambda x: 0 if x == 0 else abs(x) / x\n",
        "\n",
        "# Эпохи с подсчётом новых w_0, w_1:\n",
        "for epoh in range(epohs):\n",
        "    grad = [0, 0]\n",
        "    # Подсчёт суммы для L_grad:\n",
        "    for i in range(len(x)):\n",
        "        grad = [grad[0] + 2 * (y_pred(x[i]) - y[i]),\n",
        "                grad[1] + 2 * (y_pred(x[i]) - y[i]) * x[i]]\n",
        "    # L2 Регуляризация:\n",
        "    grad = [grad[0] + C * abs_grad(a[0]),\n",
        "            grad[1] + C * abs_grad(a[1])]\n",
        "    # Новые w_0, w_1\n",
        "    a = [a[0] - h * grad[0],\n",
        "         a[1] - h * grad[1]]\n",
        "    print(f'epoh = {epoh+1}, w_0 = {round(a[0], 2)}, w_1 = {round(a[1], 2)}')\n"
      ],
      "metadata": {
        "colab": {
          "base_uri": "https://localhost:8080/"
        },
        "id": "Ul9hUQlp221R",
        "outputId": "e59ac69d-2411-4e91-ff30-b9d554caa0d6"
      },
      "execution_count": null,
      "outputs": [
        {
          "output_type": "stream",
          "name": "stdout",
          "text": [
            "epoh = 1, w_0 = 1.2, w_1 = 1.6\n",
            "epoh = 2, w_0 = 0.62, w_1 = 0.78\n"
          ]
        }
      ]
    },
    {
      "cell_type": "markdown",
      "source": [
        "# Форум"
      ],
      "metadata": {
        "id": "SNxC4JKa24aS"
      }
    },
    {
      "cell_type": "code",
      "source": [
        "# Vadim Kopeykin https://stepik.org/lesson/573091/step/3?discussion=8583573&thread=solutions&unit=567640\n",
        "import numpy as np\n",
        "\n",
        "X = np.array([[1, 0], [1, 1], [1, 2]])\n",
        "y = np.array([1, 2, 3])\n",
        "\n",
        "w = np.array([0., 0.])\n",
        "C = 1\n",
        "h = 0.1\n",
        "for i in range(2):\n",
        "    grad_w = 2 * (X @ w - y) @ X + C * np.sign(w)\n",
        "    w -= grad_w * h\n",
        "print(w[0])"
      ],
      "metadata": {
        "id": "kq04j71r7ZQu",
        "outputId": "e904f92b-38b1-406d-e0eb-443060dd28a6",
        "colab": {
          "base_uri": "https://localhost:8080/"
        }
      },
      "execution_count": null,
      "outputs": [
        {
          "output_type": "stream",
          "name": "stdout",
          "text": [
            "0.62\n"
          ]
        }
      ]
    },
    {
      "cell_type": "code",
      "source": [
        "# Artem Kutsan https://stepik.org/lesson/573091/step/3?discussion=8487652&thread=solutions&unit=567640\n",
        "\n",
        "from sympy import symbols, diff\n",
        "\n",
        "# Задаем входные данные: нецелевой признак (X) и целевой признак (Y)\n",
        "X = [0, 1, 2]\n",
        "Y = (1, 2, 3)\n",
        "\n",
        "# Создаем символьные переменные\n",
        "w0, w1 = symbols('w0 w1')\n",
        "\n",
        "# Константа регуляризации\n",
        "C = 1\n",
        "\n",
        "# Формула для среднеквадратичной ошибки (MSE) с регуляризацией L1\n",
        "L = sum((x*w1 + w0 - y)**2 for x, y in zip(X, Y))\n",
        "\n",
        "# a - начальная точка для оптимизации (w0 = 0, w1 = 0), steps - количество шагов и h - размер шага градиентного спуска\n",
        "a, steps, h = [(0, 0)], 2, 0.1\n",
        "\n",
        "# Производная |w| для регуляризации L1\n",
        "diff_abs = lambda w: 1 if w > 0 else (0 if w == 0 else -1)\n",
        "\n",
        "# Градиентный спуск: расчитываем значения w0 и w1 на каждом шаге\n",
        "[a.append([a[n][k] - h * (diff(L, v).subs({w0: a[n][0], w1: a[n][1]}).evalf() + C*(diff_abs(a[n][k]))) for k, v in enumerate(['w0', 'w1'], 0)]) for n in range(steps)]\n",
        "\n",
        "# Вывод результата\n",
        "print(*[f'a{i}: {tuple(map(lambda a: round(float(a), 2), a[i]))}' for i in range(len(a))], sep='\\n')\n",
        "print(f'Значение первой координаты (которая соотвтетствует весу w0) позиции a2: {round(float(a[2][0]), 2)}')\n"
      ],
      "metadata": {
        "colab": {
          "base_uri": "https://localhost:8080/"
        },
        "id": "xuH7ZyGQ5dCI",
        "outputId": "a83a892d-ae06-468c-998c-92b7006a6f74"
      },
      "execution_count": null,
      "outputs": [
        {
          "output_type": "stream",
          "name": "stdout",
          "text": [
            "a0: (0.0, 0.0)\n",
            "a1: (1.2, 1.6)\n",
            "a2: (0.62, 0.78)\n",
            "Значение первой координаты (которая соотвтетствует весу w0) позиции a2: 0.62\n"
          ]
        }
      ]
    }
  ]
}
