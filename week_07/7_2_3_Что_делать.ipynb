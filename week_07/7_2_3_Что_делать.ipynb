{
  "nbformat": 4,
  "nbformat_minor": 0,
  "metadata": {
    "colab": {
      "provenance": [],
      "authorship_tag": "ABX9TyMzGhnoWyav60HmT+p+moSu"
    },
    "kernelspec": {
      "name": "python3",
      "display_name": "Python 3"
    },
    "language_info": {
      "name": "python"
    }
  },
  "cells": [
    {
      "cell_type": "markdown",
      "source": [
        "https://stepik.org/lesson/573090/step/3"
      ],
      "metadata": {
        "id": "7c46fCyhBIRh"
      }
    },
    {
      "cell_type": "code",
      "execution_count": null,
      "metadata": {
        "id": "x9aPTW3jBCzs"
      },
      "outputs": [],
      "source": [
        "# -0.56"
      ]
    },
    {
      "cell_type": "markdown",
      "source": [
        "# Решение"
      ],
      "metadata": {
        "id": "V2diygl2BePM"
      }
    },
    {
      "cell_type": "code",
      "source": [
        "x = [-1, 0, 1]\n",
        "y = [1, 0, -1]\n",
        "h = 0.1\n",
        "C = 1\n",
        "a = [0, 0]\n",
        "epohs = 2\n",
        "\n",
        "y_pred = lambda x: a[1] * x + a[0]\n",
        "\n",
        "# Эпохи с подсчётом новых w_0, w_1:\n",
        "for epoh in range(epohs):\n",
        "    grad = [0, 0]\n",
        "    # Подсчёт суммы для L_grad:\n",
        "    for i in range(len(x)):\n",
        "        grad = [grad[0] + 2 * (y_pred(x[i]) - y[i]),\n",
        "                grad[1] + 2 * (y_pred(x[i]) - y[i]) * x[i]]\n",
        "    # L2 Регуляризация:\n",
        "    grad = [grad[0] + 2 * C * a[0],\n",
        "            grad[1] + 2 * C * a[1]]\n",
        "    # Новые w_0, w_1\n",
        "    a = [a[0] - h * grad[0],\n",
        "         a[1] - h * grad[1]]\n",
        "    print(f'epoh = {epoh+1}, w_0 = {round(a[0], 2)}, w_1 = {round(a[1], 2)}')\n"
      ],
      "metadata": {
        "colab": {
          "base_uri": "https://localhost:8080/"
        },
        "id": "YmVpg0qqBn2n",
        "outputId": "2fce28f0-2c10-41d2-969b-f2e7d52d4935"
      },
      "execution_count": null,
      "outputs": [
        {
          "output_type": "stream",
          "name": "stdout",
          "text": [
            "epoh = 1, w_0 = 0.0, w_1 = -0.4\n",
            "epoh = 2, w_0 = 0.0, w_1 = -0.56\n"
          ]
        }
      ]
    },
    {
      "cell_type": "code",
      "source": [
        "#@title Высокоуровневое решение с использованием PyTorch\n",
        "# Артём Ионаш https://stepik.org/lesson/573090/step/3?discussion=8471762&thread=solutions&unit=567639\n",
        "import torch\n",
        "import torch.nn as nn\n",
        "\n",
        "\n",
        "class LinearRegressionModel(nn.Module):\n",
        "    def __init__(self):\n",
        "        super(LinearRegressionModel, self).__init__()\n",
        "        self.linear = nn.Linear(1, 1)  # Используем слой из одного нейрона\n",
        "        nn.init.zeros_(self.linear.weight)  # w1 = 0\n",
        "        nn.init.zeros_(self.linear.bias)  # w0 = 0\n",
        "\n",
        "    def forward(self, x):\n",
        "        return self.linear(x)\n",
        "\n",
        "    def print_weights(self):\n",
        "        print(f\"w0: {self.linear.bias.item()}, w1: {self.linear.weight.item()}\")\n",
        "\n",
        "    def train(self, x, y_true, learning_rate, num_epochs, weight_decay):\n",
        "        # Поддерживает автоматическую L2-регуляризацию\n",
        "        optimizer = torch.optim.SGD(self.parameters(), lr=learning_rate, weight_decay=weight_decay * 2)\n",
        "\n",
        "        criterion = nn.MSELoss(reduction=\"sum\")\n",
        "        for epoch in range(num_epochs):\n",
        "            # Прямой проход\n",
        "            y_pred = self.forward(x)\n",
        "\n",
        "            # Вычисление функции потерь\n",
        "            loss = criterion(y_pred, y_true)\n",
        "\n",
        "            # Обратное распространение\n",
        "            loss.backward()\n",
        "\n",
        "            # Обновление весов\n",
        "            optimizer.step()\n",
        "            self.print_weights()\n",
        "\n",
        "            # Обнуление градиентов\n",
        "            optimizer.zero_grad()\n",
        "\n",
        "\n",
        "# Создание модели и обучение\n",
        "model = LinearRegressionModel()\n",
        "x = torch.tensor([[-1], [0], [1]], dtype=torch.float32)\n",
        "y_true = torch.tensor([[1], [0], [-1]], dtype=torch.float32)\n",
        "h = 0.1  # learning_rate\n",
        "c = 1.0  # 0.5 * weight_decay\n",
        "num_epochs = 2\n",
        "\n",
        "model.print_weights()\n",
        "model.train(x, y_true, h, num_epochs, c)"
      ],
      "metadata": {
        "colab": {
          "base_uri": "https://localhost:8080/"
        },
        "id": "mYyxbBUVCT27",
        "outputId": "473b0f34-6380-4e3c-840a-4c4ec88cf6fd"
      },
      "execution_count": null,
      "outputs": [
        {
          "output_type": "stream",
          "name": "stdout",
          "text": [
            "w0: 0.0, w1: 0.0\n",
            "w0: 0.0, w1: -0.4000000059604645\n",
            "w0: 0.0, w1: -0.5600000023841858\n"
          ]
        }
      ]
    },
    {
      "cell_type": "code",
      "source": [
        "# Нейронная сеть c регуляризацией L1\n",
        "\n",
        "# Функция производной от модуля x\n",
        "def deriv_mod(x):\n",
        "    return 1 if x > 0 else (0 if x == 0 else - 1)\n",
        "\n",
        "# Коэффициент регуляризации\n",
        "c = 1\n",
        "\n",
        "# Производная L по w1 и w2\n",
        "dL = [\n",
        "    lambda w0, w1: 6 * w0 + 6 * w1 - 12 + c*deriv_mod(w0),\n",
        "    lambda w0, w1: 6 * w0 + 10 * w1 - 16 + c*deriv_mod(w1)\n",
        "]\n",
        "\n",
        "# Исходные значения для ГС\n",
        "a = [0, 0]\n",
        "h = 0.1\n",
        "\n",
        "for i in range(1, 4):\n",
        "    w0, w1 = a\n",
        "    a[0] -= h*dL[0](w0, w1)\n",
        "    a[1] -= h*dL[1](w0, w1)\n",
        "    print('a[', i,']=[', a[0], ',', a[1], ']', sep='')"
      ],
      "metadata": {
        "id": "832fWnCtHM4M",
        "outputId": "01f2a1b6-75e5-4da7-ccc0-a02d0a3c1724",
        "colab": {
          "base_uri": "https://localhost:8080/"
        }
      },
      "execution_count": null,
      "outputs": [
        {
          "output_type": "stream",
          "name": "stdout",
          "text": [
            "a[1]=[1.2000000000000002,1.6]\n",
            "a[2]=[0.6199999999999998,0.7799999999999998]\n",
            "a[3]=[0.8799999999999999,1.1280000000000001]\n"
          ]
        }
      ]
    }
  ]
}
