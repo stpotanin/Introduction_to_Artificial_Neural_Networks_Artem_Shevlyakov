{
  "nbformat": 4,
  "nbformat_minor": 0,
  "metadata": {
    "colab": {
      "provenance": [],
      "authorship_tag": "ABX9TyPMZW7B4m71z4SYqhMmZLZ4"
    },
    "kernelspec": {
      "name": "python3",
      "display_name": "Python 3"
    },
    "language_info": {
      "name": "python"
    }
  },
  "cells": [
    {
      "cell_type": "markdown",
      "source": [
        "https://stepik.org/lesson/572877/step/2\n",
        "\n",
        "Задание на применение школьной формулы дифференцирования сложной функции. Чему равна производная функции $f(x)=e^{sinx}$\n",
        " ? В ответ напишите значение $f'(0)$."
      ],
      "metadata": {
        "id": "QQocGdVnyWEy"
      }
    },
    {
      "cell_type": "markdown",
      "source": [
        "# Решение\n",
        "\n",
        "$f'(x) = e^{sinx}cosx$\n",
        "\n",
        "$f'(0) = e^{sin0}cos0 = 1 * 1 = 1$"
      ],
      "metadata": {
        "id": "m6HqvjnsRm0Q"
      }
    },
    {
      "cell_type": "code",
      "source": [
        "#@title sympy + IPython.display\n",
        "\n",
        "from sympy import symbols, sin, exp, diff\n",
        "from IPython.display import display\n",
        "\n",
        "x = symbols('x')\n",
        "f = exp(sin(x))\n",
        "\n",
        "print('Производная по x:\\n')\n",
        "display(diff(f, x))  # Важно использовать display\n",
        "\n",
        "print('\\nПроизводная по x в точкке 0:\\n')\n",
        "diff(f, x).subs({x:0})"
      ],
      "metadata": {
        "id": "7J_2xbWA5JtA",
        "outputId": "067fcb71-c41c-47bd-9e4b-190bd146a476",
        "colab": {
          "base_uri": "https://localhost:8080/",
          "height": 146
        }
      },
      "execution_count": null,
      "outputs": [
        {
          "output_type": "stream",
          "name": "stdout",
          "text": [
            "Производная по x:\n",
            "\n"
          ]
        },
        {
          "output_type": "display_data",
          "data": {
            "text/plain": [
              "exp(sin(x))*cos(x)"
            ],
            "text/latex": "$\\displaystyle e^{\\sin{\\left(x \\right)}} \\cos{\\left(x \\right)}$"
          },
          "metadata": {}
        },
        {
          "output_type": "stream",
          "name": "stdout",
          "text": [
            "\n",
            "Производная по x в точкке 0:\n",
            "\n"
          ]
        },
        {
          "output_type": "execute_result",
          "data": {
            "text/plain": [
              "1"
            ],
            "text/latex": "$\\displaystyle 1$"
          },
          "metadata": {},
          "execution_count": 4
        }
      ]
    }
  ]
}