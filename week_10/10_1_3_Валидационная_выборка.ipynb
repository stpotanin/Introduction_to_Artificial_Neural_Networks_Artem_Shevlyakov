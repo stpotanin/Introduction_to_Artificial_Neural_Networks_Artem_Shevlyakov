{
  "nbformat": 4,
  "nbformat_minor": 0,
  "metadata": {
    "colab": {
      "provenance": [],
      "authorship_tag": "ABX9TyNnDehwFe/frqs0L289lg1+"
    },
    "kernelspec": {
      "name": "python3",
      "display_name": "Python 3"
    },
    "language_info": {
      "name": "python"
    }
  },
  "cells": [
    {
      "cell_type": "markdown",
      "source": [
        "https://stepik.org/lesson/573098/step/3\n",
        "\n",
        "Допустим, что у нас была тренировочная выборка\n",
        "\n",
        "| Номер курса Х | Самооценка студента Y |\n",
        "|---|---|\n",
        "| 1 | 0 |\n",
        "| 2 | 0 |\n",
        "| 3 | 0 |\n",
        "| 4 | 0 |\n",
        "\n",
        "По ней была натренирована некоторая нейросеть, которая на самом деле вычисляет функцию: $F_{NN} (x)=(x-1)(x-2)(x-3)(x-4)$. Как видно, для всех объектов тренировочной выборки предсказанное нейросетью значение совпадает с истинным значением целевого признака.\n",
        "\n",
        "Но тут (опаньки!) оказывается, что валидационная выборка (которая, естественно, была недоступна на этапе тренировки) представляет собой таблицу:\n",
        "\n",
        "| Номер курса Х | Самооценка студента Y |\n",
        "|---|---|\n",
        "| 1.5 | 0 |\n",
        "| 2.5 | 0 |\n",
        "| 3.5 | 0 |\n",
        "\n",
        "По данной валидационной выборки подсчитайте $МАЕ$. Эта величина уж точно будет ненулевой!"
      ],
      "metadata": {
        "id": "aXFQF0xx98j9"
      }
    },
    {
      "cell_type": "code",
      "execution_count": null,
      "metadata": {
        "id": "mwjjTp9X92RW",
        "colab": {
          "base_uri": "https://localhost:8080/"
        },
        "outputId": "2618ed6c-3b3e-4e84-da77-765f59c91c66"
      },
      "outputs": [
        {
          "output_type": "execute_result",
          "data": {
            "text/plain": [
              "0.8125"
            ]
          },
          "metadata": {},
          "execution_count": 1
        }
      ],
      "source": [
        "f = lambda x: (x-1)*(x-2)*(x-3)*(x-4)\n",
        "MAE = lambda x: sum(abs(f(xi)-0) for xi in x_data) / len(x)\n",
        "x_data = [1.5, 2.5, 3.5]\n",
        "MAE(x_data)"
      ]
    }
  ]
}
