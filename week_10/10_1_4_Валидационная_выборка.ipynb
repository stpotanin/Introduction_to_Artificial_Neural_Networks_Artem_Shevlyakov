{
  "nbformat": 4,
  "nbformat_minor": 0,
  "metadata": {
    "colab": {
      "provenance": [],
      "authorship_tag": "ABX9TyNrxmjexrV1ha+jO7EBRaRx"
    },
    "kernelspec": {
      "name": "python3",
      "display_name": "Python 3"
    },
    "language_info": {
      "name": "python"
    }
  },
  "cells": [
    {
      "cell_type": "markdown",
      "source": [
        "https://stepik.org/lesson/573098/step/4\n",
        "\n",
        "А вот вам задача из жизни на взаимодействие заказчика и исполнителей.\n",
        "\n",
        "Заказчик нанял команду дата-саентистов и снабдил их следующей тренировочной выборкой:\n",
        "\n",
        "| Х | Y |\n",
        "|---|---|\n",
        "| -1 | 1 |\n",
        "| 0 | 0 |\n",
        "| 1 | 1 |\n",
        "\n",
        "Заказчик сказал, что оплатит работу, если значение $ МАЕ $ на валидационной выборке будет не меньше $0.05$ Валидационную выборку заказчик, естественно,  держит в секрете.\n",
        "\n",
        "Дата-саентисты не сильно напрягались и натренировали нейросеть, которая фактически выдает константное значение $ F_{NN}(x) = a $ (значение $a$ пока неизвестно).\n",
        "\n",
        "Валидационная выборка была\n",
        "\n",
        "| Х | Y |\n",
        "|---|---|\n",
        "| -0.5 | 0.25 |\n",
        "| 0.5 | 0.25 |\n",
        "\n",
        "и модель действительно показала на ней $ МАЕ = 0.05 $ Заказчик остался доволен и еще сильнее уверовал в силу машинного обучения.\n",
        "\n",
        "Напишите в окно ответа максимально возможно значение параметра $ a $, при котором могла происходить описанная выше жизненная ситуация."
      ],
      "metadata": {
        "id": "aXFQF0xx98j9"
      }
    },
    {
      "cell_type": "code",
      "source": [
        "# 0.3"
      ],
      "metadata": {
        "id": "MG0tnGpZAboo"
      },
      "execution_count": null,
      "outputs": []
    },
    {
      "cell_type": "code",
      "execution_count": null,
      "metadata": {
        "id": "mwjjTp9X92RW",
        "colab": {
          "base_uri": "https://localhost:8080/"
        },
        "outputId": "d6ded847-8ab8-40bd-aa1b-64914791293c"
      },
      "outputs": [
        {
          "output_type": "stream",
          "name": "stdout",
          "text": [
            "0.0    0.25\n",
            "0.05    0.2\n",
            "0.1    0.15\n",
            "0.15    0.1\n",
            "0.2    0.05\n",
            "0.25    0.0\n",
            "0.3    0.05\n",
            "0.35    0.1\n",
            "0.4    0.15\n",
            "0.45    0.2\n",
            "0.5    0.25\n"
          ]
        }
      ],
      "source": [
        "#@title Подбор\n",
        "f = lambda x: a\n",
        "MAE = lambda x, y: sum(abs(f(xi)-yi) for xi, yi in zip(x, y)) / len(x)\n",
        "x_data = [-0.5, 0.5]\n",
        "y_data = [0.25, 0.25]\n",
        "\n",
        "for ai in range(0, 11):\n",
        "    a = ai / 20\n",
        "    print(a, f'   {MAE(x_data, y_data):.6}')"
      ]
    },
    {
      "cell_type": "code",
      "source": [
        "##@title Для конкретной тестовой выборки:\n",
        "from sympy import symbols, solve, Abs\n",
        "\n",
        "a = symbols('a', real=True)\n",
        "threshold = 0.05\n",
        "\n",
        "MAE = (Abs(a - .25) + Abs(a - .25)) / 2 # от х не зависит вообще\n",
        "\n",
        "max(solve(MAE - threshold))"
      ],
      "metadata": {
        "colab": {
          "base_uri": "https://localhost:8080/",
          "height": 37
        },
        "id": "bx6ekjgbCymX",
        "outputId": "f72781b7-c384-4567-f767-aec0f702f78c"
      },
      "execution_count": null,
      "outputs": [
        {
          "output_type": "execute_result",
          "data": {
            "text/plain": [
              "0.300000000000000"
            ],
            "text/latex": "$\\displaystyle 0.3$"
          },
          "metadata": {},
          "execution_count": 25
        }
      ]
    },
    {
      "cell_type": "code",
      "source": [
        "#@title Метод интервалов:\n",
        "MAE1 = (a - .25 + a - .25) / 2 # a >= .25\n",
        "MAE2 = (.25 - a + .25 - a) / 2 # a < -.25\n",
        "\n",
        "max(solve(MAE1 - threshold)[0], solve(MAE2 - threshold)[0])"
      ],
      "metadata": {
        "colab": {
          "base_uri": "https://localhost:8080/",
          "height": 37
        },
        "id": "Hv6GOm5ZWH4_",
        "outputId": "10d1fdbe-b071-4de9-ed38-dae1a47f017b"
      },
      "execution_count": null,
      "outputs": [
        {
          "output_type": "execute_result",
          "data": {
            "text/plain": [
              "0.300000000000000"
            ],
            "text/latex": "$\\displaystyle 0.3$"
          },
          "metadata": {},
          "execution_count": 24
        }
      ]
    }
  ]
}
