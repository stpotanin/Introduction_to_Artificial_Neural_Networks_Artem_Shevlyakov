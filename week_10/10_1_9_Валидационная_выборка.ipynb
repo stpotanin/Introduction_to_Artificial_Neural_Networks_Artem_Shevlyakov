{
  "nbformat": 4,
  "nbformat_minor": 0,
  "metadata": {
    "colab": {
      "provenance": [],
      "authorship_tag": "ABX9TyPq0eXkrIfJsGvHvpk/TXpY"
    },
    "kernelspec": {
      "name": "python3",
      "display_name": "Python 3"
    },
    "language_info": {
      "name": "python"
    }
  },
  "cells": [
    {
      "cell_type": "markdown",
      "source": [
        "https://stepik.org/lesson/573098/step/9\n",
        "\n",
        "А теперь будем уменьшать параметр $β$. Пусть теперь $β=0.5$. Подсчитайте значение $F_β$ для `precision=0.7` `recall=0.8`, а потом для случая `precision=0.8` `recall=0.7`.\n",
        "\n",
        "У вас получится в итоге два числа. В ответ как и раньше напишите **максимальное из них**."
      ],
      "metadata": {
        "id": "aXFQF0xx98j9"
      }
    },
    {
      "cell_type": "code",
      "source": [
        "# max((1 + .5**2) * .7 * .8 / (.5**2 * .7 + .8), (1 + .5**2) * .8 * .7 / (.5**2 * .8 + .7))\n",
        "max((1 + beta**2) * precision * recall / (beta**2 * precision + recall) \\\n",
        "    for beta, precision, recall in [[.5, .7, .8], [.5, .8, .7]])"
      ],
      "metadata": {
        "id": "MG0tnGpZAboo",
        "colab": {
          "base_uri": "https://localhost:8080/"
        },
        "outputId": "900ce0e9-2cf8-4030-d39a-b6ed69dfba13"
      },
      "execution_count": null,
      "outputs": [
        {
          "output_type": "execute_result",
          "data": {
            "text/plain": [
              "0.7777777777777778"
            ]
          },
          "metadata": {},
          "execution_count": 1
        }
      ]
    },
    {
      "cell_type": "markdown",
      "source": [
        "# Решение\n",
        "\n",
        "$$\n",
        "F_{\\beta} = \\frac {(1 + \\beta^2) \\cdot precision \\cdot recall}{\\beta^2 \\cdot precision + recall}\n",
        "$$\n",
        "\n",
        "$$~$$\n",
        "\n",
        "$$\n",
        "\\frac {(1 + 0.5^2) \\cdot 0.7 \\cdot 0.8}{0.5^2 \\cdot 0.7 + 0.8} = 0.7179\n",
        "$$\n",
        "\n",
        "$$~$$\n",
        "\n",
        "$$\n",
        "\\frac {(1 + 0.5^2) \\cdot 0.8 \\cdot 0.7}{0.5^2 \\cdot 0.8 + 0.7} = 0.7778\n",
        "$$"
      ],
      "metadata": {
        "id": "hNAb5smC45W9"
      }
    }
  ]
}