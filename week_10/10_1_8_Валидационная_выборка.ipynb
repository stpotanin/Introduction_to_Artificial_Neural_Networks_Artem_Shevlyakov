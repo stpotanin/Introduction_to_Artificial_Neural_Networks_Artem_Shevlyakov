{
  "nbformat": 4,
  "nbformat_minor": 0,
  "metadata": {
    "colab": {
      "provenance": [],
      "authorship_tag": "ABX9TyPMqFrHPlwygxh/XEsWGaQN"
    },
    "kernelspec": {
      "name": "python3",
      "display_name": "Python 3"
    },
    "language_info": {
      "name": "python"
    }
  },
  "cells": [
    {
      "cell_type": "markdown",
      "source": [
        "https://stepik.org/lesson/573098/step/8\n",
        "\n",
        "Итак значение величины $F$ одинаково для обоих случаев:\n",
        "\n",
        "1. `precision=0.7` `recall=0.8`\n",
        "\n",
        "2. `precision=0.8` `recall=0.7`\n",
        "\n",
        "В задачах, где precision и recall имеют разную значимость (например в задаче о выявлении больных: признать больного здоровым - это более серьезная ошибка, чем признать больным здорового) **применяют характеристику** $F_β$.\n",
        "\n",
        "Вот и мы также поступим. Найдите для $β=2$ значение $F_{\\beta}$ для `precision=0`.7 `recall=0.8`, а потом для случая `precision=0.8` `recall=0.7`.\n",
        "\n",
        "У вас получится в итоге два числа. В ответ напишите максимальное из них."
      ],
      "metadata": {
        "id": "aXFQF0xx98j9"
      }
    },
    {
      "cell_type": "code",
      "source": [
        "# 0.78\n",
        "# max((1 + 2**2) * 0.7 * 0.8 / (2**2 * 0.7 + 0.8), (1 + 2**2) * 0.8 * 0.7 / (2**2 * 0.8 + 0.7))\n",
        "max((1 + beta**2) * precision * recall / (beta**2 * precision + recall) \\\n",
        "    for beta, precision, recall in [[2, .7, .8], [2, .8, .7]])"
      ],
      "metadata": {
        "id": "MG0tnGpZAboo",
        "colab": {
          "base_uri": "https://localhost:8080/"
        },
        "outputId": "f66decbd-3dd9-4eb8-e401-44a1945983aa"
      },
      "execution_count": null,
      "outputs": [
        {
          "output_type": "execute_result",
          "data": {
            "text/plain": [
              "0.7777777777777779"
            ]
          },
          "metadata": {},
          "execution_count": 15
        }
      ]
    },
    {
      "cell_type": "markdown",
      "source": [
        "# Решение\n",
        "\n",
        "$$\n",
        "F_{\\beta} = \\frac {(1 + \\beta^2) \\cdot precision \\cdot recall}{\\beta^2 \\cdot precision + recall}\n",
        "$$\n",
        "\n",
        "$$~$$\n",
        "\n",
        "$$\n",
        "\\frac {(1 + 2^2) \\cdot 0.7 \\cdot 0.8}{2^2 \\cdot 0.7 + 0.8} = 0.7778\n",
        "$$\n",
        "\n",
        "$$~$$\n",
        "\n",
        "$$\n",
        "\\frac {(1 + 2^2) \\cdot 0.8 \\cdot 0.7}{2^2 \\cdot 0.8 + 0.7} = 0.7179\n",
        "$$\n"
      ],
      "metadata": {
        "id": "hNAb5smC45W9"
      }
    }
  ]
}
