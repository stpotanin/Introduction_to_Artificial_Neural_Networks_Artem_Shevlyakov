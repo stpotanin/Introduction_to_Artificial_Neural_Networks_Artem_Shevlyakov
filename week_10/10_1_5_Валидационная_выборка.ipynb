{
  "nbformat": 4,
  "nbformat_minor": 0,
  "metadata": {
    "colab": {
      "provenance": [],
      "authorship_tag": "ABX9TyOXXYEwD5C4zlFn1/SJ6dwA"
    },
    "kernelspec": {
      "name": "python3",
      "display_name": "Python 3"
    },
    "language_info": {
      "name": "python"
    }
  },
  "cells": [
    {
      "cell_type": "markdown",
      "source": [
        "https://stepik.org/lesson/573098/step/5\n",
        "\n",
        "Займемся валидационной выборкой для задачи классификации.\n",
        "\n",
        "На этот раз команда дата-саентистов тренирует нейросеть, которая по результатам анализа принимает решение, болен (класс 1) или здоров (класс 0) пациент.\n",
        "\n",
        "Нейросеть была натренирована и ей дали некоторую валидационную выборку (ВВ), состоящую из 100 объектов.  Известно, что двух истинных больных нейросеть классифицировала как здоровых, у троих истинных больных были найдены признаки болезни, а пятеро истинно здоровых людей по совету нейросети загремели в больницу.\n",
        "\n",
        "Подсчитайте precision и recall класса 1 для указанной ВВ. Напишите в ответ значение recall."
      ],
      "metadata": {
        "id": "aXFQF0xx98j9"
      }
    },
    {
      "cell_type": "code",
      "source": [
        "# 0.6"
      ],
      "metadata": {
        "id": "MG0tnGpZAboo"
      },
      "execution_count": null,
      "outputs": []
    },
    {
      "cell_type": "markdown",
      "source": [
        "# Решение\n",
        "\n",
        "$ FN = 2 $ (двух истинных больных нейросеть классифицировала как здоровых)\n",
        "\n",
        "$ TP = 3 $ (у троих истинных больных были найдены признаки болезни)\n",
        "\n",
        "$ FP = 5 $ (пятеро истинно здоровых людей по совету нейросети загремели в больницу)\n",
        "\n",
        "$$\n",
        "precision = TP / (TP + FP) = 3 / (3 + 5)\n",
        "$$\n",
        "\n",
        "$$\n",
        "recall = TP / (TP + FN) = 3 / (3 + 2)\n",
        "$$"
      ],
      "metadata": {
        "id": "hNAb5smC45W9"
      }
    },
    {
      "cell_type": "code",
      "source": [
        "print('precision =', 3 / (3 + 5), '   recall =', 3 / (3 + 2))"
      ],
      "metadata": {
        "colab": {
          "base_uri": "https://localhost:8080/"
        },
        "id": "8KU00smi9Q_g",
        "outputId": "ec806b11-f7e5-4b43-b5dc-b1543d34c1c6"
      },
      "execution_count": null,
      "outputs": [
        {
          "output_type": "stream",
          "name": "stdout",
          "text": [
            "precision = 0.375    recall = 0.6\n"
          ]
        }
      ]
    }
  ]
}
