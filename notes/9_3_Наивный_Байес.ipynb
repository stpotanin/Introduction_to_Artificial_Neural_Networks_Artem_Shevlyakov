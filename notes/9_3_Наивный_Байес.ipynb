{
  "nbformat": 4,
  "nbformat_minor": 0,
  "metadata": {
    "colab": {
      "provenance": []
    },
    "kernelspec": {
      "name": "ir",
      "display_name": "R"
    },
    "language_info": {
      "name": "R"
    }
  },
  "cells": [
    {
      "cell_type": "markdown",
      "source": [
        "[Слайды](http://course.omgtu.ru/wp-content/uploads/2021/04/9_%D0%92%D0%B5%D1%80%D0%BE%D1%8F%D1%82%D0%BD%D0%BE%D1%81%D1%82%D0%BD%D1%8B%D0%B5_%D0%B0%D0%BB%D0%B3%D0%BE%D1%80%D0%B8%D1%82%D0%BC%D1%8B.pdf) (26-й слайд) [Видео](https://stepik.org/lesson/83226/step/1)\n",
        "\n"
      ],
      "metadata": {
        "id": "R_LksgzamhNc"
      }
    },
    {
      "cell_type": "code",
      "execution_count": null,
      "metadata": {
        "colab": {
          "base_uri": "https://localhost:8080/",
          "height": 255
        },
        "id": "FkBajLGxmeSZ",
        "outputId": "621fe3d1-88ff-4f8e-befc-01b4056f5153"
      },
      "outputs": [
        {
          "output_type": "display_data",
          "data": {
            "text/html": [
              "<table class=\"dataframe\">\n",
              "<caption>A data.frame: 5 × 3</caption>\n",
              "<thead>\n",
              "\t<tr><th></th><th scope=col>Smoke</th><th scope=col>Cat</th><th scope=col>Sex</th></tr>\n",
              "\t<tr><th></th><th scope=col>&lt;dbl&gt;</th><th scope=col>&lt;dbl&gt;</th><th scope=col>&lt;dbl&gt;</th></tr>\n",
              "</thead>\n",
              "<tbody>\n",
              "\t<tr><th scope=row>A</th><td>0</td><td>1</td><td>1</td></tr>\n",
              "\t<tr><th scope=row>B</th><td>0</td><td>1</td><td>0</td></tr>\n",
              "\t<tr><th scope=row>C</th><td>1</td><td>0</td><td>1</td></tr>\n",
              "\t<tr><th scope=row>D</th><td>1</td><td>0</td><td>0</td></tr>\n",
              "\t<tr><th scope=row>E</th><td>1</td><td>0</td><td>1</td></tr>\n",
              "</tbody>\n",
              "</table>\n"
            ],
            "text/markdown": "\nA data.frame: 5 × 3\n\n| <!--/--> | Smoke &lt;dbl&gt; | Cat &lt;dbl&gt; | Sex &lt;dbl&gt; |\n|---|---|---|---|\n| A | 0 | 1 | 1 |\n| B | 0 | 1 | 0 |\n| C | 1 | 0 | 1 |\n| D | 1 | 0 | 0 |\n| E | 1 | 0 | 1 |\n\n",
            "text/latex": "A data.frame: 5 × 3\n\\begin{tabular}{r|lll}\n  & Smoke & Cat & Sex\\\\\n  & <dbl> & <dbl> & <dbl>\\\\\n\\hline\n\tA & 0 & 1 & 1\\\\\n\tB & 0 & 1 & 0\\\\\n\tC & 1 & 0 & 1\\\\\n\tD & 1 & 0 & 0\\\\\n\tE & 1 & 0 & 1\\\\\n\\end{tabular}\n",
            "text/plain": [
              "  Smoke Cat Sex\n",
              "A 0     1   1  \n",
              "B 0     1   0  \n",
              "C 1     0   1  \n",
              "D 1     0   0  \n",
              "E 1     0   1  "
            ]
          },
          "metadata": {}
        }
      ],
      "source": [
        "data <- rbind('A' = c(0, 1, 1),\n",
        "              'B' = c(0, 1, 0),\n",
        "              'C' = c(1, 0, 1),\n",
        "              'D' = c(1, 0, 0),\n",
        "              'E' = c(1, 0, 1)\n",
        "              )\n",
        "\n",
        "data <- data.frame(data)\n",
        "colnames(data) <- c('Smoke', 'Cat', 'Sex')\n",
        "data\n",
        "\n",
        "# x <- as.vector(data$Smoke)\n",
        "# y <- as.vector(data$Cat)\n",
        "\n",
        "# cor.test(x, y)"
      ]
    },
    {
      "cell_type": "markdown",
      "source": [
        "**Вопрос задачи:**\n",
        "\n",
        "$\n",
        "Pr(Sex|Smoke'Cat')=?\n",
        "Pr(Sex'|Smoke'Cat')=?\n",
        "$\n",
        "\n",
        "**Решение:**\n",
        "\n",
        "Будем искать только Pr(Sex|Smoke'Cat')\n",
        "\n",
        "Чтобы применять формулу Байеса для объекта `F`, то нужно будет знать вероятность:\n",
        "\n",
        "$\n",
        "Pr(Smoke'Cat'|Sex)\\\\\n",
        "$\n",
        "\n",
        "Находим фориулы:\n",
        "\n",
        "$\n",
        "Pr(P'Cat'|Sex)=Pr(P'|Sex)*Pr(Q'|Sex)\\\\\n",
        "Pr(P'Cat'|Sex')=Pr(P'|Sex')*Pr(Q'|Sex')\n",
        "$\n",
        "\n",
        "Из таблицы:\n",
        "\n",
        "$\n",
        "Pr(Smoke'|Sex)=0\\\\\n",
        "Pr(Smoke'|Sex)=0.5\\\\\n",
        "Pr(Smoke'|Sex')=0.5\\\\\n",
        "Pr(Cat'|Sex')=0.5\\\\\n",
        "Pr(Sex)=0.5\\\\\n",
        "Pr(Sex')=0.5\\\\\n",
        "Pr(Smoke'Cat')=Pr(P')*Pr(Q')=0.25*.0.5=0.125$\n",
        "\n",
        "Подставляем:\n",
        "\n",
        "$\n",
        "Pr(Smoke'Cat'|Sex)=0*0.5=0\\\\\n",
        "Pr(Smoke'Cat'|Sex')=0.5*0.5=0.25\n",
        "$\n",
        "\n",
        "По формуле Байеса получаем\n",
        "\n",
        "$\n",
        "Pr(Sex|Smoke'Cat')=Pr(Smoke'Cat'|Sex)*Pr(Sex)/Pr(Smoke'Cat')\\\\\n",
        "Pr(Sex|Smoke'Cat')=0*0.5/0.125=0\n",
        "$\n",
        "\n",
        "P.S. Поскольку мы не считали вторую ветку (вероятность принадлежности к классу `0` объекта `F`), мы действовали не как на 31-м слайде, а нашли $Pr(P'Q')=0.25$"
      ],
      "metadata": {
        "id": "4unqydJCoSuw"
      }
    }
  ]
}
